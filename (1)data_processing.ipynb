{
 "cells": [
  {
   "cell_type": "markdown",
   "id": "955005bd-5836-487e-bc4a-6c0e12d5e9c8",
   "metadata": {},
   "source": [
    "<div style=\"background-color:green; color:white; padding:10px; font-size:20px\">\n",
    "1 - Setup"
   ]
  },
  {
   "cell_type": "code",
   "execution_count": 136,
   "id": "86709472-d1d7-44fb-9847-1b762ac37a23",
   "metadata": {
    "tags": []
   },
   "outputs": [
    {
     "name": "stdout",
     "output_type": "stream",
     "text": [
      "Requirement already satisfied: boto3 in /opt/conda/lib/python3.7/site-packages (1.26.154)\n",
      "Requirement already satisfied: botocore<1.30.0,>=1.29.154 in /opt/conda/lib/python3.7/site-packages (from boto3) (1.29.154)\n",
      "Requirement already satisfied: jmespath<2.0.0,>=0.7.1 in /opt/conda/lib/python3.7/site-packages (from boto3) (1.0.1)\n",
      "Requirement already satisfied: s3transfer<0.7.0,>=0.6.0 in /opt/conda/lib/python3.7/site-packages (from boto3) (0.6.1)\n",
      "Requirement already satisfied: python-dateutil<3.0.0,>=2.1 in /opt/conda/lib/python3.7/site-packages (from botocore<1.30.0,>=1.29.154->boto3) (2.8.2)\n",
      "Requirement already satisfied: urllib3<1.27,>=1.25.4 in /opt/conda/lib/python3.7/site-packages (from botocore<1.30.0,>=1.29.154->boto3) (1.26.16)\n",
      "Requirement already satisfied: six>=1.5 in /opt/conda/lib/python3.7/site-packages (from python-dateutil<3.0.0,>=2.1->botocore<1.30.0,>=1.29.154->boto3) (1.14.0)\n",
      "\u001b[33mWARNING: Running pip as the 'root' user can result in broken permissions and conflicting behaviour with the system package manager. It is recommended to use a virtual environment instead: https://pip.pypa.io/warnings/venv\u001b[0m\u001b[33m\n",
      "\u001b[0m\n",
      "\u001b[1m[\u001b[0m\u001b[34;49mnotice\u001b[0m\u001b[1;39;49m]\u001b[0m\u001b[39;49m A new release of pip is available: \u001b[0m\u001b[31;49m23.1.2\u001b[0m\u001b[39;49m -> \u001b[0m\u001b[32;49m23.2.1\u001b[0m\n",
      "\u001b[1m[\u001b[0m\u001b[34;49mnotice\u001b[0m\u001b[1;39;49m]\u001b[0m\u001b[39;49m To update, run: \u001b[0m\u001b[32;49mpip install --upgrade pip\u001b[0m\n"
     ]
    }
   ],
   "source": [
    "!pip install boto3"
   ]
  },
  {
   "cell_type": "code",
   "execution_count": 137,
   "id": "db4a2633-4e00-4593-915a-095ba582ce50",
   "metadata": {
    "tags": []
   },
   "outputs": [],
   "source": [
    "import boto3\n",
    "import pandas as pd\n",
    "import random\n",
    "\n",
    "# Project Scripts\n",
    "import data_handling"
   ]
  },
  {
   "cell_type": "code",
   "execution_count": 138,
   "id": "d867c925-aa3a-4d28-9bd1-730a51e53c8d",
   "metadata": {
    "tags": []
   },
   "outputs": [
    {
     "data": {
      "text/plain": [
       "<module 'data_handling' from '/root/behavior_project/data_handling.py'>"
      ]
     },
     "execution_count": 138,
     "metadata": {},
     "output_type": "execute_result"
    }
   ],
   "source": [
    "# Re-freshing the module import for development purposes\n",
    "from importlib import reload\n",
    "reload(data_handling)"
   ]
  },
  {
   "cell_type": "markdown",
   "id": "7cb9429b-3da7-4597-b04b-82c096f07f1c",
   "metadata": {
    "tags": []
   },
   "source": [
    "#### Sagemaker User & IAM Credentials"
   ]
  },
  {
   "cell_type": "code",
   "execution_count": 139,
   "id": "3d010e65-8268-4a3a-b7e2-c62c604d8a3b",
   "metadata": {
    "tags": []
   },
   "outputs": [
    {
     "name": "stdout",
     "output_type": "stream",
     "text": [
      "Your AWS Account:  717145514721\n",
      "Logged-in Account: 717145514721\n",
      "User ARN: arn:aws:sts::717145514721:assumed-role/AWS-SageMakerFullAccess-Role/SageMaker\n"
     ]
    }
   ],
   "source": [
    "# Create credentials session (log-in to AWS account)\n",
    "sess = boto3.Session()\n",
    "# Get information about current User\n",
    "sts = sess.client(\"sts\")\n",
    "response = sts.get_caller_identity()\n",
    "\n",
    "print(\"Your AWS Account:  717145514721\")\n",
    "print(\"Logged-in Account:\", response[\"Account\"])\n",
    "print(\"User ARN:\", response[\"Arn\"])"
   ]
  },
  {
   "cell_type": "markdown",
   "id": "6d7414ef-76cb-4b58-93b8-9213f9ee92d6",
   "metadata": {},
   "source": [
    "### S3 Connection"
   ]
  },
  {
   "cell_type": "code",
   "execution_count": 140,
   "id": "26af2eb8-ab31-4feb-81de-e72f6775c5a5",
   "metadata": {
    "tags": []
   },
   "outputs": [
    {
     "name": "stdout",
     "output_type": "stream",
     "text": [
      "Bucket List: ['behavior-project', 'sagemaker-us-east-1-717145514721']\n"
     ]
    }
   ],
   "source": [
    "import boto3\n",
    "\n",
    "# Create a session using your AWS credentials\n",
    "s3 = boto3.client(\"s3\")\n",
    "\n",
    "# List all bucket names\n",
    "response = s3.list_buckets()\n",
    "\n",
    "# Get a list of all bucket names from the response\n",
    "buckets = [bucket[\"Name\"] for bucket in response[\"Buckets\"]]\n",
    "\n",
    "# Print out the bucket list\n",
    "print(\"Bucket List: %s\" % buckets)"
   ]
  },
  {
   "cell_type": "markdown",
   "id": "52502e1b-9a54-44ae-9f12-d6772b721f0c",
   "metadata": {},
   "source": [
    "<div style=\"background-color:green; color:white; padding:10px; font-size:20px\">\n",
    "2 - Data Import"
   ]
  },
  {
   "cell_type": "markdown",
   "id": "e195dc75-bccc-4a64-8a66-06c61a355b86",
   "metadata": {
    "tags": []
   },
   "source": [
    "#### Inspect Single File"
   ]
  },
  {
   "cell_type": "raw",
   "id": "e70a44c4-aca8-4006-94f2-34bb1c04e11d",
   "metadata": {
    "tags": []
   },
   "source": [
    "# Specify the S3 path of your CSV file\n",
    "# mPFC_csv = \"s3://behavior-project/raw-data/mPFC-ICSS/C58_R10_acq_vert.csv\"\n",
    "# FR_csv = \"s3://behavior-project/raw-data/FR-ICSS/C604_C31A_ChR2_xBLA_F20_S03_P04_T_NON_NON.csv\"\n",
    "df = pd.read_csv(FR_csv)\n",
    "df.head(3)"
   ]
  },
  {
   "cell_type": "markdown",
   "id": "772f8426-900b-4cfd-a8e2-21a52a68ccc2",
   "metadata": {},
   "source": [
    "<div style=\"background-color:lightgreen; color:black; padding:10px; font-size:20px\">\n",
    "2.1 - mPFC Import"
   ]
  },
  {
   "cell_type": "code",
   "execution_count": 141,
   "id": "538c87b3-7032-4210-a323-7eadb29f5fef",
   "metadata": {
    "tags": []
   },
   "outputs": [],
   "source": [
    "from data_handling import load_to_dict"
   ]
  },
  {
   "cell_type": "code",
   "execution_count": 142,
   "id": "11c3fc1a-7ddd-4dd4-b08e-8a27c1937824",
   "metadata": {
    "tags": []
   },
   "outputs": [],
   "source": [
    "mPFC_raw_path = \"s3://behavior-project/raw-data/mPFC-ICSS/\"\n",
    "\n",
    "dtype_conversion_dict = {\"float64\": \"float32\", \"int64\": \"bool\"}\n",
    "\n",
    "mPFC_df_dict = load_to_dict(\n",
    "    s3_url=mPFC_raw_path,\n",
    "    dtype_dict=dtype_conversion_dict)"
   ]
  },
  {
   "cell_type": "code",
   "execution_count": 143,
   "id": "b5d7fa05-629f-4dc6-a96d-b9e0e9778f68",
   "metadata": {
    "tags": []
   },
   "outputs": [
    {
     "name": "stdout",
     "output_type": "stream",
     "text": [
      "Dataframe: C58_R10_ChR2_mPFC_30Hz_S01_P02_N_NON_NON\n"
     ]
    },
    {
     "data": {
      "text/html": [
       "<div>\n",
       "<style scoped>\n",
       "    .dataframe tbody tr th:only-of-type {\n",
       "        vertical-align: middle;\n",
       "    }\n",
       "\n",
       "    .dataframe tbody tr th {\n",
       "        vertical-align: top;\n",
       "    }\n",
       "\n",
       "    .dataframe thead th {\n",
       "        text-align: right;\n",
       "    }\n",
       "</style>\n",
       "<table border=\"1\" class=\"dataframe\">\n",
       "  <thead>\n",
       "    <tr style=\"text-align: right;\">\n",
       "      <th></th>\n",
       "      <th>Time</th>\n",
       "      <th>Centre position X</th>\n",
       "      <th>Centre position Y</th>\n",
       "      <th>In Triangle</th>\n",
       "      <th>In Dot</th>\n",
       "      <th>In Horizontal</th>\n",
       "      <th>In Vertical</th>\n",
       "      <th>Triangle active</th>\n",
       "      <th>Dot active</th>\n",
       "      <th>Horizontal active</th>\n",
       "      <th>Vertical active</th>\n",
       "    </tr>\n",
       "  </thead>\n",
       "  <tbody>\n",
       "    <tr>\n",
       "      <th>0</th>\n",
       "      <td>0.000</td>\n",
       "      <td>NaN</td>\n",
       "      <td>NaN</td>\n",
       "      <td>False</td>\n",
       "      <td>False</td>\n",
       "      <td>True</td>\n",
       "      <td>False</td>\n",
       "      <td>False</td>\n",
       "      <td>False</td>\n",
       "      <td>False</td>\n",
       "      <td>False</td>\n",
       "    </tr>\n",
       "    <tr>\n",
       "      <th>1</th>\n",
       "      <td>1.278</td>\n",
       "      <td>475.0</td>\n",
       "      <td>324.0</td>\n",
       "      <td>False</td>\n",
       "      <td>False</td>\n",
       "      <td>True</td>\n",
       "      <td>False</td>\n",
       "      <td>False</td>\n",
       "      <td>False</td>\n",
       "      <td>False</td>\n",
       "      <td>False</td>\n",
       "    </tr>\n",
       "    <tr>\n",
       "      <th>2</th>\n",
       "      <td>1.285</td>\n",
       "      <td>475.0</td>\n",
       "      <td>324.0</td>\n",
       "      <td>False</td>\n",
       "      <td>False</td>\n",
       "      <td>True</td>\n",
       "      <td>False</td>\n",
       "      <td>False</td>\n",
       "      <td>False</td>\n",
       "      <td>True</td>\n",
       "      <td>False</td>\n",
       "    </tr>\n",
       "  </tbody>\n",
       "</table>\n",
       "</div>"
      ],
      "text/plain": [
       "    Time  Centre position X  Centre position Y  In Triangle  In Dot  \\\n",
       "0  0.000                NaN                NaN        False   False   \n",
       "1  1.278              475.0              324.0        False   False   \n",
       "2  1.285              475.0              324.0        False   False   \n",
       "\n",
       "   In Horizontal  In Vertical  Triangle active  Dot active  Horizontal active  \\\n",
       "0           True        False            False       False              False   \n",
       "1           True        False            False       False              False   \n",
       "2           True        False            False       False               True   \n",
       "\n",
       "   Vertical active  \n",
       "0            False  \n",
       "1            False  \n",
       "2            False  "
      ]
     },
     "execution_count": 143,
     "metadata": {},
     "output_type": "execute_result"
    }
   ],
   "source": [
    "# View Loaded Dataframe\n",
    "key, value = next(iter(mPFC_df_dict.items()))\n",
    "print(f\"Dataframe: {key}\")\n",
    "value.head(3)"
   ]
  },
  {
   "cell_type": "code",
   "execution_count": 144,
   "id": "baa4b699-1d0d-4984-bc96-dca830b32168",
   "metadata": {
    "tags": []
   },
   "outputs": [],
   "source": [
    "from data_handling import create_stim_session_list"
   ]
  },
  {
   "cell_type": "code",
   "execution_count": 145,
   "id": "6a3d3c90-185a-4def-b8f6-298cad0525c4",
   "metadata": {
    "tags": []
   },
   "outputs": [
    {
     "data": {
      "text/html": [
       "<div>\n",
       "<style scoped>\n",
       "    .dataframe tbody tr th:only-of-type {\n",
       "        vertical-align: middle;\n",
       "    }\n",
       "\n",
       "    .dataframe tbody tr th {\n",
       "        vertical-align: top;\n",
       "    }\n",
       "\n",
       "    .dataframe thead th {\n",
       "        text-align: right;\n",
       "    }\n",
       "</style>\n",
       "<table border=\"1\" class=\"dataframe\">\n",
       "  <thead>\n",
       "    <tr style=\"text-align: right;\">\n",
       "      <th></th>\n",
       "      <th>session_id</th>\n",
       "      <th>animal_id_1</th>\n",
       "      <th>animal_id_2</th>\n",
       "      <th>virus</th>\n",
       "      <th>stim_target</th>\n",
       "      <th>stim_freq</th>\n",
       "      <th>session_num</th>\n",
       "      <th>pod_num</th>\n",
       "      <th>stim_zone</th>\n",
       "      <th>sens_treat_1</th>\n",
       "      <th>sens_treat_2</th>\n",
       "      <th>stim_session_list</th>\n",
       "    </tr>\n",
       "  </thead>\n",
       "  <tbody>\n",
       "    <tr>\n",
       "      <th>0</th>\n",
       "      <td>C58_R10_ChR2_mPFC_30Hz_S01_P02_N_NON_NON</td>\n",
       "      <td>C58</td>\n",
       "      <td>R10</td>\n",
       "      <td>ChR2</td>\n",
       "      <td>mPFC</td>\n",
       "      <td>30Hz</td>\n",
       "      <td>S01</td>\n",
       "      <td>P02</td>\n",
       "      <td>N</td>\n",
       "      <td>NON</td>\n",
       "      <td>NON</td>\n",
       "      <td>NVN</td>\n",
       "    </tr>\n",
       "    <tr>\n",
       "      <th>1</th>\n",
       "      <td>C58_R10_ChR2_mPFC_30Hz_S02_P02_V_NON_NON</td>\n",
       "      <td>C58</td>\n",
       "      <td>R10</td>\n",
       "      <td>ChR2</td>\n",
       "      <td>mPFC</td>\n",
       "      <td>30Hz</td>\n",
       "      <td>S02</td>\n",
       "      <td>P02</td>\n",
       "      <td>V</td>\n",
       "      <td>NON</td>\n",
       "      <td>NON</td>\n",
       "      <td>NVN</td>\n",
       "    </tr>\n",
       "    <tr>\n",
       "      <th>2</th>\n",
       "      <td>C58_R10_ChR2_mPFC_30Hz_S03_P02_N_NON_NON</td>\n",
       "      <td>C58</td>\n",
       "      <td>R10</td>\n",
       "      <td>ChR2</td>\n",
       "      <td>mPFC</td>\n",
       "      <td>30Hz</td>\n",
       "      <td>S03</td>\n",
       "      <td>P02</td>\n",
       "      <td>N</td>\n",
       "      <td>NON</td>\n",
       "      <td>NON</td>\n",
       "      <td>NVN</td>\n",
       "    </tr>\n",
       "  </tbody>\n",
       "</table>\n",
       "</div>"
      ],
      "text/plain": [
       "                                 session_id animal_id_1 animal_id_2 virus  \\\n",
       "0  C58_R10_ChR2_mPFC_30Hz_S01_P02_N_NON_NON         C58         R10  ChR2   \n",
       "1  C58_R10_ChR2_mPFC_30Hz_S02_P02_V_NON_NON         C58         R10  ChR2   \n",
       "2  C58_R10_ChR2_mPFC_30Hz_S03_P02_N_NON_NON         C58         R10  ChR2   \n",
       "\n",
       "  stim_target stim_freq session_num pod_num stim_zone sens_treat_1  \\\n",
       "0        mPFC      30Hz         S01     P02         N          NON   \n",
       "1        mPFC      30Hz         S02     P02         V          NON   \n",
       "2        mPFC      30Hz         S03     P02         N          NON   \n",
       "\n",
       "  sens_treat_2 stim_session_list  \n",
       "0          NON               NVN  \n",
       "1          NON               NVN  \n",
       "2          NON               NVN  "
      ]
     },
     "execution_count": 145,
     "metadata": {},
     "output_type": "execute_result"
    }
   ],
   "source": [
    "# Get List of Animal ID's\n",
    "animal_ID_list = []\n",
    "for key, value in mPFC_df_dict.items():\n",
    "  animal_ID_list.append(key)\n",
    "\n",
    "# Convert List to DataFrame\n",
    "mPFC_session_info_df = pd.DataFrame(animal_ID_list, columns = ['session_id'])\n",
    "\n",
    "Col_Name_List = ['animal_id_1','animal_id_2','virus','stim_target','stim_freq','session_num','pod_num','stim_zone','sens_treat_1','sens_treat_2']\n",
    "\n",
    "# Parse ID Elements to Separate Columns\n",
    "mPFC_session_info_df[Col_Name_List] = mPFC_session_info_df['session_id'].str.split('_', expand = True)\n",
    "\n",
    "# Function that creates stim zone list for all of the animals sessions\n",
    "mPFC_session_info_df = create_stim_session_list(mPFC_session_info_df)\n",
    "\n",
    "mPFC_session_info_df.head(3)"
   ]
  },
  {
   "cell_type": "markdown",
   "id": "5cc209ab-b0f1-4b33-8ac5-df25a2a3a959",
   "metadata": {
    "tags": []
   },
   "source": [
    "<div style=\"background-color:lightgreen; color:white; padding:10px; font-size:20px\">\n",
    "2.2 - FR Import"
   ]
  },
  {
   "cell_type": "code",
   "execution_count": 146,
   "id": "5915bf1e-d6f0-43f2-9de8-423fe11ed3e9",
   "metadata": {
    "tags": []
   },
   "outputs": [],
   "source": [
    "FR_raw_path = \"s3://behavior-project/raw-data/FR-ICSS/\"\n",
    "\n",
    "dtype_conversion_dict = {\"float64\": \"float32\", \"int64\": \"bool\"}\n",
    "\n",
    "FR_df_dict = load_to_dict(s3_url=FR_raw_path, dtype_dict=dtype_conversion_dict)"
   ]
  },
  {
   "cell_type": "code",
   "execution_count": 147,
   "id": "00de7fa8-8ade-431e-acbc-9f6fb2cc0803",
   "metadata": {
    "tags": []
   },
   "outputs": [
    {
     "name": "stdout",
     "output_type": "stream",
     "text": [
      "Dataframe: C1000_C42A_ChR2_xPVT_F00_S01_P05_N_NON_NON\n"
     ]
    },
    {
     "data": {
      "text/html": [
       "<div>\n",
       "<style scoped>\n",
       "    .dataframe tbody tr th:only-of-type {\n",
       "        vertical-align: middle;\n",
       "    }\n",
       "\n",
       "    .dataframe tbody tr th {\n",
       "        vertical-align: top;\n",
       "    }\n",
       "\n",
       "    .dataframe thead th {\n",
       "        text-align: right;\n",
       "    }\n",
       "</style>\n",
       "<table border=\"1\" class=\"dataframe\">\n",
       "  <thead>\n",
       "    <tr style=\"text-align: right;\">\n",
       "      <th></th>\n",
       "      <th>Time</th>\n",
       "      <th>Centre position X</th>\n",
       "      <th>Centre position Y</th>\n",
       "      <th>In 1t</th>\n",
       "      <th>In 1d</th>\n",
       "      <th>In 1h</th>\n",
       "      <th>In 1v</th>\n",
       "      <th>In 2t</th>\n",
       "      <th>In 2d</th>\n",
       "      <th>In 2h</th>\n",
       "      <th>...</th>\n",
       "      <th>6hs active</th>\n",
       "      <th>6vs active</th>\n",
       "      <th>7ts active</th>\n",
       "      <th>7ds active</th>\n",
       "      <th>7hs active</th>\n",
       "      <th>7vs active</th>\n",
       "      <th>8ts active</th>\n",
       "      <th>8ds active</th>\n",
       "      <th>8hs active</th>\n",
       "      <th>8vs active</th>\n",
       "    </tr>\n",
       "  </thead>\n",
       "  <tbody>\n",
       "    <tr>\n",
       "      <th>0</th>\n",
       "      <td>0.000</td>\n",
       "      <td>NaN</td>\n",
       "      <td>NaN</td>\n",
       "      <td>False</td>\n",
       "      <td>False</td>\n",
       "      <td>False</td>\n",
       "      <td>False</td>\n",
       "      <td>False</td>\n",
       "      <td>False</td>\n",
       "      <td>False</td>\n",
       "      <td>...</td>\n",
       "      <td>False</td>\n",
       "      <td>False</td>\n",
       "      <td>False</td>\n",
       "      <td>False</td>\n",
       "      <td>False</td>\n",
       "      <td>False</td>\n",
       "      <td>False</td>\n",
       "      <td>False</td>\n",
       "      <td>False</td>\n",
       "      <td>False</td>\n",
       "    </tr>\n",
       "    <tr>\n",
       "      <th>1</th>\n",
       "      <td>0.287</td>\n",
       "      <td>271.0</td>\n",
       "      <td>260.0</td>\n",
       "      <td>False</td>\n",
       "      <td>False</td>\n",
       "      <td>False</td>\n",
       "      <td>False</td>\n",
       "      <td>False</td>\n",
       "      <td>False</td>\n",
       "      <td>False</td>\n",
       "      <td>...</td>\n",
       "      <td>False</td>\n",
       "      <td>False</td>\n",
       "      <td>False</td>\n",
       "      <td>False</td>\n",
       "      <td>False</td>\n",
       "      <td>False</td>\n",
       "      <td>False</td>\n",
       "      <td>False</td>\n",
       "      <td>False</td>\n",
       "      <td>False</td>\n",
       "    </tr>\n",
       "    <tr>\n",
       "      <th>2</th>\n",
       "      <td>0.407</td>\n",
       "      <td>261.0</td>\n",
       "      <td>267.0</td>\n",
       "      <td>False</td>\n",
       "      <td>False</td>\n",
       "      <td>False</td>\n",
       "      <td>False</td>\n",
       "      <td>False</td>\n",
       "      <td>False</td>\n",
       "      <td>False</td>\n",
       "      <td>...</td>\n",
       "      <td>False</td>\n",
       "      <td>False</td>\n",
       "      <td>False</td>\n",
       "      <td>False</td>\n",
       "      <td>False</td>\n",
       "      <td>False</td>\n",
       "      <td>False</td>\n",
       "      <td>False</td>\n",
       "      <td>False</td>\n",
       "      <td>False</td>\n",
       "    </tr>\n",
       "  </tbody>\n",
       "</table>\n",
       "<p>3 rows × 67 columns</p>\n",
       "</div>"
      ],
      "text/plain": [
       "    Time  Centre position X  Centre position Y  In 1t  In 1d  In 1h  In 1v  \\\n",
       "0  0.000                NaN                NaN  False  False  False  False   \n",
       "1  0.287              271.0              260.0  False  False  False  False   \n",
       "2  0.407              261.0              267.0  False  False  False  False   \n",
       "\n",
       "   In 2t  In 2d  In 2h  ...  6hs active  6vs active  7ts active  7ds active  \\\n",
       "0  False  False  False  ...       False       False       False       False   \n",
       "1  False  False  False  ...       False       False       False       False   \n",
       "2  False  False  False  ...       False       False       False       False   \n",
       "\n",
       "   7hs active  7vs active  8ts active  8ds active  8hs active  8vs active  \n",
       "0       False       False       False       False       False       False  \n",
       "1       False       False       False       False       False       False  \n",
       "2       False       False       False       False       False       False  \n",
       "\n",
       "[3 rows x 67 columns]"
      ]
     },
     "execution_count": 147,
     "metadata": {},
     "output_type": "execute_result"
    }
   ],
   "source": [
    "# View Loaded Dataframe\n",
    "key, value = next(iter(FR_df_dict.items()))\n",
    "print(f\"Dataframe: {key}\")\n",
    "value.head(3)"
   ]
  },
  {
   "cell_type": "code",
   "execution_count": 148,
   "id": "ab6bd22b-f53d-4d98-ba37-20f95d98bee1",
   "metadata": {
    "tags": []
   },
   "outputs": [
    {
     "data": {
      "text/html": [
       "<div>\n",
       "<style scoped>\n",
       "    .dataframe tbody tr th:only-of-type {\n",
       "        vertical-align: middle;\n",
       "    }\n",
       "\n",
       "    .dataframe tbody tr th {\n",
       "        vertical-align: top;\n",
       "    }\n",
       "\n",
       "    .dataframe thead th {\n",
       "        text-align: right;\n",
       "    }\n",
       "</style>\n",
       "<table border=\"1\" class=\"dataframe\">\n",
       "  <thead>\n",
       "    <tr style=\"text-align: right;\">\n",
       "      <th></th>\n",
       "      <th>session_id</th>\n",
       "      <th>animal_id_1</th>\n",
       "      <th>animal_id_2</th>\n",
       "      <th>virus</th>\n",
       "      <th>stim_target</th>\n",
       "      <th>stim_freq</th>\n",
       "      <th>session_num</th>\n",
       "      <th>pod_num</th>\n",
       "      <th>stim_zone</th>\n",
       "      <th>sens_treat_1</th>\n",
       "      <th>sens_treat_2</th>\n",
       "      <th>stim_session_list</th>\n",
       "    </tr>\n",
       "  </thead>\n",
       "  <tbody>\n",
       "    <tr>\n",
       "      <th>0</th>\n",
       "      <td>C1000_C42A_ChR2_xPVT_F00_S01_P05_N_NON_NON</td>\n",
       "      <td>C1000</td>\n",
       "      <td>C42A</td>\n",
       "      <td>ChR2</td>\n",
       "      <td>xPVT</td>\n",
       "      <td>F00</td>\n",
       "      <td>S01</td>\n",
       "      <td>P05</td>\n",
       "      <td>N</td>\n",
       "      <td>NON</td>\n",
       "      <td>NON</td>\n",
       "      <td>NTD</td>\n",
       "    </tr>\n",
       "    <tr>\n",
       "      <th>1</th>\n",
       "      <td>C1000_C42A_ChR2_xPVT_F20_S02_P05_T_NON_NON</td>\n",
       "      <td>C1000</td>\n",
       "      <td>C42A</td>\n",
       "      <td>ChR2</td>\n",
       "      <td>xPVT</td>\n",
       "      <td>F20</td>\n",
       "      <td>S02</td>\n",
       "      <td>P05</td>\n",
       "      <td>T</td>\n",
       "      <td>NON</td>\n",
       "      <td>NON</td>\n",
       "      <td>NTD</td>\n",
       "    </tr>\n",
       "    <tr>\n",
       "      <th>2</th>\n",
       "      <td>C1000_C42A_ChR2_xPVT_F20_S03_P05_D_NON_NON</td>\n",
       "      <td>C1000</td>\n",
       "      <td>C42A</td>\n",
       "      <td>ChR2</td>\n",
       "      <td>xPVT</td>\n",
       "      <td>F20</td>\n",
       "      <td>S03</td>\n",
       "      <td>P05</td>\n",
       "      <td>D</td>\n",
       "      <td>NON</td>\n",
       "      <td>NON</td>\n",
       "      <td>NTD</td>\n",
       "    </tr>\n",
       "  </tbody>\n",
       "</table>\n",
       "</div>"
      ],
      "text/plain": [
       "                                   session_id animal_id_1 animal_id_2 virus  \\\n",
       "0  C1000_C42A_ChR2_xPVT_F00_S01_P05_N_NON_NON       C1000        C42A  ChR2   \n",
       "1  C1000_C42A_ChR2_xPVT_F20_S02_P05_T_NON_NON       C1000        C42A  ChR2   \n",
       "2  C1000_C42A_ChR2_xPVT_F20_S03_P05_D_NON_NON       C1000        C42A  ChR2   \n",
       "\n",
       "  stim_target stim_freq session_num pod_num stim_zone sens_treat_1  \\\n",
       "0        xPVT       F00         S01     P05         N          NON   \n",
       "1        xPVT       F20         S02     P05         T          NON   \n",
       "2        xPVT       F20         S03     P05         D          NON   \n",
       "\n",
       "  sens_treat_2 stim_session_list  \n",
       "0          NON               NTD  \n",
       "1          NON               NTD  \n",
       "2          NON               NTD  "
      ]
     },
     "execution_count": 148,
     "metadata": {},
     "output_type": "execute_result"
    }
   ],
   "source": [
    "# Get List of Animal ID's\n",
    "animal_ID_list = []\n",
    "for key, value in FR_df_dict.items():\n",
    "  animal_ID_list.append(key)\n",
    "\n",
    "# Convert List to DataFrame\n",
    "FR_session_info_df = pd.DataFrame(animal_ID_list, columns = ['session_id'])\n",
    "\n",
    "Col_Name_List = ['animal_id_1','animal_id_2','virus','stim_target','stim_freq','session_num','pod_num','stim_zone','sens_treat_1','sens_treat_2']\n",
    "\n",
    "# Parse ID Elements to Separate Columns\n",
    "FR_session_info_df[Col_Name_List] = FR_session_info_df['session_id'].str.split('_', expand = True)\n",
    "\n",
    "# Function that creates stim zone list for all of the animals sessions\n",
    "FR_session_info_df = create_stim_session_list(FR_session_info_df)\n",
    "\n",
    "FR_session_info_df.head(3)"
   ]
  },
  {
   "cell_type": "code",
   "execution_count": 149,
   "id": "3c62dc34-5305-4e0c-a420-28bbd4b0a267",
   "metadata": {
    "tags": []
   },
   "outputs": [],
   "source": [
    "# pd.set_option('display.max_rows', None)\n",
    "# FR_df_dict['C604_C31A_ChR2_xBLA_F20_S02_P03_V_NON_NON'].nunique()"
   ]
  },
  {
   "cell_type": "code",
   "execution_count": 150,
   "id": "ca8c8204-4258-492a-a940-b871d23a29a8",
   "metadata": {
    "tags": []
   },
   "outputs": [],
   "source": [
    "# pd.set_option('display.max_rows', None)\n",
    "# FR_df_dict['C604_C31A_ChR2_xBLA_F00_S01_P03_N_NON_NON'].nunique()"
   ]
  },
  {
   "cell_type": "code",
   "execution_count": 151,
   "id": "23c3d8e0-c2d3-475a-b44e-c96e6b6a8dee",
   "metadata": {
    "tags": []
   },
   "outputs": [],
   "source": [
    "# pd.set_option('display.max_rows', None)\n",
    "# FR_df_dict['C604_C31A_ChR2_xBLA_F20_S03_P03_T_NON_NON'].nunique()"
   ]
  },
  {
   "cell_type": "markdown",
   "id": "45fcb7e0-1ff1-4d53-9245-bb9b320cca4d",
   "metadata": {},
   "source": [
    "<div style=\"background-color:green; color:white; padding:10px; font-size:20px\">\n",
    "3 - Data Cleaning"
   ]
  },
  {
   "cell_type": "code",
   "execution_count": 152,
   "id": "92033a8f-da21-438c-9415-d4fcc41f13ee",
   "metadata": {
    "tags": []
   },
   "outputs": [],
   "source": [
    "from data_handling import remove_columns\n",
    "from data_handling import view_rand_df"
   ]
  },
  {
   "cell_type": "code",
   "execution_count": 153,
   "id": "82f3dacf-2fd7-4cd3-9998-a4d1f0814391",
   "metadata": {
    "tags": []
   },
   "outputs": [],
   "source": [
    "def check_same_columns(df_dictionary):\n",
    "    # Initialize a list to hold the column names of each dataframe\n",
    "    cols_list = []\n",
    "\n",
    "    # Iterate over each dataframe in the dictionary\n",
    "    for key, df in df_dictionary.items():\n",
    "        cols_list.append(df.columns.tolist())\n",
    "\n",
    "    # Check if all column lists in cols_list are the same\n",
    "    return all(cols == cols_list[0] for cols in cols_list)"
   ]
  },
  {
   "cell_type": "markdown",
   "id": "69f5e384-2175-45b3-938f-937f47eea2c1",
   "metadata": {
    "tags": []
   },
   "source": [
    "<div style=\"background-color:lightgreen; color:black; padding:10px; font-size:20px\">\n",
    "mPFC"
   ]
  },
  {
   "cell_type": "code",
   "execution_count": 154,
   "id": "e089ec57-0eaa-468c-8652-40bd55bb24d4",
   "metadata": {
    "tags": []
   },
   "outputs": [
    {
     "name": "stdout",
     "output_type": "stream",
     "text": [
      "dict_keys([])\n"
     ]
    }
   ],
   "source": [
    "col_removal_list = 'Not in 1t','Not in 1d','Not in 1h','Not in 1v'\n",
    "\n",
    "mPFC_df_dict, removal_summary = remove_columns(mPFC_df_dict, col_removal_list)\n",
    "print(removal_summary.keys())"
   ]
  },
  {
   "cell_type": "code",
   "execution_count": 155,
   "id": "1d5407fe-7d91-45b9-891c-0418a5bd01cf",
   "metadata": {
    "tags": []
   },
   "outputs": [
    {
     "data": {
      "text/plain": [
       "True"
      ]
     },
     "execution_count": 155,
     "metadata": {},
     "output_type": "execute_result"
    }
   ],
   "source": [
    "# Check for Column Uniformity\n",
    "same_columns = check_same_columns(mPFC_df_dict)\n",
    "same_columns"
   ]
  },
  {
   "cell_type": "code",
   "execution_count": 156,
   "id": "efc0a575-96e3-4c6b-b9b3-608c4b8d4c09",
   "metadata": {
    "tags": []
   },
   "outputs": [],
   "source": [
    "def rename_columns(rename_col_dict, df_dict):\n",
    "    # Convert the rename dictionary keys and values to lower case\n",
    "    rename_col_dict = {k.lower(): v.lower() for k, v in rename_col_dict.items()}\n",
    "\n",
    "    for key, df in df_dict.items():\n",
    "        # Convert the DataFrame column names to lower case\n",
    "        df.columns = df.columns.str.lower()\n",
    "\n",
    "        # Rename the columns\n",
    "        df.rename(columns=rename_col_dict, inplace=True)\n",
    "\n",
    "    return df_dict"
   ]
  },
  {
   "cell_type": "code",
   "execution_count": 157,
   "id": "cd3e3c6b-0bc3-439e-b79a-a509c8e394c3",
   "metadata": {
    "tags": []
   },
   "outputs": [],
   "source": [
    "rename_col_dict = {'in triangle':'in_t',\n",
    "                  'in dot':'in_d',\n",
    "                  'in horizontal':'in_h',\n",
    "                  'in vertical':'in_v',}\n",
    "\n",
    "mPFC_df_dict = rename_columns(rename_col_dict, mPFC_df_dict)"
   ]
  },
  {
   "cell_type": "code",
   "execution_count": 158,
   "id": "9db34361-6e3d-47c6-b041-3e86fa1f9c43",
   "metadata": {
    "tags": []
   },
   "outputs": [
    {
     "name": "stdout",
     "output_type": "stream",
     "text": [
      "Dataframe: C58_R20_ChR2_mPFC_30Hz_S02_P04_V_NON_NON\n",
      "stim_session_list: NV-\n"
     ]
    },
    {
     "data": {
      "text/html": [
       "<div>\n",
       "<style scoped>\n",
       "    .dataframe tbody tr th:only-of-type {\n",
       "        vertical-align: middle;\n",
       "    }\n",
       "\n",
       "    .dataframe tbody tr th {\n",
       "        vertical-align: top;\n",
       "    }\n",
       "\n",
       "    .dataframe thead th {\n",
       "        text-align: right;\n",
       "    }\n",
       "</style>\n",
       "<table border=\"1\" class=\"dataframe\">\n",
       "  <thead>\n",
       "    <tr style=\"text-align: right;\">\n",
       "      <th></th>\n",
       "      <th>time</th>\n",
       "      <th>centre position x</th>\n",
       "      <th>centre position y</th>\n",
       "      <th>in_t</th>\n",
       "      <th>in_d</th>\n",
       "      <th>in_h</th>\n",
       "      <th>in_v</th>\n",
       "      <th>triangle active</th>\n",
       "      <th>dot active</th>\n",
       "      <th>horizontal active</th>\n",
       "      <th>vertical active</th>\n",
       "    </tr>\n",
       "  </thead>\n",
       "  <tbody>\n",
       "    <tr>\n",
       "      <th>0</th>\n",
       "      <td>0.000</td>\n",
       "      <td>NaN</td>\n",
       "      <td>NaN</td>\n",
       "      <td>False</td>\n",
       "      <td>True</td>\n",
       "      <td>False</td>\n",
       "      <td>False</td>\n",
       "      <td>False</td>\n",
       "      <td>False</td>\n",
       "      <td>False</td>\n",
       "      <td>False</td>\n",
       "    </tr>\n",
       "    <tr>\n",
       "      <th>1</th>\n",
       "      <td>0.399</td>\n",
       "      <td>475.0</td>\n",
       "      <td>185.0</td>\n",
       "      <td>False</td>\n",
       "      <td>True</td>\n",
       "      <td>False</td>\n",
       "      <td>False</td>\n",
       "      <td>False</td>\n",
       "      <td>False</td>\n",
       "      <td>False</td>\n",
       "      <td>False</td>\n",
       "    </tr>\n",
       "    <tr>\n",
       "      <th>2</th>\n",
       "      <td>0.407</td>\n",
       "      <td>475.0</td>\n",
       "      <td>185.0</td>\n",
       "      <td>False</td>\n",
       "      <td>True</td>\n",
       "      <td>False</td>\n",
       "      <td>False</td>\n",
       "      <td>False</td>\n",
       "      <td>True</td>\n",
       "      <td>False</td>\n",
       "      <td>False</td>\n",
       "    </tr>\n",
       "  </tbody>\n",
       "</table>\n",
       "</div>"
      ],
      "text/plain": [
       "    time  centre position x  centre position y   in_t  in_d   in_h   in_v  \\\n",
       "0  0.000                NaN                NaN  False  True  False  False   \n",
       "1  0.399              475.0              185.0  False  True  False  False   \n",
       "2  0.407              475.0              185.0  False  True  False  False   \n",
       "\n",
       "   triangle active  dot active  horizontal active  vertical active  \n",
       "0            False       False              False            False  \n",
       "1            False       False              False            False  \n",
       "2            False        True              False            False  "
      ]
     },
     "execution_count": 158,
     "metadata": {},
     "output_type": "execute_result"
    }
   ],
   "source": [
    "# View Results\n",
    "view_rand_df(df_dict = mPFC_df_dict, info_df = mPFC_session_info_df)"
   ]
  },
  {
   "cell_type": "markdown",
   "id": "f5726743-2ade-4a0d-8104-d0ea11d8e434",
   "metadata": {},
   "source": [
    "#### Remove Irrelevant 'Active Zone' Cols"
   ]
  },
  {
   "cell_type": "code",
   "execution_count": 159,
   "id": "7e2f5a32-bd72-4c94-bf12-40c608f3a679",
   "metadata": {
    "tags": []
   },
   "outputs": [],
   "source": [
    "DF_DICTIONARY = mPFC_df_dict\n",
    "INFO_DF = mPFC_session_info_df\n",
    "\n",
    "for key, value in DF_DICTIONARY.items():\n",
    "\n",
    "  # Grab session activation zone\n",
    "  active_zone = key.split('_')[7]\n",
    "\n",
    "  # Grab sessions list for animal\n",
    "  session_list_str = INFO_DF[INFO_DF['session_id'] == key]['stim_session_list'].to_string(index=False)\n",
    "  S01 = session_list_str[0] # 1st str element\n",
    "  S02 = session_list_str[1] # 2nd str element\n",
    "  S03 = session_list_str[2] # 3rd str element\n",
    "\n",
    "  if key.split('_')[7] == 'N':\n",
    "    active_zone = S02 # Grabbing the zone from animal's acquisition session\n",
    "\n",
    "  column_to_duplicate = None\n",
    "\n",
    "  # Check which column to duplicate based on active_zone\n",
    "  if active_zone == 'T':\n",
    "    column_to_duplicate = next((col for col in value.columns if col.startswith('in') and 't' in col), None)\n",
    "\n",
    "  elif active_zone == 'D':\n",
    "    column_to_duplicate = next((col for col in value.columns if col.startswith('in') and 'd' in col), None)\n",
    "\n",
    "  elif active_zone == 'H':\n",
    "    column_to_duplicate = next((col for col in value.columns if col.startswith('in') and 'h' in col), None)\n",
    "\n",
    "  elif active_zone == 'V':\n",
    "    column_to_duplicate = next((col for col in value.columns if col.startswith('in') and 'v' in col), None)\n",
    "\n",
    "  # Assert that column_to_duplicate has been set to something other than None\n",
    "  assert column_to_duplicate is not None, f\"No column to duplicate found for active_zone {active_zone} in dataframe {key}\"\n",
    "\n",
    "  # If a column to duplicate was found, duplicate it\n",
    "  if column_to_duplicate is not None:\n",
    "    new_column_name = f\"session_zone_({active_zone})\"\n",
    "    value[new_column_name] = value[column_to_duplicate]\n",
    "\n",
    "  # Assert that the new column was created\n",
    "  assert new_column_name in value.columns, f\"New column {new_column_name} not created in dataframe {key}\"\n",
    "\n",
    "  # Drop all columns that contain 'active' in their name\n",
    "  value.drop([col for col in value.columns if 'active' in col], axis=1, inplace=True)\n",
    "\n",
    "  # Assert that the new column wasn't dropped\n",
    "  assert new_column_name in value.columns, f\"New column {new_column_name} was dropped from dataframe {key}\""
   ]
  },
  {
   "cell_type": "code",
   "execution_count": 160,
   "id": "729c8320-bd93-4b41-8c36-4be607d54af4",
   "metadata": {
    "tags": []
   },
   "outputs": [
    {
     "name": "stdout",
     "output_type": "stream",
     "text": [
      "Dataframe: C59_R30_ChR2_mPFC_30Hz_S02_P06_V_NON_NON\n",
      "stim_session_list: NVN\n"
     ]
    },
    {
     "data": {
      "text/html": [
       "<div>\n",
       "<style scoped>\n",
       "    .dataframe tbody tr th:only-of-type {\n",
       "        vertical-align: middle;\n",
       "    }\n",
       "\n",
       "    .dataframe tbody tr th {\n",
       "        vertical-align: top;\n",
       "    }\n",
       "\n",
       "    .dataframe thead th {\n",
       "        text-align: right;\n",
       "    }\n",
       "</style>\n",
       "<table border=\"1\" class=\"dataframe\">\n",
       "  <thead>\n",
       "    <tr style=\"text-align: right;\">\n",
       "      <th></th>\n",
       "      <th>time</th>\n",
       "      <th>centre position x</th>\n",
       "      <th>centre position y</th>\n",
       "      <th>in_t</th>\n",
       "      <th>in_d</th>\n",
       "      <th>in_h</th>\n",
       "      <th>in_v</th>\n",
       "      <th>session_zone_(V)</th>\n",
       "    </tr>\n",
       "  </thead>\n",
       "  <tbody>\n",
       "    <tr>\n",
       "      <th>0</th>\n",
       "      <td>0.000</td>\n",
       "      <td>NaN</td>\n",
       "      <td>NaN</td>\n",
       "      <td>False</td>\n",
       "      <td>False</td>\n",
       "      <td>True</td>\n",
       "      <td>False</td>\n",
       "      <td>False</td>\n",
       "    </tr>\n",
       "    <tr>\n",
       "      <th>1</th>\n",
       "      <td>0.859</td>\n",
       "      <td>415.0</td>\n",
       "      <td>391.0</td>\n",
       "      <td>False</td>\n",
       "      <td>False</td>\n",
       "      <td>True</td>\n",
       "      <td>False</td>\n",
       "      <td>False</td>\n",
       "    </tr>\n",
       "    <tr>\n",
       "      <th>2</th>\n",
       "      <td>0.868</td>\n",
       "      <td>415.0</td>\n",
       "      <td>391.0</td>\n",
       "      <td>False</td>\n",
       "      <td>False</td>\n",
       "      <td>True</td>\n",
       "      <td>False</td>\n",
       "      <td>False</td>\n",
       "    </tr>\n",
       "  </tbody>\n",
       "</table>\n",
       "</div>"
      ],
      "text/plain": [
       "    time  centre position x  centre position y   in_t   in_d  in_h   in_v  \\\n",
       "0  0.000                NaN                NaN  False  False  True  False   \n",
       "1  0.859              415.0              391.0  False  False  True  False   \n",
       "2  0.868              415.0              391.0  False  False  True  False   \n",
       "\n",
       "   session_zone_(V)  \n",
       "0             False  \n",
       "1             False  \n",
       "2             False  "
      ]
     },
     "execution_count": 160,
     "metadata": {},
     "output_type": "execute_result"
    }
   ],
   "source": [
    "# View Results\n",
    "view_rand_df(df_dict = mPFC_df_dict, info_df = mPFC_session_info_df)"
   ]
  },
  {
   "cell_type": "markdown",
   "id": "f28f0f50-b8c5-490a-88b0-b6eb66787969",
   "metadata": {},
   "source": [
    "#### Str Formatting"
   ]
  },
  {
   "cell_type": "code",
   "execution_count": 161,
   "id": "159c6c7e-c904-4b9c-ad2d-9c58741452a0",
   "metadata": {
    "tags": []
   },
   "outputs": [],
   "source": [
    "from data_handling import format_cols"
   ]
  },
  {
   "cell_type": "code",
   "execution_count": 162,
   "id": "32944f2a-af8a-44d4-b07c-7340b41ee660",
   "metadata": {
    "tags": []
   },
   "outputs": [],
   "source": [
    "col_rename_dict = {\"centre position x\":\"x_position\",\n",
    "                   \"centre position y\":\"y_position\",\n",
    "                   \"in triangle\":\"in_t\",\n",
    "                   \"in dot\":\"in_d\",\n",
    "                   \"in horizontal\":\"in_h\",\n",
    "                   \"in vertical\":\"in_v\"}\n",
    "\n",
    "mPFC_df_dict = format_cols(mPFC_df_dict, col_rename_dict)"
   ]
  },
  {
   "cell_type": "code",
   "execution_count": 163,
   "id": "1f5b7e3c-1d97-4085-8f33-aa9a57db7ec7",
   "metadata": {
    "tags": []
   },
   "outputs": [
    {
     "name": "stdout",
     "output_type": "stream",
     "text": [
      "Dataframe: C58_R12_ChR2_mPFC_30Hz_S02_P04_D_NON_NON\n",
      "stim_session_list: NDN\n"
     ]
    },
    {
     "data": {
      "text/html": [
       "<div>\n",
       "<style scoped>\n",
       "    .dataframe tbody tr th:only-of-type {\n",
       "        vertical-align: middle;\n",
       "    }\n",
       "\n",
       "    .dataframe tbody tr th {\n",
       "        vertical-align: top;\n",
       "    }\n",
       "\n",
       "    .dataframe thead th {\n",
       "        text-align: right;\n",
       "    }\n",
       "</style>\n",
       "<table border=\"1\" class=\"dataframe\">\n",
       "  <thead>\n",
       "    <tr style=\"text-align: right;\">\n",
       "      <th></th>\n",
       "      <th>time</th>\n",
       "      <th>centre_position_x</th>\n",
       "      <th>centre_position_y</th>\n",
       "      <th>in_t</th>\n",
       "      <th>in_d</th>\n",
       "      <th>in_h</th>\n",
       "      <th>in_v</th>\n",
       "      <th>session_zone_(d)</th>\n",
       "    </tr>\n",
       "  </thead>\n",
       "  <tbody>\n",
       "    <tr>\n",
       "      <th>0</th>\n",
       "      <td>0.000</td>\n",
       "      <td>NaN</td>\n",
       "      <td>NaN</td>\n",
       "      <td>False</td>\n",
       "      <td>False</td>\n",
       "      <td>True</td>\n",
       "      <td>False</td>\n",
       "      <td>False</td>\n",
       "    </tr>\n",
       "    <tr>\n",
       "      <th>1</th>\n",
       "      <td>0.573</td>\n",
       "      <td>480.0</td>\n",
       "      <td>422.0</td>\n",
       "      <td>False</td>\n",
       "      <td>False</td>\n",
       "      <td>True</td>\n",
       "      <td>False</td>\n",
       "      <td>False</td>\n",
       "    </tr>\n",
       "    <tr>\n",
       "      <th>2</th>\n",
       "      <td>0.581</td>\n",
       "      <td>480.0</td>\n",
       "      <td>422.0</td>\n",
       "      <td>False</td>\n",
       "      <td>False</td>\n",
       "      <td>True</td>\n",
       "      <td>False</td>\n",
       "      <td>False</td>\n",
       "    </tr>\n",
       "  </tbody>\n",
       "</table>\n",
       "</div>"
      ],
      "text/plain": [
       "    time  centre_position_x  centre_position_y   in_t   in_d  in_h   in_v  \\\n",
       "0  0.000                NaN                NaN  False  False  True  False   \n",
       "1  0.573              480.0              422.0  False  False  True  False   \n",
       "2  0.581              480.0              422.0  False  False  True  False   \n",
       "\n",
       "   session_zone_(d)  \n",
       "0             False  \n",
       "1             False  \n",
       "2             False  "
      ]
     },
     "execution_count": 163,
     "metadata": {},
     "output_type": "execute_result"
    }
   ],
   "source": [
    "# View Results\n",
    "view_rand_df(df_dict = mPFC_df_dict, info_df = mPFC_session_info_df)"
   ]
  },
  {
   "cell_type": "code",
   "execution_count": 164,
   "id": "a3b766f9-a9fc-4f52-816b-e41b2a68bb58",
   "metadata": {
    "tags": []
   },
   "outputs": [
    {
     "data": {
      "text/plain": [
       "Index(['time', 'centre_position_x', 'centre_position_y', 'in_t', 'in_d',\n",
       "       'in_h', 'in_v', 'session_zone_(v)'],\n",
       "      dtype='object')"
      ]
     },
     "execution_count": 164,
     "metadata": {},
     "output_type": "execute_result"
    }
   ],
   "source": [
    "next(iter(mPFC_df_dict.values())).columns"
   ]
  },
  {
   "cell_type": "markdown",
   "id": "b5ce0f69-c09f-4d31-82be-51759be583bc",
   "metadata": {},
   "source": [
    "<div style=\"background-color:lightgreen; color:black; padding:10px; font-size:20px\">\n",
    "FR_ICSS"
   ]
  },
  {
   "cell_type": "code",
   "execution_count": 165,
   "id": "74dfc12a-20bf-428a-9ae4-018a75f14e6d",
   "metadata": {
    "tags": []
   },
   "outputs": [
    {
     "name": "stdout",
     "output_type": "stream",
     "text": [
      "dict_keys(['C907_C39A_ChR2_xPVT_F00_S01_P04_N_NON_NON', 'C907_C39A_ChR2_xPVT_F30_S02_P04_D_NON_NON', 'C907_C39A_ChR2_xPVT_F30_S03_P04_H_NON_NON', 'C908_C39A_ChR2_xPVT_F00_S01_P05_N_NON_NON', 'C908_C39A_ChR2_xPVT_F20_S02_P05_D_NON_NON', 'C908_C39A_ChR2_xPVT_F20_S03_P05_V_NON_NON'])\n"
     ]
    }
   ],
   "source": [
    "col_removal_list = 'Not in 1t','Not in 1d','Not in 1h','Not in 1v'\n",
    "\n",
    "FR_df_dict, removal_summary = remove_columns(FR_df_dict, col_removal_list)\n",
    "print(removal_summary.keys())"
   ]
  },
  {
   "cell_type": "code",
   "execution_count": 166,
   "id": "6c797cf3-6955-4141-8b3f-5c377745249b",
   "metadata": {
    "tags": []
   },
   "outputs": [
    {
     "data": {
      "text/plain": [
       "True"
      ]
     },
     "execution_count": 166,
     "metadata": {},
     "output_type": "execute_result"
    }
   ],
   "source": [
    "# Check for Column Uniformity\n",
    "same_columns = check_same_columns(FR_df_dict)\n",
    "same_columns"
   ]
  },
  {
   "cell_type": "markdown",
   "id": "32e7eb30-fa0d-434d-8ef5-9cfff202fc1f",
   "metadata": {},
   "source": [
    "### Removing Irrelevant Columns\n",
    "The FR_ICSS dataset came with zone columns for all pods. Even though one session pertians to only one pod at a time. The code below removes any pod information not relevant to the current session pod."
   ]
  },
  {
   "cell_type": "code",
   "execution_count": 167,
   "id": "e07f401d-a9e4-4455-b53f-5ff6a4d24c37",
   "metadata": {
    "tags": []
   },
   "outputs": [],
   "source": [
    "# Dictionary of 'Keep Column' lists\n",
    "column_dict = {\n",
    "    'P01': ['Time', 'Centre position X', 'Centre position Y', 'In 1t', 'In 1d', 'In 1h', 'In 1v', '1ts active', '1ds active', '1hs active', '1vs active'],\n",
    "    'P02': ['Time', 'Centre position X', 'Centre position Y', 'In 2t', 'In 2d', 'In 2h', 'In 2v', '2ts active', '2ds active', '2hs active', '2vs active'],\n",
    "    'P03': ['Time', 'Centre position X', 'Centre position Y', 'In 3t', 'In 3d', 'In 3h', 'In 3v', '3ts active', '3ds active', '3hs active', '3vs active'],\n",
    "    'P04': ['Time', 'Centre position X', 'Centre position Y', 'In 4t', 'In 4d', 'In 4h', 'In 4v', '4ts active', '4ds active', '4hs active', '4vs active'],\n",
    "    'P05': ['Time', 'Centre position X', 'Centre position Y', 'In 5t', 'In 5d', 'In 5h', 'In 5v', '5ts active', '5ds active', '5hs active', '5vs active'],\n",
    "    'P06': ['Time', 'Centre position X', 'Centre position Y', 'In 6t', 'In 6d', 'In 6h', 'In 6v', '6ts active', '6ds active', '6hs active', '6vs active'],\n",
    "    'P07': ['Time', 'Centre position X', 'Centre position Y', 'In 7t', 'In 7d', 'In 7h', 'In 7v', '7ts active', '7ds active', '7hs active', '7vs active'],\n",
    "    'P08': ['Time', 'Centre position X', 'Centre position Y', 'In 8t', 'In 8d', 'In 8h', 'In 8v', '8ts active', '8ds active', '8hs active', '8vs active'],\n",
    "}\n",
    "\n",
    "for key, value in FR_df_dict.items():\n",
    "    identifier = key.split('_')[6]\n",
    "    \n",
    "    if identifier in column_dict:\n",
    "        # Subset Columns\n",
    "        FR_df_dict[key] = value[column_dict[identifier]]\n",
    "    else:\n",
    "        print('Identifier not found')"
   ]
  },
  {
   "cell_type": "code",
   "execution_count": 168,
   "id": "310d26b7-863d-4b22-83fb-d76fbba232cf",
   "metadata": {
    "tags": []
   },
   "outputs": [
    {
     "name": "stdout",
     "output_type": "stream",
     "text": [
      "Dataframe: C1000_C42A_ChR2_xPVT_F00_S01_P05_N_NON_NON\n"
     ]
    },
    {
     "data": {
      "text/html": [
       "<div>\n",
       "<style scoped>\n",
       "    .dataframe tbody tr th:only-of-type {\n",
       "        vertical-align: middle;\n",
       "    }\n",
       "\n",
       "    .dataframe tbody tr th {\n",
       "        vertical-align: top;\n",
       "    }\n",
       "\n",
       "    .dataframe thead th {\n",
       "        text-align: right;\n",
       "    }\n",
       "</style>\n",
       "<table border=\"1\" class=\"dataframe\">\n",
       "  <thead>\n",
       "    <tr style=\"text-align: right;\">\n",
       "      <th></th>\n",
       "      <th>Time</th>\n",
       "      <th>Centre position X</th>\n",
       "      <th>Centre position Y</th>\n",
       "      <th>In 5t</th>\n",
       "      <th>In 5d</th>\n",
       "      <th>In 5h</th>\n",
       "      <th>In 5v</th>\n",
       "      <th>5ts active</th>\n",
       "      <th>5ds active</th>\n",
       "      <th>5hs active</th>\n",
       "      <th>5vs active</th>\n",
       "    </tr>\n",
       "  </thead>\n",
       "  <tbody>\n",
       "    <tr>\n",
       "      <th>0</th>\n",
       "      <td>0.000</td>\n",
       "      <td>NaN</td>\n",
       "      <td>NaN</td>\n",
       "      <td>False</td>\n",
       "      <td>False</td>\n",
       "      <td>False</td>\n",
       "      <td>False</td>\n",
       "      <td>False</td>\n",
       "      <td>False</td>\n",
       "      <td>False</td>\n",
       "      <td>False</td>\n",
       "    </tr>\n",
       "    <tr>\n",
       "      <th>1</th>\n",
       "      <td>0.287</td>\n",
       "      <td>271.0</td>\n",
       "      <td>260.0</td>\n",
       "      <td>False</td>\n",
       "      <td>False</td>\n",
       "      <td>False</td>\n",
       "      <td>False</td>\n",
       "      <td>False</td>\n",
       "      <td>False</td>\n",
       "      <td>False</td>\n",
       "      <td>False</td>\n",
       "    </tr>\n",
       "    <tr>\n",
       "      <th>2</th>\n",
       "      <td>0.407</td>\n",
       "      <td>261.0</td>\n",
       "      <td>267.0</td>\n",
       "      <td>False</td>\n",
       "      <td>False</td>\n",
       "      <td>False</td>\n",
       "      <td>False</td>\n",
       "      <td>False</td>\n",
       "      <td>False</td>\n",
       "      <td>False</td>\n",
       "      <td>False</td>\n",
       "    </tr>\n",
       "  </tbody>\n",
       "</table>\n",
       "</div>"
      ],
      "text/plain": [
       "    Time  Centre position X  Centre position Y  In 5t  In 5d  In 5h  In 5v  \\\n",
       "0  0.000                NaN                NaN  False  False  False  False   \n",
       "1  0.287              271.0              260.0  False  False  False  False   \n",
       "2  0.407              261.0              267.0  False  False  False  False   \n",
       "\n",
       "   5ts active  5ds active  5hs active  5vs active  \n",
       "0       False       False       False       False  \n",
       "1       False       False       False       False  \n",
       "2       False       False       False       False  "
      ]
     },
     "execution_count": 168,
     "metadata": {},
     "output_type": "execute_result"
    }
   ],
   "source": [
    "# View Dataframe\n",
    "key, value = next(iter(FR_df_dict.items()))\n",
    "print(f\"Dataframe: {key}\")\n",
    "value.head(3)"
   ]
  },
  {
   "cell_type": "markdown",
   "id": "1bf09494-34d7-4736-9a28-8c6771742ffb",
   "metadata": {
    "tags": []
   },
   "source": [
    "#### Remove Irrelevant Cols & Add 'active_zone'"
   ]
  },
  {
   "cell_type": "code",
   "execution_count": 169,
   "id": "708b8db7-6a4d-4477-b336-33cd25872ae5",
   "metadata": {
    "tags": []
   },
   "outputs": [],
   "source": [
    "DF_DICTIONARY = FR_df_dict\n",
    "INFO_DF = FR_session_info_df\n",
    "\n",
    "for key, value in DF_DICTIONARY.items():\n",
    "\n",
    "  # Grab session activation zone\n",
    "  active_zone = key.split('_')[7]\n",
    "\n",
    "  # Grab sessions list for animal\n",
    "  session_list_str = INFO_DF[INFO_DF['session_id'] == key]['stim_session_list'].to_string(index=False)\n",
    "  S01 = session_list_str[0] # 1st str element\n",
    "  S02 = session_list_str[1] # 2nd str element\n",
    "  S03 = session_list_str[2] # 3rd str element\n",
    "\n",
    "  if key.split('_')[7] == 'N':\n",
    "    active_zone = S02 # Grabbing the zone from animal's acquisition session\n",
    "\n",
    "  column_to_duplicate = None\n",
    "    \n",
    "  # Check which column to duplicate based on active_zone\n",
    "  if active_zone == 'T':\n",
    "    column_to_duplicate = next((col for col in value.columns if col.startswith('In') and 't' in col), None)\n",
    "\n",
    "  elif active_zone == 'D':\n",
    "    column_to_duplicate = next((col for col in value.columns if col.startswith('In') and 'd' in col), None)\n",
    "\n",
    "  elif active_zone == 'H':\n",
    "    column_to_duplicate = next((col for col in value.columns if col.startswith('In') and 'h' in col), None)\n",
    "\n",
    "  elif active_zone == 'V':\n",
    "    column_to_duplicate = next((col for col in value.columns if col.startswith('In') and 'v' in col), None)\n",
    "\n",
    "  # Assert that column_to_duplicate has been set to something other than None\n",
    "  assert column_to_duplicate is not None, f\"No column to duplicate found for active_zone {active_zone} in dataframe {key}\"\n",
    "\n",
    "  # If a column to duplicate was found, duplicate it\n",
    "  if column_to_duplicate is not None:\n",
    "    new_column_name = f\"session_zone_({active_zone})\"\n",
    "    value[new_column_name] = value[column_to_duplicate]\n",
    "\n",
    "  # Assert that the new column was created\n",
    "  assert new_column_name in value.columns, f\"New column {new_column_name} not created in dataframe {key}\"\n",
    "\n",
    "  # Drop all columns that contain 'active' in their name\n",
    "  value.drop([col for col in value.columns if 'active' in col], axis=1, inplace=True)\n",
    "\n",
    "  # Assert that the new column wasn't dropped\n",
    "  assert new_column_name in value.columns, f\"New column {new_column_name} was dropped from dataframe {key}\""
   ]
  },
  {
   "cell_type": "code",
   "execution_count": 170,
   "id": "d8a40123-297e-42d0-9cc4-88a881e30780",
   "metadata": {
    "tags": []
   },
   "outputs": [
    {
     "data": {
      "text/plain": [
       "Index(['Time', 'Centre position X', 'Centre position Y', 'In 5t', 'In 5d',\n",
       "       'In 5h', 'In 5v', 'session_zone_(T)'],\n",
       "      dtype='object')"
      ]
     },
     "execution_count": 170,
     "metadata": {},
     "output_type": "execute_result"
    }
   ],
   "source": [
    "next(iter(FR_df_dict.values())).columns"
   ]
  },
  {
   "cell_type": "code",
   "execution_count": 171,
   "id": "15ce340e-df68-43ed-b9bd-5509b92b10e2",
   "metadata": {
    "tags": []
   },
   "outputs": [
    {
     "name": "stdout",
     "output_type": "stream",
     "text": [
      "Dataframe: C485_C25B_ChR2_xILC_F00_S01_P05_N_NON_NON\n",
      "stim_session_list: NTV\n"
     ]
    },
    {
     "data": {
      "text/html": [
       "<div>\n",
       "<style scoped>\n",
       "    .dataframe tbody tr th:only-of-type {\n",
       "        vertical-align: middle;\n",
       "    }\n",
       "\n",
       "    .dataframe tbody tr th {\n",
       "        vertical-align: top;\n",
       "    }\n",
       "\n",
       "    .dataframe thead th {\n",
       "        text-align: right;\n",
       "    }\n",
       "</style>\n",
       "<table border=\"1\" class=\"dataframe\">\n",
       "  <thead>\n",
       "    <tr style=\"text-align: right;\">\n",
       "      <th></th>\n",
       "      <th>Time</th>\n",
       "      <th>Centre position X</th>\n",
       "      <th>Centre position Y</th>\n",
       "      <th>In 5t</th>\n",
       "      <th>In 5d</th>\n",
       "      <th>In 5h</th>\n",
       "      <th>In 5v</th>\n",
       "      <th>session_zone_(T)</th>\n",
       "    </tr>\n",
       "  </thead>\n",
       "  <tbody>\n",
       "    <tr>\n",
       "      <th>0</th>\n",
       "      <td>0.000</td>\n",
       "      <td>NaN</td>\n",
       "      <td>NaN</td>\n",
       "      <td>False</td>\n",
       "      <td>False</td>\n",
       "      <td>False</td>\n",
       "      <td>False</td>\n",
       "      <td>False</td>\n",
       "    </tr>\n",
       "    <tr>\n",
       "      <th>1</th>\n",
       "      <td>0.284</td>\n",
       "      <td>135.0</td>\n",
       "      <td>208.0</td>\n",
       "      <td>False</td>\n",
       "      <td>False</td>\n",
       "      <td>False</td>\n",
       "      <td>False</td>\n",
       "      <td>False</td>\n",
       "    </tr>\n",
       "    <tr>\n",
       "      <th>2</th>\n",
       "      <td>0.395</td>\n",
       "      <td>137.0</td>\n",
       "      <td>207.0</td>\n",
       "      <td>False</td>\n",
       "      <td>False</td>\n",
       "      <td>False</td>\n",
       "      <td>False</td>\n",
       "      <td>False</td>\n",
       "    </tr>\n",
       "  </tbody>\n",
       "</table>\n",
       "</div>"
      ],
      "text/plain": [
       "    Time  Centre position X  Centre position Y  In 5t  In 5d  In 5h  In 5v  \\\n",
       "0  0.000                NaN                NaN  False  False  False  False   \n",
       "1  0.284              135.0              208.0  False  False  False  False   \n",
       "2  0.395              137.0              207.0  False  False  False  False   \n",
       "\n",
       "   session_zone_(T)  \n",
       "0             False  \n",
       "1             False  \n",
       "2             False  "
      ]
     },
     "execution_count": 171,
     "metadata": {},
     "output_type": "execute_result"
    }
   ],
   "source": [
    "# View Results\n",
    "view_rand_df(df_dict = FR_df_dict, info_df = FR_session_info_df)"
   ]
  },
  {
   "cell_type": "markdown",
   "id": "44485edb-7687-4f88-91fe-de810a18f339",
   "metadata": {},
   "source": [
    "#### Str Formatting"
   ]
  },
  {
   "cell_type": "code",
   "execution_count": 172,
   "id": "6291ef56-1d79-4276-880a-7d62ffc7ff46",
   "metadata": {
    "tags": []
   },
   "outputs": [],
   "source": [
    "from data_handling import remove_numbers_from_columns"
   ]
  },
  {
   "cell_type": "code",
   "execution_count": 173,
   "id": "b1c39aaa-da3e-4b20-b656-34cd19813785",
   "metadata": {
    "tags": []
   },
   "outputs": [],
   "source": [
    "FR_df_dict = remove_numbers_from_columns(FR_df_dict)\n",
    "FR_df_dict = format_cols(FR_df_dict, col_rename_dict)"
   ]
  },
  {
   "cell_type": "code",
   "execution_count": 174,
   "id": "c4cff496-1542-4606-9c10-516744314018",
   "metadata": {
    "tags": []
   },
   "outputs": [
    {
     "name": "stdout",
     "output_type": "stream",
     "text": [
      "Dataframe: C796_C35B_ChR2_xBLA_F00_S01_P07_N_NON_NON\n",
      "stim_session_list: NTH\n"
     ]
    },
    {
     "data": {
      "text/html": [
       "<div>\n",
       "<style scoped>\n",
       "    .dataframe tbody tr th:only-of-type {\n",
       "        vertical-align: middle;\n",
       "    }\n",
       "\n",
       "    .dataframe tbody tr th {\n",
       "        vertical-align: top;\n",
       "    }\n",
       "\n",
       "    .dataframe thead th {\n",
       "        text-align: right;\n",
       "    }\n",
       "</style>\n",
       "<table border=\"1\" class=\"dataframe\">\n",
       "  <thead>\n",
       "    <tr style=\"text-align: right;\">\n",
       "      <th></th>\n",
       "      <th>time</th>\n",
       "      <th>centre_position_x</th>\n",
       "      <th>centre_position_y</th>\n",
       "      <th>in_t</th>\n",
       "      <th>in_d</th>\n",
       "      <th>in_h</th>\n",
       "      <th>in_v</th>\n",
       "      <th>session_zone_(t)</th>\n",
       "    </tr>\n",
       "  </thead>\n",
       "  <tbody>\n",
       "    <tr>\n",
       "      <th>0</th>\n",
       "      <td>0.000</td>\n",
       "      <td>NaN</td>\n",
       "      <td>NaN</td>\n",
       "      <td>False</td>\n",
       "      <td>False</td>\n",
       "      <td>True</td>\n",
       "      <td>False</td>\n",
       "      <td>False</td>\n",
       "    </tr>\n",
       "    <tr>\n",
       "      <th>1</th>\n",
       "      <td>0.281</td>\n",
       "      <td>497.0</td>\n",
       "      <td>395.0</td>\n",
       "      <td>False</td>\n",
       "      <td>False</td>\n",
       "      <td>True</td>\n",
       "      <td>False</td>\n",
       "      <td>False</td>\n",
       "    </tr>\n",
       "    <tr>\n",
       "      <th>2</th>\n",
       "      <td>0.287</td>\n",
       "      <td>497.0</td>\n",
       "      <td>395.0</td>\n",
       "      <td>False</td>\n",
       "      <td>False</td>\n",
       "      <td>True</td>\n",
       "      <td>False</td>\n",
       "      <td>False</td>\n",
       "    </tr>\n",
       "  </tbody>\n",
       "</table>\n",
       "</div>"
      ],
      "text/plain": [
       "    time  centre_position_x  centre_position_y   in_t   in_d  in_h   in_v  \\\n",
       "0  0.000                NaN                NaN  False  False  True  False   \n",
       "1  0.281              497.0              395.0  False  False  True  False   \n",
       "2  0.287              497.0              395.0  False  False  True  False   \n",
       "\n",
       "   session_zone_(t)  \n",
       "0             False  \n",
       "1             False  \n",
       "2             False  "
      ]
     },
     "execution_count": 174,
     "metadata": {},
     "output_type": "execute_result"
    }
   ],
   "source": [
    "# View Results\n",
    "view_rand_df(df_dict = FR_df_dict, info_df = FR_session_info_df)"
   ]
  },
  {
   "cell_type": "code",
   "execution_count": 175,
   "id": "831ba90e-35e0-4b8a-bde1-d5371b32905f",
   "metadata": {
    "tags": []
   },
   "outputs": [
    {
     "name": "stdout",
     "output_type": "stream",
     "text": [
      "Dataframe: C58_R20_ChR2_mPFC_30Hz_S02_P04_V_NON_NON\n",
      "stim_session_list: NV-\n"
     ]
    },
    {
     "data": {
      "text/html": [
       "<div>\n",
       "<style scoped>\n",
       "    .dataframe tbody tr th:only-of-type {\n",
       "        vertical-align: middle;\n",
       "    }\n",
       "\n",
       "    .dataframe tbody tr th {\n",
       "        vertical-align: top;\n",
       "    }\n",
       "\n",
       "    .dataframe thead th {\n",
       "        text-align: right;\n",
       "    }\n",
       "</style>\n",
       "<table border=\"1\" class=\"dataframe\">\n",
       "  <thead>\n",
       "    <tr style=\"text-align: right;\">\n",
       "      <th></th>\n",
       "      <th>time</th>\n",
       "      <th>centre_position_x</th>\n",
       "      <th>centre_position_y</th>\n",
       "      <th>in_t</th>\n",
       "      <th>in_d</th>\n",
       "      <th>in_h</th>\n",
       "      <th>in_v</th>\n",
       "      <th>session_zone_(v)</th>\n",
       "    </tr>\n",
       "  </thead>\n",
       "  <tbody>\n",
       "    <tr>\n",
       "      <th>0</th>\n",
       "      <td>0.000</td>\n",
       "      <td>NaN</td>\n",
       "      <td>NaN</td>\n",
       "      <td>False</td>\n",
       "      <td>True</td>\n",
       "      <td>False</td>\n",
       "      <td>False</td>\n",
       "      <td>False</td>\n",
       "    </tr>\n",
       "    <tr>\n",
       "      <th>1</th>\n",
       "      <td>0.399</td>\n",
       "      <td>475.0</td>\n",
       "      <td>185.0</td>\n",
       "      <td>False</td>\n",
       "      <td>True</td>\n",
       "      <td>False</td>\n",
       "      <td>False</td>\n",
       "      <td>False</td>\n",
       "    </tr>\n",
       "    <tr>\n",
       "      <th>2</th>\n",
       "      <td>0.407</td>\n",
       "      <td>475.0</td>\n",
       "      <td>185.0</td>\n",
       "      <td>False</td>\n",
       "      <td>True</td>\n",
       "      <td>False</td>\n",
       "      <td>False</td>\n",
       "      <td>False</td>\n",
       "    </tr>\n",
       "  </tbody>\n",
       "</table>\n",
       "</div>"
      ],
      "text/plain": [
       "    time  centre_position_x  centre_position_y   in_t  in_d   in_h   in_v  \\\n",
       "0  0.000                NaN                NaN  False  True  False  False   \n",
       "1  0.399              475.0              185.0  False  True  False  False   \n",
       "2  0.407              475.0              185.0  False  True  False  False   \n",
       "\n",
       "   session_zone_(v)  \n",
       "0             False  \n",
       "1             False  \n",
       "2             False  "
      ]
     },
     "execution_count": 175,
     "metadata": {},
     "output_type": "execute_result"
    }
   ],
   "source": [
    "# View Results\n",
    "view_rand_df(df_dict = mPFC_df_dict, info_df = mPFC_session_info_df)"
   ]
  },
  {
   "cell_type": "code",
   "execution_count": 176,
   "id": "96a63132-1380-449d-aff0-3dbcdee6677b",
   "metadata": {
    "tags": []
   },
   "outputs": [
    {
     "data": {
      "text/html": [
       "<div>\n",
       "<style scoped>\n",
       "    .dataframe tbody tr th:only-of-type {\n",
       "        vertical-align: middle;\n",
       "    }\n",
       "\n",
       "    .dataframe tbody tr th {\n",
       "        vertical-align: top;\n",
       "    }\n",
       "\n",
       "    .dataframe thead th {\n",
       "        text-align: right;\n",
       "    }\n",
       "</style>\n",
       "<table border=\"1\" class=\"dataframe\">\n",
       "  <thead>\n",
       "    <tr style=\"text-align: right;\">\n",
       "      <th></th>\n",
       "      <th>session_id</th>\n",
       "      <th>animal_id_1</th>\n",
       "      <th>animal_id_2</th>\n",
       "      <th>virus</th>\n",
       "      <th>stim_target</th>\n",
       "      <th>stim_freq</th>\n",
       "      <th>session_num</th>\n",
       "      <th>pod_num</th>\n",
       "      <th>stim_zone</th>\n",
       "      <th>sens_treat_1</th>\n",
       "      <th>sens_treat_2</th>\n",
       "      <th>stim_session_list</th>\n",
       "    </tr>\n",
       "  </thead>\n",
       "  <tbody>\n",
       "    <tr>\n",
       "      <th>0</th>\n",
       "      <td>C1000_C42A_ChR2_xPVT_F00_S01_P05_N_NON_NON</td>\n",
       "      <td>C1000</td>\n",
       "      <td>C42A</td>\n",
       "      <td>ChR2</td>\n",
       "      <td>xPVT</td>\n",
       "      <td>F00</td>\n",
       "      <td>S01</td>\n",
       "      <td>P05</td>\n",
       "      <td>N</td>\n",
       "      <td>NON</td>\n",
       "      <td>NON</td>\n",
       "      <td>NTD</td>\n",
       "    </tr>\n",
       "    <tr>\n",
       "      <th>1</th>\n",
       "      <td>C1000_C42A_ChR2_xPVT_F20_S02_P05_T_NON_NON</td>\n",
       "      <td>C1000</td>\n",
       "      <td>C42A</td>\n",
       "      <td>ChR2</td>\n",
       "      <td>xPVT</td>\n",
       "      <td>F20</td>\n",
       "      <td>S02</td>\n",
       "      <td>P05</td>\n",
       "      <td>T</td>\n",
       "      <td>NON</td>\n",
       "      <td>NON</td>\n",
       "      <td>NTD</td>\n",
       "    </tr>\n",
       "    <tr>\n",
       "      <th>2</th>\n",
       "      <td>C1000_C42A_ChR2_xPVT_F20_S03_P05_D_NON_NON</td>\n",
       "      <td>C1000</td>\n",
       "      <td>C42A</td>\n",
       "      <td>ChR2</td>\n",
       "      <td>xPVT</td>\n",
       "      <td>F20</td>\n",
       "      <td>S03</td>\n",
       "      <td>P05</td>\n",
       "      <td>D</td>\n",
       "      <td>NON</td>\n",
       "      <td>NON</td>\n",
       "      <td>NTD</td>\n",
       "    </tr>\n",
       "  </tbody>\n",
       "</table>\n",
       "</div>"
      ],
      "text/plain": [
       "                                   session_id animal_id_1 animal_id_2 virus  \\\n",
       "0  C1000_C42A_ChR2_xPVT_F00_S01_P05_N_NON_NON       C1000        C42A  ChR2   \n",
       "1  C1000_C42A_ChR2_xPVT_F20_S02_P05_T_NON_NON       C1000        C42A  ChR2   \n",
       "2  C1000_C42A_ChR2_xPVT_F20_S03_P05_D_NON_NON       C1000        C42A  ChR2   \n",
       "\n",
       "  stim_target stim_freq session_num pod_num stim_zone sens_treat_1  \\\n",
       "0        xPVT       F00         S01     P05         N          NON   \n",
       "1        xPVT       F20         S02     P05         T          NON   \n",
       "2        xPVT       F20         S03     P05         D          NON   \n",
       "\n",
       "  sens_treat_2 stim_session_list  \n",
       "0          NON               NTD  \n",
       "1          NON               NTD  \n",
       "2          NON               NTD  "
      ]
     },
     "execution_count": 176,
     "metadata": {},
     "output_type": "execute_result"
    }
   ],
   "source": [
    "FR_session_info_df.head(3)"
   ]
  },
  {
   "cell_type": "code",
   "execution_count": 177,
   "id": "7596e5c1-b4b8-49a9-977e-18812fd54cdd",
   "metadata": {
    "tags": []
   },
   "outputs": [
    {
     "data": {
      "text/html": [
       "<div>\n",
       "<style scoped>\n",
       "    .dataframe tbody tr th:only-of-type {\n",
       "        vertical-align: middle;\n",
       "    }\n",
       "\n",
       "    .dataframe tbody tr th {\n",
       "        vertical-align: top;\n",
       "    }\n",
       "\n",
       "    .dataframe thead th {\n",
       "        text-align: right;\n",
       "    }\n",
       "</style>\n",
       "<table border=\"1\" class=\"dataframe\">\n",
       "  <thead>\n",
       "    <tr style=\"text-align: right;\">\n",
       "      <th></th>\n",
       "      <th>session_id</th>\n",
       "      <th>animal_id_1</th>\n",
       "      <th>animal_id_2</th>\n",
       "      <th>virus</th>\n",
       "      <th>stim_target</th>\n",
       "      <th>stim_freq</th>\n",
       "      <th>session_num</th>\n",
       "      <th>pod_num</th>\n",
       "      <th>stim_zone</th>\n",
       "      <th>sens_treat_1</th>\n",
       "      <th>sens_treat_2</th>\n",
       "      <th>stim_session_list</th>\n",
       "    </tr>\n",
       "  </thead>\n",
       "  <tbody>\n",
       "    <tr>\n",
       "      <th>0</th>\n",
       "      <td>C58_R10_ChR2_mPFC_30Hz_S01_P02_N_NON_NON</td>\n",
       "      <td>C58</td>\n",
       "      <td>R10</td>\n",
       "      <td>ChR2</td>\n",
       "      <td>mPFC</td>\n",
       "      <td>30Hz</td>\n",
       "      <td>S01</td>\n",
       "      <td>P02</td>\n",
       "      <td>N</td>\n",
       "      <td>NON</td>\n",
       "      <td>NON</td>\n",
       "      <td>NVN</td>\n",
       "    </tr>\n",
       "    <tr>\n",
       "      <th>1</th>\n",
       "      <td>C58_R10_ChR2_mPFC_30Hz_S02_P02_V_NON_NON</td>\n",
       "      <td>C58</td>\n",
       "      <td>R10</td>\n",
       "      <td>ChR2</td>\n",
       "      <td>mPFC</td>\n",
       "      <td>30Hz</td>\n",
       "      <td>S02</td>\n",
       "      <td>P02</td>\n",
       "      <td>V</td>\n",
       "      <td>NON</td>\n",
       "      <td>NON</td>\n",
       "      <td>NVN</td>\n",
       "    </tr>\n",
       "    <tr>\n",
       "      <th>2</th>\n",
       "      <td>C58_R10_ChR2_mPFC_30Hz_S03_P02_N_NON_NON</td>\n",
       "      <td>C58</td>\n",
       "      <td>R10</td>\n",
       "      <td>ChR2</td>\n",
       "      <td>mPFC</td>\n",
       "      <td>30Hz</td>\n",
       "      <td>S03</td>\n",
       "      <td>P02</td>\n",
       "      <td>N</td>\n",
       "      <td>NON</td>\n",
       "      <td>NON</td>\n",
       "      <td>NVN</td>\n",
       "    </tr>\n",
       "  </tbody>\n",
       "</table>\n",
       "</div>"
      ],
      "text/plain": [
       "                                 session_id animal_id_1 animal_id_2 virus  \\\n",
       "0  C58_R10_ChR2_mPFC_30Hz_S01_P02_N_NON_NON         C58         R10  ChR2   \n",
       "1  C58_R10_ChR2_mPFC_30Hz_S02_P02_V_NON_NON         C58         R10  ChR2   \n",
       "2  C58_R10_ChR2_mPFC_30Hz_S03_P02_N_NON_NON         C58         R10  ChR2   \n",
       "\n",
       "  stim_target stim_freq session_num pod_num stim_zone sens_treat_1  \\\n",
       "0        mPFC      30Hz         S01     P02         N          NON   \n",
       "1        mPFC      30Hz         S02     P02         V          NON   \n",
       "2        mPFC      30Hz         S03     P02         N          NON   \n",
       "\n",
       "  sens_treat_2 stim_session_list  \n",
       "0          NON               NVN  \n",
       "1          NON               NVN  \n",
       "2          NON               NVN  "
      ]
     },
     "execution_count": 177,
     "metadata": {},
     "output_type": "execute_result"
    }
   ],
   "source": [
    "mPFC_session_info_df.head(3)"
   ]
  },
  {
   "cell_type": "markdown",
   "id": "f4214e0e-0c74-48fa-96b7-b3651a3750e6",
   "metadata": {},
   "source": [
    "<div style=\"background-color:green; color:white; padding:10px; font-size:20px\">\n",
    "4 - Save to S3"
   ]
  },
  {
   "cell_type": "code",
   "execution_count": 178,
   "id": "915d334a-3a1a-439a-a462-c11570e3328b",
   "metadata": {
    "tags": []
   },
   "outputs": [],
   "source": [
    "from io import StringIO"
   ]
  },
  {
   "cell_type": "markdown",
   "id": "4860368a-f31a-4062-af2f-7553c8417b0f",
   "metadata": {},
   "source": [
    "#### FR"
   ]
  },
  {
   "cell_type": "code",
   "execution_count": 179,
   "id": "534467ff-0776-411d-9cb5-7545574d98eb",
   "metadata": {
    "tags": []
   },
   "outputs": [],
   "source": [
    "# FR Session Df Dict\n",
    "\n",
    "s3_path = 's3://behavior-project/processed-data/processed-data/session-df-dictionaries/fr-icss/'\n",
    "\n",
    "# Split the s3_path into bucket_name and prefix\n",
    "bucket_name, prefix = s3_path.replace(\"s3://\", \"\").split('/', 1)\n",
    "\n",
    "for key, df in FR_df_dict.items():\n",
    "    # Create a CSV buffer\n",
    "    csv_buffer = StringIO()\n",
    "\n",
    "    # Convert the dataframe to CSV and write it to the buffer\n",
    "    df.to_csv(csv_buffer, index = False)\n",
    "\n",
    "    # Create a file name based on the dictionary key\n",
    "    file_name = f\"{prefix}/{key}.csv\"\n",
    "\n",
    "    # Upload the CSV file to S3\n",
    "    s3.put_object(Bucket=bucket_name, Key=file_name, Body=csv_buffer.getvalue())"
   ]
  },
  {
   "cell_type": "code",
   "execution_count": 180,
   "id": "e0cbb8f1-fe8a-459c-957d-e4faf30e6768",
   "metadata": {
    "tags": []
   },
   "outputs": [
    {
     "data": {
      "text/plain": [
       "{'ResponseMetadata': {'RequestId': 'EWJR5GF06R6E7Q9Q',\n",
       "  'HostId': 've6Je70ZvrsZ2r3BjbWn4QbWGiKny+3MULFaQxrLWtgve8OHx5yGTGCjM1tJXDClCvIa9mzk+gs=',\n",
       "  'HTTPStatusCode': 200,\n",
       "  'HTTPHeaders': {'x-amz-id-2': 've6Je70ZvrsZ2r3BjbWn4QbWGiKny+3MULFaQxrLWtgve8OHx5yGTGCjM1tJXDClCvIa9mzk+gs=',\n",
       "   'x-amz-request-id': 'EWJR5GF06R6E7Q9Q',\n",
       "   'date': 'Fri, 28 Jul 2023 18:45:24 GMT',\n",
       "   'x-amz-server-side-encryption': 'AES256',\n",
       "   'etag': '\"5e7191b001e8b5c559d94cd32104bfe6\"',\n",
       "   'server': 'AmazonS3',\n",
       "   'content-length': '0'},\n",
       "  'RetryAttempts': 0},\n",
       " 'ETag': '\"5e7191b001e8b5c559d94cd32104bfe6\"',\n",
       " 'ServerSideEncryption': 'AES256'}"
      ]
     },
     "execution_count": 180,
     "metadata": {},
     "output_type": "execute_result"
    }
   ],
   "source": [
    "# Specify the name of your S3 bucket and the key (file path within the bucket)\n",
    "bucket_name = 'behavior-project'\n",
    "key = 'processed-data/processed-data/session-info-dfs/FR_session_info_df.csv'\n",
    "\n",
    "# Create a CSV buffer\n",
    "csv_buffer = StringIO()\n",
    "\n",
    "# Convert the dataframe to CSV and write it to the buffer\n",
    "FR_session_info_df.to_csv(csv_buffer, index = False)\n",
    "\n",
    "# Upload the CSV file to S3\n",
    "s3.put_object(Bucket=bucket_name, Key=key, Body=csv_buffer.getvalue())"
   ]
  },
  {
   "cell_type": "markdown",
   "id": "89333cf4-2e8a-4eb3-850c-ae5f476d3c3e",
   "metadata": {},
   "source": [
    "#### mPFC"
   ]
  },
  {
   "cell_type": "code",
   "execution_count": 181,
   "id": "143597c6-035c-4c2f-b8c9-49e9107f001a",
   "metadata": {
    "tags": []
   },
   "outputs": [],
   "source": [
    "# mPFC Session Df Dict\n",
    "\n",
    "s3_path = 's3://behavior-project/processed-data/processed-data/session-df-dictionaries/mpfc-icss/'\n",
    "\n",
    "# Split the s3_path into bucket_name and prefix\n",
    "bucket_name, prefix = s3_path.replace(\"s3://\", \"\").split('/', 1)\n",
    "\n",
    "for key, df in mPFC_df_dict.items():\n",
    "    # Create a CSV buffer\n",
    "    csv_buffer = StringIO()\n",
    "\n",
    "    # Convert the dataframe to CSV and write it to the buffer\n",
    "    df.to_csv(csv_buffer, index = False)\n",
    "\n",
    "    # Create a file name based on the dictionary key\n",
    "    file_name = f\"{prefix}/{key}.csv\"\n",
    "\n",
    "    # Upload the CSV file to S3\n",
    "    s3.put_object(Bucket=bucket_name, Key=file_name, Body=csv_buffer.getvalue())"
   ]
  },
  {
   "cell_type": "code",
   "execution_count": 182,
   "id": "1910e0e5-8b82-4080-adba-8d8a797d4de1",
   "metadata": {
    "tags": []
   },
   "outputs": [
    {
     "data": {
      "text/plain": [
       "{'ResponseMetadata': {'RequestId': '46HNV8RSQEXDHPT0',\n",
       "  'HostId': 'qM9hU3XwWwg0jHvJWyLKYeV3Ht7Cf5pL3YrzoTYZUkqJMdQ589WoCYLUHR//GpBqJo/Ufw2f0ww=',\n",
       "  'HTTPStatusCode': 200,\n",
       "  'HTTPHeaders': {'x-amz-id-2': 'qM9hU3XwWwg0jHvJWyLKYeV3Ht7Cf5pL3YrzoTYZUkqJMdQ589WoCYLUHR//GpBqJo/Ufw2f0ww=',\n",
       "   'x-amz-request-id': '46HNV8RSQEXDHPT0',\n",
       "   'date': 'Fri, 28 Jul 2023 18:45:29 GMT',\n",
       "   'x-amz-server-side-encryption': 'AES256',\n",
       "   'etag': '\"eca0cef1713e43155295145443207e4b\"',\n",
       "   'server': 'AmazonS3',\n",
       "   'content-length': '0'},\n",
       "  'RetryAttempts': 0},\n",
       " 'ETag': '\"eca0cef1713e43155295145443207e4b\"',\n",
       " 'ServerSideEncryption': 'AES256'}"
      ]
     },
     "execution_count": 182,
     "metadata": {},
     "output_type": "execute_result"
    }
   ],
   "source": [
    "# Specify the name of your S3 bucket and the key (file path within the bucket)\n",
    "bucket_name = 'behavior-project'\n",
    "key = 'processed-data/processed-data/session-info-dfs/mPFC_session_info_df.csv'\n",
    "\n",
    "# Create a CSV buffer\n",
    "csv_buffer = StringIO()\n",
    "\n",
    "# Convert the dataframe to CSV and write it to the buffer\n",
    "mPFC_session_info_df.to_csv(csv_buffer, index = False)\n",
    "\n",
    "# Upload the CSV file to S3\n",
    "s3.put_object(Bucket=bucket_name, Key=key, Body=csv_buffer.getvalue())"
   ]
  }
 ],
 "metadata": {
  "availableInstances": [
   {
    "_defaultOrder": 0,
    "_isFastLaunch": true,
    "category": "General purpose",
    "gpuNum": 0,
    "hideHardwareSpecs": false,
    "memoryGiB": 4,
    "name": "ml.t3.medium",
    "vcpuNum": 2
   },
   {
    "_defaultOrder": 1,
    "_isFastLaunch": false,
    "category": "General purpose",
    "gpuNum": 0,
    "hideHardwareSpecs": false,
    "memoryGiB": 8,
    "name": "ml.t3.large",
    "vcpuNum": 2
   },
   {
    "_defaultOrder": 2,
    "_isFastLaunch": false,
    "category": "General purpose",
    "gpuNum": 0,
    "hideHardwareSpecs": false,
    "memoryGiB": 16,
    "name": "ml.t3.xlarge",
    "vcpuNum": 4
   },
   {
    "_defaultOrder": 3,
    "_isFastLaunch": false,
    "category": "General purpose",
    "gpuNum": 0,
    "hideHardwareSpecs": false,
    "memoryGiB": 32,
    "name": "ml.t3.2xlarge",
    "vcpuNum": 8
   },
   {
    "_defaultOrder": 4,
    "_isFastLaunch": true,
    "category": "General purpose",
    "gpuNum": 0,
    "hideHardwareSpecs": false,
    "memoryGiB": 8,
    "name": "ml.m5.large",
    "vcpuNum": 2
   },
   {
    "_defaultOrder": 5,
    "_isFastLaunch": false,
    "category": "General purpose",
    "gpuNum": 0,
    "hideHardwareSpecs": false,
    "memoryGiB": 16,
    "name": "ml.m5.xlarge",
    "vcpuNum": 4
   },
   {
    "_defaultOrder": 6,
    "_isFastLaunch": false,
    "category": "General purpose",
    "gpuNum": 0,
    "hideHardwareSpecs": false,
    "memoryGiB": 32,
    "name": "ml.m5.2xlarge",
    "vcpuNum": 8
   },
   {
    "_defaultOrder": 7,
    "_isFastLaunch": false,
    "category": "General purpose",
    "gpuNum": 0,
    "hideHardwareSpecs": false,
    "memoryGiB": 64,
    "name": "ml.m5.4xlarge",
    "vcpuNum": 16
   },
   {
    "_defaultOrder": 8,
    "_isFastLaunch": false,
    "category": "General purpose",
    "gpuNum": 0,
    "hideHardwareSpecs": false,
    "memoryGiB": 128,
    "name": "ml.m5.8xlarge",
    "vcpuNum": 32
   },
   {
    "_defaultOrder": 9,
    "_isFastLaunch": false,
    "category": "General purpose",
    "gpuNum": 0,
    "hideHardwareSpecs": false,
    "memoryGiB": 192,
    "name": "ml.m5.12xlarge",
    "vcpuNum": 48
   },
   {
    "_defaultOrder": 10,
    "_isFastLaunch": false,
    "category": "General purpose",
    "gpuNum": 0,
    "hideHardwareSpecs": false,
    "memoryGiB": 256,
    "name": "ml.m5.16xlarge",
    "vcpuNum": 64
   },
   {
    "_defaultOrder": 11,
    "_isFastLaunch": false,
    "category": "General purpose",
    "gpuNum": 0,
    "hideHardwareSpecs": false,
    "memoryGiB": 384,
    "name": "ml.m5.24xlarge",
    "vcpuNum": 96
   },
   {
    "_defaultOrder": 12,
    "_isFastLaunch": false,
    "category": "General purpose",
    "gpuNum": 0,
    "hideHardwareSpecs": false,
    "memoryGiB": 8,
    "name": "ml.m5d.large",
    "vcpuNum": 2
   },
   {
    "_defaultOrder": 13,
    "_isFastLaunch": false,
    "category": "General purpose",
    "gpuNum": 0,
    "hideHardwareSpecs": false,
    "memoryGiB": 16,
    "name": "ml.m5d.xlarge",
    "vcpuNum": 4
   },
   {
    "_defaultOrder": 14,
    "_isFastLaunch": false,
    "category": "General purpose",
    "gpuNum": 0,
    "hideHardwareSpecs": false,
    "memoryGiB": 32,
    "name": "ml.m5d.2xlarge",
    "vcpuNum": 8
   },
   {
    "_defaultOrder": 15,
    "_isFastLaunch": false,
    "category": "General purpose",
    "gpuNum": 0,
    "hideHardwareSpecs": false,
    "memoryGiB": 64,
    "name": "ml.m5d.4xlarge",
    "vcpuNum": 16
   },
   {
    "_defaultOrder": 16,
    "_isFastLaunch": false,
    "category": "General purpose",
    "gpuNum": 0,
    "hideHardwareSpecs": false,
    "memoryGiB": 128,
    "name": "ml.m5d.8xlarge",
    "vcpuNum": 32
   },
   {
    "_defaultOrder": 17,
    "_isFastLaunch": false,
    "category": "General purpose",
    "gpuNum": 0,
    "hideHardwareSpecs": false,
    "memoryGiB": 192,
    "name": "ml.m5d.12xlarge",
    "vcpuNum": 48
   },
   {
    "_defaultOrder": 18,
    "_isFastLaunch": false,
    "category": "General purpose",
    "gpuNum": 0,
    "hideHardwareSpecs": false,
    "memoryGiB": 256,
    "name": "ml.m5d.16xlarge",
    "vcpuNum": 64
   },
   {
    "_defaultOrder": 19,
    "_isFastLaunch": false,
    "category": "General purpose",
    "gpuNum": 0,
    "hideHardwareSpecs": false,
    "memoryGiB": 384,
    "name": "ml.m5d.24xlarge",
    "vcpuNum": 96
   },
   {
    "_defaultOrder": 20,
    "_isFastLaunch": false,
    "category": "General purpose",
    "gpuNum": 0,
    "hideHardwareSpecs": true,
    "memoryGiB": 0,
    "name": "ml.geospatial.interactive",
    "supportedImageNames": [
     "sagemaker-geospatial-v1-0"
    ],
    "vcpuNum": 0
   },
   {
    "_defaultOrder": 21,
    "_isFastLaunch": true,
    "category": "Compute optimized",
    "gpuNum": 0,
    "hideHardwareSpecs": false,
    "memoryGiB": 4,
    "name": "ml.c5.large",
    "vcpuNum": 2
   },
   {
    "_defaultOrder": 22,
    "_isFastLaunch": false,
    "category": "Compute optimized",
    "gpuNum": 0,
    "hideHardwareSpecs": false,
    "memoryGiB": 8,
    "name": "ml.c5.xlarge",
    "vcpuNum": 4
   },
   {
    "_defaultOrder": 23,
    "_isFastLaunch": false,
    "category": "Compute optimized",
    "gpuNum": 0,
    "hideHardwareSpecs": false,
    "memoryGiB": 16,
    "name": "ml.c5.2xlarge",
    "vcpuNum": 8
   },
   {
    "_defaultOrder": 24,
    "_isFastLaunch": false,
    "category": "Compute optimized",
    "gpuNum": 0,
    "hideHardwareSpecs": false,
    "memoryGiB": 32,
    "name": "ml.c5.4xlarge",
    "vcpuNum": 16
   },
   {
    "_defaultOrder": 25,
    "_isFastLaunch": false,
    "category": "Compute optimized",
    "gpuNum": 0,
    "hideHardwareSpecs": false,
    "memoryGiB": 72,
    "name": "ml.c5.9xlarge",
    "vcpuNum": 36
   },
   {
    "_defaultOrder": 26,
    "_isFastLaunch": false,
    "category": "Compute optimized",
    "gpuNum": 0,
    "hideHardwareSpecs": false,
    "memoryGiB": 96,
    "name": "ml.c5.12xlarge",
    "vcpuNum": 48
   },
   {
    "_defaultOrder": 27,
    "_isFastLaunch": false,
    "category": "Compute optimized",
    "gpuNum": 0,
    "hideHardwareSpecs": false,
    "memoryGiB": 144,
    "name": "ml.c5.18xlarge",
    "vcpuNum": 72
   },
   {
    "_defaultOrder": 28,
    "_isFastLaunch": false,
    "category": "Compute optimized",
    "gpuNum": 0,
    "hideHardwareSpecs": false,
    "memoryGiB": 192,
    "name": "ml.c5.24xlarge",
    "vcpuNum": 96
   },
   {
    "_defaultOrder": 29,
    "_isFastLaunch": true,
    "category": "Accelerated computing",
    "gpuNum": 1,
    "hideHardwareSpecs": false,
    "memoryGiB": 16,
    "name": "ml.g4dn.xlarge",
    "vcpuNum": 4
   },
   {
    "_defaultOrder": 30,
    "_isFastLaunch": false,
    "category": "Accelerated computing",
    "gpuNum": 1,
    "hideHardwareSpecs": false,
    "memoryGiB": 32,
    "name": "ml.g4dn.2xlarge",
    "vcpuNum": 8
   },
   {
    "_defaultOrder": 31,
    "_isFastLaunch": false,
    "category": "Accelerated computing",
    "gpuNum": 1,
    "hideHardwareSpecs": false,
    "memoryGiB": 64,
    "name": "ml.g4dn.4xlarge",
    "vcpuNum": 16
   },
   {
    "_defaultOrder": 32,
    "_isFastLaunch": false,
    "category": "Accelerated computing",
    "gpuNum": 1,
    "hideHardwareSpecs": false,
    "memoryGiB": 128,
    "name": "ml.g4dn.8xlarge",
    "vcpuNum": 32
   },
   {
    "_defaultOrder": 33,
    "_isFastLaunch": false,
    "category": "Accelerated computing",
    "gpuNum": 4,
    "hideHardwareSpecs": false,
    "memoryGiB": 192,
    "name": "ml.g4dn.12xlarge",
    "vcpuNum": 48
   },
   {
    "_defaultOrder": 34,
    "_isFastLaunch": false,
    "category": "Accelerated computing",
    "gpuNum": 1,
    "hideHardwareSpecs": false,
    "memoryGiB": 256,
    "name": "ml.g4dn.16xlarge",
    "vcpuNum": 64
   },
   {
    "_defaultOrder": 35,
    "_isFastLaunch": false,
    "category": "Accelerated computing",
    "gpuNum": 1,
    "hideHardwareSpecs": false,
    "memoryGiB": 61,
    "name": "ml.p3.2xlarge",
    "vcpuNum": 8
   },
   {
    "_defaultOrder": 36,
    "_isFastLaunch": false,
    "category": "Accelerated computing",
    "gpuNum": 4,
    "hideHardwareSpecs": false,
    "memoryGiB": 244,
    "name": "ml.p3.8xlarge",
    "vcpuNum": 32
   },
   {
    "_defaultOrder": 37,
    "_isFastLaunch": false,
    "category": "Accelerated computing",
    "gpuNum": 8,
    "hideHardwareSpecs": false,
    "memoryGiB": 488,
    "name": "ml.p3.16xlarge",
    "vcpuNum": 64
   },
   {
    "_defaultOrder": 38,
    "_isFastLaunch": false,
    "category": "Accelerated computing",
    "gpuNum": 8,
    "hideHardwareSpecs": false,
    "memoryGiB": 768,
    "name": "ml.p3dn.24xlarge",
    "vcpuNum": 96
   },
   {
    "_defaultOrder": 39,
    "_isFastLaunch": false,
    "category": "Memory Optimized",
    "gpuNum": 0,
    "hideHardwareSpecs": false,
    "memoryGiB": 16,
    "name": "ml.r5.large",
    "vcpuNum": 2
   },
   {
    "_defaultOrder": 40,
    "_isFastLaunch": false,
    "category": "Memory Optimized",
    "gpuNum": 0,
    "hideHardwareSpecs": false,
    "memoryGiB": 32,
    "name": "ml.r5.xlarge",
    "vcpuNum": 4
   },
   {
    "_defaultOrder": 41,
    "_isFastLaunch": false,
    "category": "Memory Optimized",
    "gpuNum": 0,
    "hideHardwareSpecs": false,
    "memoryGiB": 64,
    "name": "ml.r5.2xlarge",
    "vcpuNum": 8
   },
   {
    "_defaultOrder": 42,
    "_isFastLaunch": false,
    "category": "Memory Optimized",
    "gpuNum": 0,
    "hideHardwareSpecs": false,
    "memoryGiB": 128,
    "name": "ml.r5.4xlarge",
    "vcpuNum": 16
   },
   {
    "_defaultOrder": 43,
    "_isFastLaunch": false,
    "category": "Memory Optimized",
    "gpuNum": 0,
    "hideHardwareSpecs": false,
    "memoryGiB": 256,
    "name": "ml.r5.8xlarge",
    "vcpuNum": 32
   },
   {
    "_defaultOrder": 44,
    "_isFastLaunch": false,
    "category": "Memory Optimized",
    "gpuNum": 0,
    "hideHardwareSpecs": false,
    "memoryGiB": 384,
    "name": "ml.r5.12xlarge",
    "vcpuNum": 48
   },
   {
    "_defaultOrder": 45,
    "_isFastLaunch": false,
    "category": "Memory Optimized",
    "gpuNum": 0,
    "hideHardwareSpecs": false,
    "memoryGiB": 512,
    "name": "ml.r5.16xlarge",
    "vcpuNum": 64
   },
   {
    "_defaultOrder": 46,
    "_isFastLaunch": false,
    "category": "Memory Optimized",
    "gpuNum": 0,
    "hideHardwareSpecs": false,
    "memoryGiB": 768,
    "name": "ml.r5.24xlarge",
    "vcpuNum": 96
   },
   {
    "_defaultOrder": 47,
    "_isFastLaunch": false,
    "category": "Accelerated computing",
    "gpuNum": 1,
    "hideHardwareSpecs": false,
    "memoryGiB": 16,
    "name": "ml.g5.xlarge",
    "vcpuNum": 4
   },
   {
    "_defaultOrder": 48,
    "_isFastLaunch": false,
    "category": "Accelerated computing",
    "gpuNum": 1,
    "hideHardwareSpecs": false,
    "memoryGiB": 32,
    "name": "ml.g5.2xlarge",
    "vcpuNum": 8
   },
   {
    "_defaultOrder": 49,
    "_isFastLaunch": false,
    "category": "Accelerated computing",
    "gpuNum": 1,
    "hideHardwareSpecs": false,
    "memoryGiB": 64,
    "name": "ml.g5.4xlarge",
    "vcpuNum": 16
   },
   {
    "_defaultOrder": 50,
    "_isFastLaunch": false,
    "category": "Accelerated computing",
    "gpuNum": 1,
    "hideHardwareSpecs": false,
    "memoryGiB": 128,
    "name": "ml.g5.8xlarge",
    "vcpuNum": 32
   },
   {
    "_defaultOrder": 51,
    "_isFastLaunch": false,
    "category": "Accelerated computing",
    "gpuNum": 1,
    "hideHardwareSpecs": false,
    "memoryGiB": 256,
    "name": "ml.g5.16xlarge",
    "vcpuNum": 64
   },
   {
    "_defaultOrder": 52,
    "_isFastLaunch": false,
    "category": "Accelerated computing",
    "gpuNum": 4,
    "hideHardwareSpecs": false,
    "memoryGiB": 192,
    "name": "ml.g5.12xlarge",
    "vcpuNum": 48
   },
   {
    "_defaultOrder": 53,
    "_isFastLaunch": false,
    "category": "Accelerated computing",
    "gpuNum": 4,
    "hideHardwareSpecs": false,
    "memoryGiB": 384,
    "name": "ml.g5.24xlarge",
    "vcpuNum": 96
   },
   {
    "_defaultOrder": 54,
    "_isFastLaunch": false,
    "category": "Accelerated computing",
    "gpuNum": 8,
    "hideHardwareSpecs": false,
    "memoryGiB": 768,
    "name": "ml.g5.48xlarge",
    "vcpuNum": 192
   },
   {
    "_defaultOrder": 55,
    "_isFastLaunch": false,
    "category": "Accelerated computing",
    "gpuNum": 8,
    "hideHardwareSpecs": false,
    "memoryGiB": 1152,
    "name": "ml.p4d.24xlarge",
    "vcpuNum": 96
   },
   {
    "_defaultOrder": 56,
    "_isFastLaunch": false,
    "category": "Accelerated computing",
    "gpuNum": 8,
    "hideHardwareSpecs": false,
    "memoryGiB": 1152,
    "name": "ml.p4de.24xlarge",
    "vcpuNum": 96
   }
  ],
  "kernelspec": {
   "display_name": "Python 3 (Data Science)",
   "language": "python",
   "name": "python3__SAGEMAKER_INTERNAL__arn:aws:sagemaker:us-east-1:081325390199:image/datascience-1.0"
  },
  "language_info": {
   "codemirror_mode": {
    "name": "ipython",
    "version": 3
   },
   "file_extension": ".py",
   "mimetype": "text/x-python",
   "name": "python",
   "nbconvert_exporter": "python",
   "pygments_lexer": "ipython3",
   "version": "3.7.10"
  }
 },
 "nbformat": 4,
 "nbformat_minor": 5
}
