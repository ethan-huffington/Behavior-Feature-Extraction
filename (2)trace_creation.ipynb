{
 "cells": [
  {
   "cell_type": "markdown",
   "id": "f0c8030d-9660-430d-830e-b7b95ac4eafe",
   "metadata": {
    "tags": []
   },
   "source": [
    "<div style=\"background-color:green; color:white; padding:10px; font-size:20px\">\n",
    "1 - Setup"
   ]
  },
  {
   "cell_type": "code",
   "execution_count": 1,
   "id": "764125a7-a8f7-487e-8f70-cb8d8f276c1e",
   "metadata": {
    "tags": []
   },
   "outputs": [
    {
     "name": "stdout",
     "output_type": "stream",
     "text": [
      "Requirement already satisfied: boto3 in /opt/conda/lib/python3.7/site-packages (1.28.14)\n",
      "Requirement already satisfied: botocore<1.32.0,>=1.31.14 in /opt/conda/lib/python3.7/site-packages (from boto3) (1.31.14)\n",
      "Requirement already satisfied: jmespath<2.0.0,>=0.7.1 in /opt/conda/lib/python3.7/site-packages (from boto3) (1.0.1)\n",
      "Requirement already satisfied: s3transfer<0.7.0,>=0.6.0 in /opt/conda/lib/python3.7/site-packages (from boto3) (0.6.1)\n",
      "Requirement already satisfied: python-dateutil<3.0.0,>=2.1 in /opt/conda/lib/python3.7/site-packages (from botocore<1.32.0,>=1.31.14->boto3) (2.8.2)\n",
      "Collecting urllib3<1.27,>=1.25.4 (from botocore<1.32.0,>=1.31.14->boto3)\n",
      "  Obtaining dependency information for urllib3<1.27,>=1.25.4 from https://files.pythonhosted.org/packages/c5/05/c214b32d21c0b465506f95c4f28ccbcba15022e000b043b72b3df7728471/urllib3-1.26.16-py2.py3-none-any.whl.metadata\n",
      "  Using cached urllib3-1.26.16-py2.py3-none-any.whl.metadata (48 kB)\n",
      "Requirement already satisfied: six>=1.5 in /opt/conda/lib/python3.7/site-packages (from python-dateutil<3.0.0,>=2.1->botocore<1.32.0,>=1.31.14->boto3) (1.14.0)\n",
      "Using cached urllib3-1.26.16-py2.py3-none-any.whl (143 kB)\n",
      "\u001b[33mDEPRECATION: pyodbc 4.0.0-unsupported has a non-standard version number. pip 23.3 will enforce this behaviour change. A possible replacement is to upgrade to a newer version of pyodbc or contact the author to suggest that they release a version with a conforming version number. Discussion can be found at https://github.com/pypa/pip/issues/12063\u001b[0m\u001b[33m\n",
      "\u001b[0mInstalling collected packages: urllib3\n",
      "  Attempting uninstall: urllib3\n",
      "    Found existing installation: urllib3 2.0.4\n",
      "    Uninstalling urllib3-2.0.4:\n",
      "      Successfully uninstalled urllib3-2.0.4\n",
      "\u001b[31mERROR: pip's dependency resolver does not currently take into account all the packages that are installed. This behaviour is the source of the following dependency conflicts.\n",
      "sparkmagic 0.20.4 requires nest-asyncio==1.5.5, but you have nest-asyncio 1.5.7 which is incompatible.\u001b[0m\u001b[31m\n",
      "\u001b[0mSuccessfully installed urllib3-1.26.16\n",
      "\u001b[33mWARNING: Running pip as the 'root' user can result in broken permissions and conflicting behaviour with the system package manager. It is recommended to use a virtual environment instead: https://pip.pypa.io/warnings/venv\u001b[0m\u001b[33m\n",
      "\u001b[0m"
     ]
    }
   ],
   "source": [
    "!pip install boto3"
   ]
  },
  {
   "cell_type": "code",
   "execution_count": 2,
   "id": "21a59e89-6fc9-4704-9305-880971a408ae",
   "metadata": {
    "tags": []
   },
   "outputs": [],
   "source": [
    "import random\n",
    "import time\n",
    "import boto3\n",
    "import pandas as pd\n",
    "\n",
    "# Project Scripts\n",
    "import data_handling"
   ]
  },
  {
   "cell_type": "markdown",
   "id": "34991970-8584-4084-92f9-80c17869842f",
   "metadata": {
    "tags": []
   },
   "source": [
    "<div style=\"background-color:teal; color:white; padding:0px; font-size:20px\">\n",
    "♺ Refresh"
   ]
  },
  {
   "cell_type": "code",
   "execution_count": 3,
   "id": "241821ae-876c-4acf-a614-2deca2f6b069",
   "metadata": {
    "tags": []
   },
   "outputs": [
    {
     "data": {
      "text/plain": [
       "<module 'data_handling' from '/root/projects/behavior_project/data_handling.py'>"
      ]
     },
     "execution_count": 3,
     "metadata": {},
     "output_type": "execute_result"
    }
   ],
   "source": [
    "# Re-freshing the module import for development purposes\n",
    "from importlib import reload\n",
    "reload(data_handling)"
   ]
  },
  {
   "cell_type": "markdown",
   "id": "d78eb96e-0531-4f46-8781-a4ed9faf1360",
   "metadata": {
    "tags": []
   },
   "source": [
    "#### Sagemaker User & IAM Credentials"
   ]
  },
  {
   "cell_type": "code",
   "execution_count": 4,
   "id": "bfbf5ebb-eeb2-40b1-ab49-8a6832678376",
   "metadata": {
    "tags": []
   },
   "outputs": [
    {
     "name": "stdout",
     "output_type": "stream",
     "text": [
      "Your AWS Account:  717145514721\n",
      "Logged-in Account: 717145514721\n",
      "User ARN: arn:aws:sts::717145514721:assumed-role/AWS-SageMakerFullAccess-Role/SageMaker\n"
     ]
    }
   ],
   "source": [
    "# Create credentials session (log-in to AWS account)\n",
    "sess = boto3.Session()\n",
    "# Get information about current User\n",
    "sts = sess.client(\"sts\")\n",
    "response = sts.get_caller_identity()\n",
    "\n",
    "print(\"Your AWS Account:  717145514721\")\n",
    "print(\"Logged-in Account:\", response[\"Account\"])\n",
    "print(\"User ARN:\", response[\"Arn\"])"
   ]
  },
  {
   "cell_type": "markdown",
   "id": "8d23c49d-84fc-41da-9cfc-bc63e4424b36",
   "metadata": {},
   "source": [
    "### S3 Connection"
   ]
  },
  {
   "cell_type": "code",
   "execution_count": 5,
   "id": "4074b0a8-77ef-4df0-8678-9dc03afe6a13",
   "metadata": {
    "tags": []
   },
   "outputs": [
    {
     "name": "stdout",
     "output_type": "stream",
     "text": [
      "Bucket List: ['behavior-project', 'sagemaker-us-east-1-717145514721']\n"
     ]
    },
    {
     "name": "stderr",
     "output_type": "stream",
     "text": [
      "/opt/conda/lib/python3.7/site-packages/boto3/compat.py:82: PythonDeprecationWarning: Boto3 will no longer support Python 3.7 starting December 13, 2023. To continue receiving service updates, bug fixes, and security updates please upgrade to Python 3.8 or later. More information can be found here: https://aws.amazon.com/blogs/developer/python-support-policy-updates-for-aws-sdks-and-tools/\n",
      "  warnings.warn(warning, PythonDeprecationWarning)\n"
     ]
    }
   ],
   "source": [
    "import boto3\n",
    "\n",
    "# Create a session using your AWS credentials\n",
    "s3 = boto3.client(\"s3\")\n",
    "\n",
    "# List all bucket names\n",
    "response = s3.list_buckets()\n",
    "\n",
    "# Get a list of all bucket names from the response\n",
    "buckets = [bucket[\"Name\"] for bucket in response[\"Buckets\"]]\n",
    "\n",
    "# Print out the bucket list\n",
    "print(\"Bucket List: %s\" % buckets)"
   ]
  },
  {
   "cell_type": "markdown",
   "id": "41734218-0b97-4389-a588-582723856510",
   "metadata": {},
   "source": [
    "<div style=\"background-color:green; color:white; padding:10px; font-size:20px\">\n",
    "2 - Data Import"
   ]
  },
  {
   "cell_type": "code",
   "execution_count": 6,
   "id": "695a7db9-5e89-4be7-9a99-f80b8f76dd4d",
   "metadata": {
    "tags": []
   },
   "outputs": [],
   "source": [
    "from io import StringIO\n",
    "\n",
    "from data_handling import load_to_dict, view_rand_df"
   ]
  },
  {
   "cell_type": "code",
   "execution_count": 7,
   "id": "c61fcd96-d9ba-499b-9b0f-d6c5d019953c",
   "metadata": {
    "tags": []
   },
   "outputs": [],
   "source": [
    "mPFC_session_df_path = \"s3://behavior-project/processed-data/processed-data/session-df-dictionaries/mpfc-icss//\"\n",
    "FR_session_df_path = \"s3://behavior-project/processed-data/processed-data/session-df-dictionaries/fr-icss//\"\n",
    "\n",
    "dtype_conversion_dict = {\"float64\": \"float32\", \"int64\": \"bool\"}\n",
    "\n",
    "mPFC_session_df_dict = load_to_dict(\n",
    "    s3_url=mPFC_session_df_path, dtype_dict=dtype_conversion_dict\n",
    ")\n",
    "\n",
    "FR_session_df_dict = load_to_dict(\n",
    "    s3_url=FR_session_df_path, dtype_dict=dtype_conversion_dict\n",
    ")"
   ]
  },
  {
   "cell_type": "code",
   "execution_count": 8,
   "id": "dd0f2a90-9556-4dba-adfb-5c51cb02ecaf",
   "metadata": {
    "tags": []
   },
   "outputs": [
    {
     "name": "stdout",
     "output_type": "stream",
     "text": [
      "C58_R10_ChR2_mPFC_30Hz_S01_P02_N_NON_NON\n"
     ]
    },
    {
     "data": {
      "text/html": [
       "<div>\n",
       "<style scoped>\n",
       "    .dataframe tbody tr th:only-of-type {\n",
       "        vertical-align: middle;\n",
       "    }\n",
       "\n",
       "    .dataframe tbody tr th {\n",
       "        vertical-align: top;\n",
       "    }\n",
       "\n",
       "    .dataframe thead th {\n",
       "        text-align: right;\n",
       "    }\n",
       "</style>\n",
       "<table border=\"1\" class=\"dataframe\">\n",
       "  <thead>\n",
       "    <tr style=\"text-align: right;\">\n",
       "      <th></th>\n",
       "      <th>time</th>\n",
       "      <th>centre_position_x</th>\n",
       "      <th>centre_position_y</th>\n",
       "      <th>in_t</th>\n",
       "      <th>in_d</th>\n",
       "      <th>in_h</th>\n",
       "      <th>in_v</th>\n",
       "      <th>session_zone_(v)</th>\n",
       "    </tr>\n",
       "  </thead>\n",
       "  <tbody>\n",
       "    <tr>\n",
       "      <th>0</th>\n",
       "      <td>0.000</td>\n",
       "      <td>NaN</td>\n",
       "      <td>NaN</td>\n",
       "      <td>False</td>\n",
       "      <td>False</td>\n",
       "      <td>True</td>\n",
       "      <td>False</td>\n",
       "      <td>False</td>\n",
       "    </tr>\n",
       "    <tr>\n",
       "      <th>1</th>\n",
       "      <td>1.278</td>\n",
       "      <td>475.0</td>\n",
       "      <td>324.0</td>\n",
       "      <td>False</td>\n",
       "      <td>False</td>\n",
       "      <td>True</td>\n",
       "      <td>False</td>\n",
       "      <td>False</td>\n",
       "    </tr>\n",
       "    <tr>\n",
       "      <th>2</th>\n",
       "      <td>1.285</td>\n",
       "      <td>475.0</td>\n",
       "      <td>324.0</td>\n",
       "      <td>False</td>\n",
       "      <td>False</td>\n",
       "      <td>True</td>\n",
       "      <td>False</td>\n",
       "      <td>False</td>\n",
       "    </tr>\n",
       "  </tbody>\n",
       "</table>\n",
       "</div>"
      ],
      "text/plain": [
       "    time  centre_position_x  centre_position_y   in_t   in_d  in_h   in_v  \\\n",
       "0  0.000                NaN                NaN  False  False  True  False   \n",
       "1  1.278              475.0              324.0  False  False  True  False   \n",
       "2  1.285              475.0              324.0  False  False  True  False   \n",
       "\n",
       "   session_zone_(v)  \n",
       "0             False  \n",
       "1             False  \n",
       "2             False  "
      ]
     },
     "execution_count": 8,
     "metadata": {},
     "output_type": "execute_result"
    }
   ],
   "source": [
    "print(next(iter(mPFC_session_df_dict.keys())))\n",
    "next(iter(mPFC_session_df_dict.values())).head(3)"
   ]
  },
  {
   "cell_type": "code",
   "execution_count": 9,
   "id": "dc8ec4a7-1755-477b-af0d-bed029c328ff",
   "metadata": {
    "tags": []
   },
   "outputs": [
    {
     "name": "stdout",
     "output_type": "stream",
     "text": [
      "C1000_C42A_ChR2_xPVT_F00_S01_P05_N_NON_NON\n"
     ]
    },
    {
     "data": {
      "text/html": [
       "<div>\n",
       "<style scoped>\n",
       "    .dataframe tbody tr th:only-of-type {\n",
       "        vertical-align: middle;\n",
       "    }\n",
       "\n",
       "    .dataframe tbody tr th {\n",
       "        vertical-align: top;\n",
       "    }\n",
       "\n",
       "    .dataframe thead th {\n",
       "        text-align: right;\n",
       "    }\n",
       "</style>\n",
       "<table border=\"1\" class=\"dataframe\">\n",
       "  <thead>\n",
       "    <tr style=\"text-align: right;\">\n",
       "      <th></th>\n",
       "      <th>time</th>\n",
       "      <th>centre_position_x</th>\n",
       "      <th>centre_position_y</th>\n",
       "      <th>in_t</th>\n",
       "      <th>in_d</th>\n",
       "      <th>in_h</th>\n",
       "      <th>in_v</th>\n",
       "      <th>session_zone_(t)</th>\n",
       "    </tr>\n",
       "  </thead>\n",
       "  <tbody>\n",
       "    <tr>\n",
       "      <th>0</th>\n",
       "      <td>0.000</td>\n",
       "      <td>NaN</td>\n",
       "      <td>NaN</td>\n",
       "      <td>False</td>\n",
       "      <td>False</td>\n",
       "      <td>False</td>\n",
       "      <td>False</td>\n",
       "      <td>False</td>\n",
       "    </tr>\n",
       "    <tr>\n",
       "      <th>1</th>\n",
       "      <td>0.287</td>\n",
       "      <td>271.0</td>\n",
       "      <td>260.0</td>\n",
       "      <td>False</td>\n",
       "      <td>False</td>\n",
       "      <td>False</td>\n",
       "      <td>False</td>\n",
       "      <td>False</td>\n",
       "    </tr>\n",
       "    <tr>\n",
       "      <th>2</th>\n",
       "      <td>0.407</td>\n",
       "      <td>261.0</td>\n",
       "      <td>267.0</td>\n",
       "      <td>False</td>\n",
       "      <td>False</td>\n",
       "      <td>False</td>\n",
       "      <td>False</td>\n",
       "      <td>False</td>\n",
       "    </tr>\n",
       "  </tbody>\n",
       "</table>\n",
       "</div>"
      ],
      "text/plain": [
       "    time  centre_position_x  centre_position_y   in_t   in_d   in_h   in_v  \\\n",
       "0  0.000                NaN                NaN  False  False  False  False   \n",
       "1  0.287              271.0              260.0  False  False  False  False   \n",
       "2  0.407              261.0              267.0  False  False  False  False   \n",
       "\n",
       "   session_zone_(t)  \n",
       "0             False  \n",
       "1             False  \n",
       "2             False  "
      ]
     },
     "execution_count": 9,
     "metadata": {},
     "output_type": "execute_result"
    }
   ],
   "source": [
    "print(next(iter(FR_session_df_dict.keys())))\n",
    "next(iter(FR_session_df_dict.values())).head(3)"
   ]
  },
  {
   "cell_type": "code",
   "execution_count": 10,
   "id": "fac4c086-9c15-414f-8ceb-5c6abefc602a",
   "metadata": {
    "tags": []
   },
   "outputs": [
    {
     "data": {
      "text/html": [
       "<div>\n",
       "<style scoped>\n",
       "    .dataframe tbody tr th:only-of-type {\n",
       "        vertical-align: middle;\n",
       "    }\n",
       "\n",
       "    .dataframe tbody tr th {\n",
       "        vertical-align: top;\n",
       "    }\n",
       "\n",
       "    .dataframe thead th {\n",
       "        text-align: right;\n",
       "    }\n",
       "</style>\n",
       "<table border=\"1\" class=\"dataframe\">\n",
       "  <thead>\n",
       "    <tr style=\"text-align: right;\">\n",
       "      <th></th>\n",
       "      <th>session_id</th>\n",
       "      <th>animal_id_1</th>\n",
       "      <th>animal_id_2</th>\n",
       "      <th>virus</th>\n",
       "      <th>stim_target</th>\n",
       "      <th>stim_freq</th>\n",
       "      <th>session_num</th>\n",
       "      <th>pod_num</th>\n",
       "      <th>stim_zone</th>\n",
       "      <th>sens_treat_1</th>\n",
       "      <th>sens_treat_2</th>\n",
       "      <th>stim_session_list</th>\n",
       "    </tr>\n",
       "  </thead>\n",
       "  <tbody>\n",
       "    <tr>\n",
       "      <th>0</th>\n",
       "      <td>C58_R10_ChR2_mPFC_30Hz_S01_P02_N_NON_NON</td>\n",
       "      <td>C58</td>\n",
       "      <td>R10</td>\n",
       "      <td>ChR2</td>\n",
       "      <td>mPFC</td>\n",
       "      <td>30Hz</td>\n",
       "      <td>S01</td>\n",
       "      <td>P02</td>\n",
       "      <td>N</td>\n",
       "      <td>NON</td>\n",
       "      <td>NON</td>\n",
       "      <td>NVN</td>\n",
       "    </tr>\n",
       "    <tr>\n",
       "      <th>1</th>\n",
       "      <td>C58_R10_ChR2_mPFC_30Hz_S02_P02_V_NON_NON</td>\n",
       "      <td>C58</td>\n",
       "      <td>R10</td>\n",
       "      <td>ChR2</td>\n",
       "      <td>mPFC</td>\n",
       "      <td>30Hz</td>\n",
       "      <td>S02</td>\n",
       "      <td>P02</td>\n",
       "      <td>V</td>\n",
       "      <td>NON</td>\n",
       "      <td>NON</td>\n",
       "      <td>NVN</td>\n",
       "    </tr>\n",
       "    <tr>\n",
       "      <th>2</th>\n",
       "      <td>C58_R10_ChR2_mPFC_30Hz_S03_P02_N_NON_NON</td>\n",
       "      <td>C58</td>\n",
       "      <td>R10</td>\n",
       "      <td>ChR2</td>\n",
       "      <td>mPFC</td>\n",
       "      <td>30Hz</td>\n",
       "      <td>S03</td>\n",
       "      <td>P02</td>\n",
       "      <td>N</td>\n",
       "      <td>NON</td>\n",
       "      <td>NON</td>\n",
       "      <td>NVN</td>\n",
       "    </tr>\n",
       "  </tbody>\n",
       "</table>\n",
       "</div>"
      ],
      "text/plain": [
       "                                 session_id animal_id_1 animal_id_2 virus  \\\n",
       "0  C58_R10_ChR2_mPFC_30Hz_S01_P02_N_NON_NON         C58         R10  ChR2   \n",
       "1  C58_R10_ChR2_mPFC_30Hz_S02_P02_V_NON_NON         C58         R10  ChR2   \n",
       "2  C58_R10_ChR2_mPFC_30Hz_S03_P02_N_NON_NON         C58         R10  ChR2   \n",
       "\n",
       "  stim_target stim_freq session_num pod_num stim_zone sens_treat_1  \\\n",
       "0        mPFC      30Hz         S01     P02         N          NON   \n",
       "1        mPFC      30Hz         S02     P02         V          NON   \n",
       "2        mPFC      30Hz         S03     P02         N          NON   \n",
       "\n",
       "  sens_treat_2 stim_session_list  \n",
       "0          NON               NVN  \n",
       "1          NON               NVN  \n",
       "2          NON               NVN  "
      ]
     },
     "execution_count": 10,
     "metadata": {},
     "output_type": "execute_result"
    }
   ],
   "source": [
    "# Specify the S3 bucket and the file key\n",
    "bucket_name = \"behavior-project\"\n",
    "file_key = \"processed-data/processed-data/session-info-dfs/mPFC_session_info_df.csv\"\n",
    "\n",
    "# Get the CSV file from S3\n",
    "csv_obj = s3.get_object(Bucket=bucket_name, Key=file_key)\n",
    "body = csv_obj[\"Body\"].read().decode(\"utf-8\")\n",
    "\n",
    "# Convert the CSV data to a pandas DataFrame\n",
    "mPFC_session_info_df = pd.read_csv(StringIO(body))\n",
    "mPFC_session_info_df.head(3)"
   ]
  },
  {
   "cell_type": "code",
   "execution_count": 11,
   "id": "01a07f3f-8ba4-45f8-9c7e-2ca81a43e868",
   "metadata": {
    "tags": []
   },
   "outputs": [
    {
     "data": {
      "text/html": [
       "<div>\n",
       "<style scoped>\n",
       "    .dataframe tbody tr th:only-of-type {\n",
       "        vertical-align: middle;\n",
       "    }\n",
       "\n",
       "    .dataframe tbody tr th {\n",
       "        vertical-align: top;\n",
       "    }\n",
       "\n",
       "    .dataframe thead th {\n",
       "        text-align: right;\n",
       "    }\n",
       "</style>\n",
       "<table border=\"1\" class=\"dataframe\">\n",
       "  <thead>\n",
       "    <tr style=\"text-align: right;\">\n",
       "      <th></th>\n",
       "      <th>session_id</th>\n",
       "      <th>animal_id_1</th>\n",
       "      <th>animal_id_2</th>\n",
       "      <th>virus</th>\n",
       "      <th>stim_target</th>\n",
       "      <th>stim_freq</th>\n",
       "      <th>session_num</th>\n",
       "      <th>pod_num</th>\n",
       "      <th>stim_zone</th>\n",
       "      <th>sens_treat_1</th>\n",
       "      <th>sens_treat_2</th>\n",
       "      <th>stim_session_list</th>\n",
       "    </tr>\n",
       "  </thead>\n",
       "  <tbody>\n",
       "    <tr>\n",
       "      <th>0</th>\n",
       "      <td>C1000_C42A_ChR2_xPVT_F00_S01_P05_N_NON_NON</td>\n",
       "      <td>C1000</td>\n",
       "      <td>C42A</td>\n",
       "      <td>ChR2</td>\n",
       "      <td>xPVT</td>\n",
       "      <td>F00</td>\n",
       "      <td>S01</td>\n",
       "      <td>P05</td>\n",
       "      <td>N</td>\n",
       "      <td>NON</td>\n",
       "      <td>NON</td>\n",
       "      <td>NTD</td>\n",
       "    </tr>\n",
       "    <tr>\n",
       "      <th>1</th>\n",
       "      <td>C1000_C42A_ChR2_xPVT_F20_S02_P05_T_NON_NON</td>\n",
       "      <td>C1000</td>\n",
       "      <td>C42A</td>\n",
       "      <td>ChR2</td>\n",
       "      <td>xPVT</td>\n",
       "      <td>F20</td>\n",
       "      <td>S02</td>\n",
       "      <td>P05</td>\n",
       "      <td>T</td>\n",
       "      <td>NON</td>\n",
       "      <td>NON</td>\n",
       "      <td>NTD</td>\n",
       "    </tr>\n",
       "    <tr>\n",
       "      <th>2</th>\n",
       "      <td>C1000_C42A_ChR2_xPVT_F20_S03_P05_D_NON_NON</td>\n",
       "      <td>C1000</td>\n",
       "      <td>C42A</td>\n",
       "      <td>ChR2</td>\n",
       "      <td>xPVT</td>\n",
       "      <td>F20</td>\n",
       "      <td>S03</td>\n",
       "      <td>P05</td>\n",
       "      <td>D</td>\n",
       "      <td>NON</td>\n",
       "      <td>NON</td>\n",
       "      <td>NTD</td>\n",
       "    </tr>\n",
       "  </tbody>\n",
       "</table>\n",
       "</div>"
      ],
      "text/plain": [
       "                                   session_id animal_id_1 animal_id_2 virus  \\\n",
       "0  C1000_C42A_ChR2_xPVT_F00_S01_P05_N_NON_NON       C1000        C42A  ChR2   \n",
       "1  C1000_C42A_ChR2_xPVT_F20_S02_P05_T_NON_NON       C1000        C42A  ChR2   \n",
       "2  C1000_C42A_ChR2_xPVT_F20_S03_P05_D_NON_NON       C1000        C42A  ChR2   \n",
       "\n",
       "  stim_target stim_freq session_num pod_num stim_zone sens_treat_1  \\\n",
       "0        xPVT       F00         S01     P05         N          NON   \n",
       "1        xPVT       F20         S02     P05         T          NON   \n",
       "2        xPVT       F20         S03     P05         D          NON   \n",
       "\n",
       "  sens_treat_2 stim_session_list  \n",
       "0          NON               NTD  \n",
       "1          NON               NTD  \n",
       "2          NON               NTD  "
      ]
     },
     "execution_count": 11,
     "metadata": {},
     "output_type": "execute_result"
    }
   ],
   "source": [
    "# Specify the S3 bucket and the file key\n",
    "bucket_name = \"behavior-project\"\n",
    "file_key = \"processed-data/processed-data/session-info-dfs/FR_session_info_df.csv\"\n",
    "\n",
    "# Get the CSV file from S3\n",
    "csv_obj = s3.get_object(Bucket=bucket_name, Key=file_key)\n",
    "body = csv_obj[\"Body\"].read().decode(\"utf-8\")\n",
    "\n",
    "# Convert the CSV data to a pandas DataFrame\n",
    "FR_session_info_df = pd.read_csv(StringIO(body))\n",
    "FR_session_info_df.head(3)"
   ]
  },
  {
   "cell_type": "markdown",
   "id": "58e4ea9a-9ad6-40a7-a9ed-d36c6b41732e",
   "metadata": {},
   "source": [
    "<div style=\"background-color:green; color:white; padding:10px; font-size:20px\">\n",
    "3 - Trace Creation"
   ]
  },
  {
   "cell_type": "markdown",
   "id": "ec802d41-1910-4920-89fe-b950ed5a888e",
   "metadata": {},
   "source": [
    "## Function Overview\n",
    "\n",
    "<img src=\"./images/Trace_Creation_Function.png\" width=\"400\" />\n",
    "\n",
    "Traces are essentially created by 'cutting' the datastream at stim-zone status transitions and then stepping (at most) 5 seconds backwards in time to include the behavior leading up to the zone entry. The resulting traces are shorter if the animal enters the zone again before the 5 seconds had transpired."
   ]
  },
  {
   "cell_type": "code",
   "execution_count": 12,
   "id": "a552adb0-2b0c-4952-83eb-d0cf84c34bdc",
   "metadata": {
    "tags": []
   },
   "outputs": [],
   "source": [
    "from data_handling import interpolate_trace, trim_to_5, zone_entry"
   ]
  },
  {
   "cell_type": "raw",
   "id": "89b70ae8-b16b-4952-98e5-2491e0fe26ef",
   "metadata": {},
   "source": [
    "DICT = mPFC_session_df_dict\n",
    "INFO_DF = mPFC_session_info_df\n",
    "STIM_COL_IDX = 7\n",
    "TIME_COL_IDX = 0\n",
    "\n",
    "untrimmed_traces = zone_entry(df_dict=DICT, info_df=INFO_DF, stim_col_idx=STIM_COL_IDX)\n",
    "\n",
    "mPFC_trace_dict = trim_to_5(\n",
    "    dict_list_df=untrimmed_traces, stim_col_idx=STIM_COL_IDX, time_col_idx=TIME_COL_IDX\n",
    ")"
   ]
  },
  {
   "cell_type": "code",
   "execution_count": 13,
   "id": "bdefa2f2-6e41-409b-9a64-312dd611ebe4",
   "metadata": {
    "tags": []
   },
   "outputs": [],
   "source": [
    "DICT = FR_session_df_dict\n",
    "INFO_DF = FR_session_info_df\n",
    "STIM_COL_IDX = 7\n",
    "TIME_COL_IDX = 0\n",
    "\n",
    "untrimmed_traces = zone_entry(df_dict = DICT,\n",
    "                              info_df = INFO_DF,\n",
    "                              stim_col_idx = STIM_COL_IDX)\n",
    "\n",
    "FR_trace_dict = trim_to_5(dict_list_df = untrimmed_traces,\n",
    "                       stim_col_idx = STIM_COL_IDX,\n",
    "                       time_col_idx = TIME_COL_IDX)"
   ]
  },
  {
   "cell_type": "markdown",
   "id": "43347e3b-0f61-45cf-92de-306fc9f443f9",
   "metadata": {},
   "source": [
    "#### Trace Time Durations Check"
   ]
  },
  {
   "cell_type": "code",
   "execution_count": 14,
   "id": "8e6b5c62-4d07-4736-93fa-98a608a39098",
   "metadata": {
    "tags": []
   },
   "outputs": [
    {
     "name": "stdout",
     "output_type": "stream",
     "text": [
      "No Trace Duration Problems Found\n"
     ]
    }
   ],
   "source": [
    "from datetime import timedelta\n",
    "\n",
    "TRACE_DICT = FR_trace_dict\n",
    "\n",
    "problem_found = False\n",
    "\n",
    "for key, value in TRACE_DICT.items():\n",
    "\n",
    "    for index, df in enumerate(value):\n",
    "        time_delta = df[\"time\"].max() - df[\"time\"].min()\n",
    "        five_sec = timedelta(seconds=5)\n",
    "        zero = timedelta(seconds=0)\n",
    "\n",
    "        if time_delta > five_sec:\n",
    "            print(\n",
    "                \"trace too long! - - - - - - - - - - - - - - - - - - - - - - - - - - - - - - - - - - \"\n",
    "            )\n",
    "            print(f\"{key}, trace {index} is too long.\")\n",
    "            problem_found = True\n",
    "        elif df.empty:\n",
    "            print(f\"{key}, trace {index} is empty.\")\n",
    "            problem_found = True\n",
    "        elif time_delta == zero:\n",
    "            print(f\"{key}, trace {index} has no time.\")\n",
    "            problem_found = True\n",
    "            print(len(df))\n",
    "\n",
    "if not problem_found:\n",
    "    print(\"No Trace Duration Problems Found\")"
   ]
  },
  {
   "cell_type": "markdown",
   "id": "163079f5-5b6e-439d-9765-9f2dd627551d",
   "metadata": {},
   "source": [
    "<div style=\"background-color:green; color:white; padding:10px; font-size:20px\">\n",
    "4 - Trace Plotting"
   ]
  },
  {
   "cell_type": "raw",
   "id": "9c4ff20a-45df-4313-9492-b93b614d8ad4",
   "metadata": {
    "tags": []
   },
   "source": [
    "# Plot Random Session\n",
    "\n",
    "TRACE_DICT = FR_trace_dict\n",
    "\n",
    "temp_trace_dict = {}\n",
    "for key in TRACE_DICT.keys():\n",
    "    category = key.split('_')[0] # Get the identifier value\n",
    "    if category not in temp_trace_dict:\n",
    "        temp_trace_dict[category] = [] # Create an empty list for this category\n",
    "    temp_trace_dict[category].append({key: TRACE_DICT[key]}) # Add the key-value pair to the list for this category\n",
    "\n",
    "trace_dict_by_animal = {}\n",
    "for category, key_value_pairs in temp_trace_dict.items():\n",
    "    trace_dict_by_animal[category] = {} # Create an empty dictionary for this category\n",
    "    for key_value_pair in key_value_pairs:\n",
    "        key, value = list(key_value_pair.items())[0] # Get the key and value from the key-value pair\n",
    "        trace_dict_by_animal[category][key] = value # Add the key-value pair to the final dictionary"
   ]
  },
  {
   "cell_type": "raw",
   "id": "d4521808-1ae3-4d7a-af01-5aeb73fa1e45",
   "metadata": {
    "tags": []
   },
   "source": [
    "# Plot Random Session\n",
    "\n",
    "import plotly\n",
    "import plotly.graph_objects as go\n",
    "import random\n",
    "\n",
    "CENTERX_COL_IDX = 1\n",
    "CENTERY_COL_IDX = 2\n",
    "\n",
    "# For df inspection in cell below\n",
    "session_name_dict = {}\n",
    "\n",
    "# Grab random trace list\n",
    "random_key = random.choice(list(trace_dict_by_animal.keys()))\n",
    "random_session = trace_dict_by_animal[random_key]\n",
    "# Plotting From Sub-Dictionaries\n",
    "for i, subframe in random_session.items():\n",
    "  session_name_dict[i] = subframe # load df information for viewing\n",
    "  fig = go.Figure()\n",
    "  name = i\n",
    "  fig.update_layout(title = name, height = 700, width = 700)\n",
    "\n",
    "  for trace in subframe:\n",
    "    fig.add_trace(\n",
    "        go.Scatter(x = trace.iloc[:,CENTERX_COL_IDX],\n",
    "                   y = trace.iloc[:,CENTERY_COL_IDX],\n",
    "                   mode='lines')  # To show line\n",
    "    )\n",
    "    fig.add_trace(\n",
    "        go.Scatter(x = [trace.iloc[0, CENTERX_COL_IDX]],  # First x value\n",
    "                   y = [trace.iloc[0, CENTERY_COL_IDX]],  # First y value\n",
    "                   mode='markers',  # Only show marker\n",
    "                   marker=dict(color='red', size=10),  # Define marker style\n",
    "                   name='Start of trace',\n",
    "                   showlegend = False)  # Name of trace\n",
    "    )\n",
    "  fig.show()\n"
   ]
  },
  {
   "cell_type": "markdown",
   "id": "3043a4d1-246a-4b53-995e-d8e235cd54bb",
   "metadata": {},
   "source": [
    "<div style=\"background-color:darkseagreen; color:black; padding:0px; font-size:20px\">\n",
    "Full Dataset Plot and Save"
   ]
  },
  {
   "cell_type": "code",
   "execution_count": 15,
   "id": "1dae2874-a113-48cb-a221-e538aea685e3",
   "metadata": {
    "tags": []
   },
   "outputs": [],
   "source": [
    "import itertools\n",
    "from io import BytesIO\n",
    "\n",
    "import seaborn as sns\n",
    "from matplotlib import cm\n",
    "from matplotlib import pyplot as plt"
   ]
  },
  {
   "cell_type": "markdown",
   "id": "a3ece414-70dd-4d38-8bc0-86ba32ef9e21",
   "metadata": {},
   "source": [
    "<div style=\"background-color:teal; color:white; padding:0px; font-size:20px\">\n",
    "mPFC"
   ]
  },
  {
   "cell_type": "raw",
   "id": "3be6ab78-4686-462f-8e0c-0ae311c9610d",
   "metadata": {
    "tags": []
   },
   "source": [
    "TRACE_DICT = mPFC_trace_dict\n",
    "CENTERX_COL_IDX = 1\n",
    "CENTERY_COL_IDX = 2\n",
    "TIME_COL_IDX = 0\n",
    "\n",
    "S3_DIR_PATH = \"s3://behavior-project/processed-data/trace-images/mpfc-icss\"\n",
    "\n",
    "# Split the s3_path into bucket_name and prefix\n",
    "bucket_name, prefix = S3_DIR_PATH.replace(\"s3://\", \"\").split(\"/\", 1)\n",
    "\n",
    "# Column List\n",
    "session_id_col = []\n",
    "trace_num_col = []\n",
    "start_time_col = []\n",
    "end_time_col = []\n",
    "s3_url_col = []\n",
    "\n",
    "# Fig Axes Parameters\n",
    "xmin, xmax = 0, 550\n",
    "ymin, ymax = 0, 550\n",
    "\n",
    "# SESSION LEVEL - - - - - - - - - - - - - - - - - - - - - - - - - - - - - - - -\n",
    "# for name, tracelist in itertools.islice(TRACE_DICT.items(), 1): # For subsection testing of the loop\n",
    "\n",
    "for name, tracelist in TRACE_DICT.items():\n",
    "\n",
    "    # TRACE LEVEL - - - - - - - - - - - - - - - - - - - - - - - - - - - - - - - - -\n",
    "    for list_idx, trace in enumerate(tracelist):\n",
    "\n",
    "        # Interpolate between datapoints for plotting\n",
    "        trace_interp = interpolate_trace(\n",
    "            trace,\n",
    "            centerX_col_idx=CENTERX_COL_IDX,\n",
    "            centerY_col_idx=CENTERY_COL_IDX,\n",
    "            time_col_idx=TIME_COL_IDX,\n",
    "        )\n",
    "\n",
    "        # Instantiate Figure Size & params\n",
    "        dpi = 128\n",
    "        file_extension = \"png\"\n",
    "        fig, ax = plt.subplots(figsize=(224 / dpi, 224 / dpi), dpi=128)\n",
    "\n",
    "        # Plot\n",
    "        sns.scatterplot(\n",
    "            data=trace_interp,\n",
    "            x=trace_interp.iloc[:, 0],\n",
    "            y=trace_interp.iloc[:, 1],\n",
    "            hue=\"Time_d\",\n",
    "            hue_norm=(0, 5),\n",
    "            edgecolor=\"none\",\n",
    "            legend=False,\n",
    "            alpha=0.3,\n",
    "            ax=ax,\n",
    "        )  # Adding this to close the figure later in the loop\n",
    "\n",
    "        # Setting Axes Range\n",
    "        plt.xlim(xmin, xmax)\n",
    "        plt.ylim(ymin, ymax)\n",
    "        plt.axis(\"off\")  # Turn axes marks off\n",
    "\n",
    "        # Define file_name\n",
    "        file_name = f\"{prefix}/{name}_{list_idx}.{file_extension}\"\n",
    "\n",
    "        # Load Dataframe Information\n",
    "        session_id_col.append(name)\n",
    "        trace_num_col.append(f\"{list_idx}\")\n",
    "        trace[TIME_COL_IDX] = pd.to_datetime(\n",
    "            trace.columns[TIME_COL_IDX], errors=\"coerce\"\n",
    "        )  # *** Converting col to datetime\n",
    "        start_time_col.append(trace[trace.columns[TIME_COL_IDX]].min())\n",
    "        end_time_col.append(trace[trace.columns[TIME_COL_IDX]].max())\n",
    "        s3_url_col.append(f\"{bucket_name}/{file_name}\")\n",
    "\n",
    "        # Save the plot to a BytesIO object\n",
    "        img_data = BytesIO()\n",
    "        plt.savefig(img_data, dpi=128, format=\"png\", pad_inches=0)\n",
    "        img_data.seek(0)\n",
    "\n",
    "        # Save the plot to the S3 bucket\n",
    "        s3.upload_fileobj(img_data, Bucket=bucket_name, Key=file_name)\n",
    "\n",
    "        # Close the figure to free up memory\n",
    "        plt.close(fig)\n",
    "\n",
    "# MASTER DF CREATION - - - - - - - - - - - - - - - - - - - - - - - - - - - - - -\n",
    "\n",
    "# Temp dict. to load column data\n",
    "df_build_dict = {\n",
    "    \"session_id\": session_id_col,\n",
    "    \"trace_num\": trace_num_col,\n",
    "    \"start_time\": start_time_col,\n",
    "    \"end_time\": end_time_col,\n",
    "    \"s3_url\": s3_url_col,\n",
    "}"
   ]
  },
  {
   "cell_type": "raw",
   "id": "656d349b-3ff9-4580-91ba-fe91be3fa4de",
   "metadata": {},
   "source": [
    "# Build df from dict\n",
    "mPFC_trace_info = pd.DataFrame(df_build_dict)\n",
    "mPFC_trace_info.head(3)"
   ]
  },
  {
   "cell_type": "markdown",
   "id": "8d8202cd-58f2-4e23-9ed2-9c2b5bf5e948",
   "metadata": {},
   "source": [
    "#### Remove Unwanted Columns From Trace Dict"
   ]
  },
  {
   "cell_type": "raw",
   "id": "a54446ac-ca74-4a39-ad2c-271becf2c08a",
   "metadata": {
    "tags": []
   },
   "source": [
    "from data_handling import remove_columns_from_dict\n",
    "\n",
    "drop_col_list = ['Time_d', 0]\n",
    "\n",
    "# Call the function to remove the columns\n",
    "mPFC_trace_dict = remove_columns_from_dict(mPFC_trace_dict, drop_col_list)"
   ]
  },
  {
   "cell_type": "raw",
   "id": "459b184e-de87-4269-8864-7848f5b1bf0d",
   "metadata": {
    "tags": []
   },
   "source": [
    "next(iter(new_dict.values()))[0].head(3)"
   ]
  },
  {
   "cell_type": "markdown",
   "id": "4598fcf7-f62d-41bb-b558-5c4400341be7",
   "metadata": {},
   "source": [
    "#### Save Files"
   ]
  },
  {
   "cell_type": "raw",
   "id": "0bd59a73-25b2-44f6-857f-ca4786a2b49c",
   "metadata": {
    "tags": []
   },
   "source": [
    "# mpfc_trace_dict:\n",
    "\n",
    "FILE = mPFC_trace_dict\n",
    "S3_DIR_PATH = \"s3://behavior-project/processed-data/processed-data/trace-df-dictionaries/mpfc-icss\"\n",
    "\n",
    "# Split the s3_path into bucket_name and prefix\n",
    "bucket_name, prefix = S3_DIR_PATH.replace(\"s3://\", \"\").split(\"/\", 1)\n",
    "\n",
    "# Iterate through the keys and lists of DataFrames in the dictionary\n",
    "for key, df_list in FILE.items():\n",
    "    # Iterate through the DataFrames in the list, keeping track of the index\n",
    "    for list_index, df in enumerate(df_list):\n",
    "        # Create a CSV buffer\n",
    "        csv_buffer = StringIO()\n",
    "\n",
    "        # Convert the dataframe to CSV and write it to the buffer\n",
    "        df.to_csv(csv_buffer, index=False)\n",
    "\n",
    "        # Create a file name based on the dictionary key and list index\n",
    "        file_name = f\"{prefix}/{key}_{list_index}.csv\"\n",
    "\n",
    "        # Upload the CSV file to S3\n",
    "        s3.put_object(Bucket=bucket_name, Key=file_name, Body=csv_buffer.getvalue())"
   ]
  },
  {
   "cell_type": "raw",
   "id": "919315e6-9634-45bf-8fa1-26116a3246ee",
   "metadata": {
    "tags": []
   },
   "source": [
    "# mpfc_trace_info\n",
    "\n",
    "FILE = mPFC_trace_info\n",
    "S3_DIR_PATH = \"s3://behavior-project/processed-data/processed-data/trace-info-dfs\"\n",
    "FILE_NAME = 'mpfc-trace-info-df.csv'\n",
    "\n",
    "# Split the s3_path into bucket_name and prefix\n",
    "bucket_name, prefix = S3_DIR_PATH.replace(\"s3://\", \"\").split(\"/\", 1)\n",
    "file_path = f\"{prefix}/{FILE_NAME}\"\n",
    "\n",
    "# Create a CSV buffer\n",
    "csv_buffer = StringIO()\n",
    "\n",
    "# Convert the dataframe to CSV and write it to the buffer\n",
    "FILE.to_csv(csv_buffer, index=False)\n",
    "\n",
    "# Upload the CSV file to S3\n",
    "s3.put_object(Bucket=bucket_name, Key=file_path, Body=csv_buffer.getvalue())"
   ]
  },
  {
   "cell_type": "markdown",
   "id": "311511d4-8e70-4046-bae3-7fba303e4bd0",
   "metadata": {},
   "source": [
    "<div style=\"background-color:teal; color:white; padding:0px; font-size:20px\">\n",
    "FR"
   ]
  },
  {
   "cell_type": "code",
   "execution_count": 16,
   "id": "7126ee41-f29d-4ed1-9dc5-5ad377325c9d",
   "metadata": {
    "tags": []
   },
   "outputs": [],
   "source": [
    "TRACE_DICT = FR_trace_dict\n",
    "CENTERX_COL_IDX = 1\n",
    "CENTERY_COL_IDX = 2\n",
    "TIME_COL_IDX = 0\n",
    "\n",
    "S3_DIR_PATH = \"s3://behavior-project/processed-data/trace-images/fr-icss\"\n",
    "\n",
    "# Split the s3_path into bucket_name and prefix\n",
    "bucket_name, prefix = S3_DIR_PATH.replace(\"s3://\", \"\").split(\"/\", 1)\n",
    "\n",
    "# Column List\n",
    "session_id_col = []\n",
    "trace_num_col = []\n",
    "start_time_col = []\n",
    "end_time_col = []\n",
    "s3_url_col = []\n",
    "\n",
    "# Fig Axes Parameters\n",
    "xmin, xmax = 0, 550\n",
    "ymin, ymax = 0, 550\n",
    "\n",
    "# SESSION LEVEL - - - - - - - - - - - - - - - - - - - - - - - - - - - - - - - -\n",
    "# for name, tracelist in itertools.islice(TRACE_DICT.items(), 1): # For subsection testing of the loop\n",
    "\n",
    "for name, tracelist in TRACE_DICT.items():\n",
    "\n",
    "    # TRACE LEVEL - - - - - - - - - - - - - - - - - - - - - - - - - - - - - - - - -\n",
    "    for list_idx, trace in enumerate(tracelist):\n",
    "\n",
    "        # Interpolate between datapoints for plotting\n",
    "        trace_interp = interpolate_trace(\n",
    "            trace,\n",
    "            centerX_col_idx=CENTERX_COL_IDX,\n",
    "            centerY_col_idx=CENTERY_COL_IDX,\n",
    "            time_col_idx=TIME_COL_IDX,\n",
    "        )\n",
    "\n",
    "        # Instantiate Figure Size & params\n",
    "        dpi = 128\n",
    "        file_extension = \"png\"\n",
    "        fig, ax = plt.subplots(figsize=(224 / dpi, 224 / dpi), dpi=128)\n",
    "\n",
    "        # Plot\n",
    "        sns.scatterplot(\n",
    "            data=trace_interp,\n",
    "            x=trace_interp.iloc[:, 0],\n",
    "            y=trace_interp.iloc[:, 1],\n",
    "            hue=\"Time_d\",\n",
    "            hue_norm=(0, 5),\n",
    "            edgecolor=\"none\",\n",
    "            legend=False,\n",
    "            alpha=0.3,\n",
    "            ax=ax,\n",
    "        )  # Adding this to close the figure later in the loop\n",
    "\n",
    "        # Setting Axes Range\n",
    "        plt.xlim(xmin, xmax)\n",
    "        plt.ylim(ymin, ymax)\n",
    "        plt.axis(\"off\")  # Turn axes marks off\n",
    "\n",
    "        # Define file_name\n",
    "        file_name = f\"{prefix}/{name}_{list_idx}.{file_extension}\"\n",
    "\n",
    "        # Load Dataframe Information\n",
    "        session_id_col.append(name)\n",
    "        trace_num_col.append(f\"{list_idx}\")\n",
    "        trace[TIME_COL_IDX] = pd.to_datetime(\n",
    "            trace.columns[TIME_COL_IDX], errors=\"coerce\"\n",
    "        )  # *** Converting col to datetime\n",
    "        start_time_col.append(trace[trace.columns[TIME_COL_IDX]].min())\n",
    "        end_time_col.append(trace[trace.columns[TIME_COL_IDX]].max())\n",
    "        s3_url_col.append(f\"{bucket_name}/{file_name}\")\n",
    "\n",
    "        # Save the plot to a BytesIO object\n",
    "        img_data = BytesIO()\n",
    "        plt.savefig(img_data, dpi=128, format=\"png\", pad_inches=0)\n",
    "        img_data.seek(0)\n",
    "\n",
    "        # Save the plot to the S3 bucket\n",
    "        s3.upload_fileobj(img_data, Bucket=bucket_name, Key=file_name)\n",
    "\n",
    "        # Close the figure to free up memory\n",
    "        plt.close(fig)\n",
    "\n",
    "# MASTER DF CREATION - - - - - - - - - - - - - - - - - - - - - - - - - - - - - -\n",
    "\n",
    "# Temp dict. to load column data\n",
    "df_build_dict = {\n",
    "    \"session_id\": session_id_col,\n",
    "    \"trace_num\": trace_num_col,\n",
    "    \"start_time\": start_time_col,\n",
    "    \"end_time\": end_time_col,\n",
    "    \"s3_url\": s3_url_col,\n",
    "}"
   ]
  },
  {
   "cell_type": "code",
   "execution_count": 20,
   "id": "18cac757-2239-44f7-9978-82cc3d1aabef",
   "metadata": {},
   "outputs": [
    {
     "data": {
      "text/html": [
       "<div>\n",
       "<style scoped>\n",
       "    .dataframe tbody tr th:only-of-type {\n",
       "        vertical-align: middle;\n",
       "    }\n",
       "\n",
       "    .dataframe tbody tr th {\n",
       "        vertical-align: top;\n",
       "    }\n",
       "\n",
       "    .dataframe thead th {\n",
       "        text-align: right;\n",
       "    }\n",
       "</style>\n",
       "<table border=\"1\" class=\"dataframe\">\n",
       "  <thead>\n",
       "    <tr style=\"text-align: right;\">\n",
       "      <th></th>\n",
       "      <th>session_id</th>\n",
       "      <th>trace_num</th>\n",
       "      <th>start_time</th>\n",
       "      <th>end_time</th>\n",
       "      <th>s3_url</th>\n",
       "    </tr>\n",
       "  </thead>\n",
       "  <tbody>\n",
       "    <tr>\n",
       "      <th>0</th>\n",
       "      <td>C1000_C42A_ChR2_xPVT_F00_S01_P05_N_NON_NON</td>\n",
       "      <td>0</td>\n",
       "      <td>1970-01-01 00:00:45.854000091</td>\n",
       "      <td>1970-01-01 00:00:50.800998687</td>\n",
       "      <td>behavior-project/processed-data/trace-images/f...</td>\n",
       "    </tr>\n",
       "    <tr>\n",
       "      <th>1</th>\n",
       "      <td>C1000_C42A_ChR2_xPVT_F00_S01_P05_N_NON_NON</td>\n",
       "      <td>1</td>\n",
       "      <td>1970-01-01 00:01:03.058998107</td>\n",
       "      <td>1970-01-01 00:01:08.055000305</td>\n",
       "      <td>behavior-project/processed-data/trace-images/f...</td>\n",
       "    </tr>\n",
       "    <tr>\n",
       "      <th>2</th>\n",
       "      <td>C1000_C42A_ChR2_xPVT_F00_S01_P05_N_NON_NON</td>\n",
       "      <td>2</td>\n",
       "      <td>1970-01-01 00:01:33.384002685</td>\n",
       "      <td>1970-01-01 00:01:38.366996765</td>\n",
       "      <td>behavior-project/processed-data/trace-images/f...</td>\n",
       "    </tr>\n",
       "  </tbody>\n",
       "</table>\n",
       "</div>"
      ],
      "text/plain": [
       "                                   session_id trace_num  \\\n",
       "0  C1000_C42A_ChR2_xPVT_F00_S01_P05_N_NON_NON         0   \n",
       "1  C1000_C42A_ChR2_xPVT_F00_S01_P05_N_NON_NON         1   \n",
       "2  C1000_C42A_ChR2_xPVT_F00_S01_P05_N_NON_NON         2   \n",
       "\n",
       "                     start_time                      end_time  \\\n",
       "0 1970-01-01 00:00:45.854000091 1970-01-01 00:00:50.800998687   \n",
       "1 1970-01-01 00:01:03.058998107 1970-01-01 00:01:08.055000305   \n",
       "2 1970-01-01 00:01:33.384002685 1970-01-01 00:01:38.366996765   \n",
       "\n",
       "                                              s3_url  \n",
       "0  behavior-project/processed-data/trace-images/f...  \n",
       "1  behavior-project/processed-data/trace-images/f...  \n",
       "2  behavior-project/processed-data/trace-images/f...  "
      ]
     },
     "execution_count": 20,
     "metadata": {},
     "output_type": "execute_result"
    }
   ],
   "source": [
    "# Build df from dict\n",
    "FR_trace_info = pd.DataFrame(df_build_dict)\n",
    "FR_trace_info.head(3)"
   ]
  },
  {
   "cell_type": "markdown",
   "id": "4ed1023e-8ad6-4bb6-853a-073620861400",
   "metadata": {},
   "source": [
    "#### Remove Unwanted Columns From Trace Dict"
   ]
  },
  {
   "cell_type": "code",
   "execution_count": 21,
   "id": "5085dc20-2339-483e-81a1-ac9c052026d5",
   "metadata": {
    "tags": []
   },
   "outputs": [],
   "source": [
    "from data_handling import remove_columns_from_dict\n",
    "\n",
    "drop_col_list = ['Time_d', 0]\n",
    "\n",
    "# Call the function to remove the columns\n",
    "FR_trace_dict = remove_columns_from_dict(FR_trace_dict, drop_col_list)"
   ]
  },
  {
   "cell_type": "code",
   "execution_count": 23,
   "id": "1bb494a6-33bc-48cc-8139-9112b5ba01d6",
   "metadata": {
    "tags": []
   },
   "outputs": [
    {
     "data": {
      "text/html": [
       "<div>\n",
       "<style scoped>\n",
       "    .dataframe tbody tr th:only-of-type {\n",
       "        vertical-align: middle;\n",
       "    }\n",
       "\n",
       "    .dataframe tbody tr th {\n",
       "        vertical-align: top;\n",
       "    }\n",
       "\n",
       "    .dataframe thead th {\n",
       "        text-align: right;\n",
       "    }\n",
       "</style>\n",
       "<table border=\"1\" class=\"dataframe\">\n",
       "  <thead>\n",
       "    <tr style=\"text-align: right;\">\n",
       "      <th></th>\n",
       "      <th>time</th>\n",
       "      <th>centre_position_x</th>\n",
       "      <th>centre_position_y</th>\n",
       "      <th>in_t</th>\n",
       "      <th>in_d</th>\n",
       "      <th>in_h</th>\n",
       "      <th>in_v</th>\n",
       "      <th>session_zone_(t)</th>\n",
       "      <th>trace_num</th>\n",
       "      <th>session_id</th>\n",
       "    </tr>\n",
       "  </thead>\n",
       "  <tbody>\n",
       "    <tr>\n",
       "      <th>389</th>\n",
       "      <td>1970-01-01 00:00:45.854000091</td>\n",
       "      <td>448.0</td>\n",
       "      <td>383.0</td>\n",
       "      <td>False</td>\n",
       "      <td>False</td>\n",
       "      <td>True</td>\n",
       "      <td>False</td>\n",
       "      <td>False</td>\n",
       "      <td>0</td>\n",
       "      <td>C1000_C42A_ChR2_xPVT_F00_S01_P05_N_NON_NON</td>\n",
       "    </tr>\n",
       "    <tr>\n",
       "      <th>390</th>\n",
       "      <td>1970-01-01 00:00:45.963001251</td>\n",
       "      <td>448.0</td>\n",
       "      <td>382.0</td>\n",
       "      <td>False</td>\n",
       "      <td>False</td>\n",
       "      <td>True</td>\n",
       "      <td>False</td>\n",
       "      <td>False</td>\n",
       "      <td>0</td>\n",
       "      <td>C1000_C42A_ChR2_xPVT_F00_S01_P05_N_NON_NON</td>\n",
       "    </tr>\n",
       "    <tr>\n",
       "      <th>391</th>\n",
       "      <td>1970-01-01 00:00:46.076000213</td>\n",
       "      <td>448.0</td>\n",
       "      <td>382.0</td>\n",
       "      <td>False</td>\n",
       "      <td>False</td>\n",
       "      <td>True</td>\n",
       "      <td>False</td>\n",
       "      <td>False</td>\n",
       "      <td>0</td>\n",
       "      <td>C1000_C42A_ChR2_xPVT_F00_S01_P05_N_NON_NON</td>\n",
       "    </tr>\n",
       "  </tbody>\n",
       "</table>\n",
       "</div>"
      ],
      "text/plain": [
       "                             time  centre_position_x  centre_position_y  \\\n",
       "389 1970-01-01 00:00:45.854000091              448.0              383.0   \n",
       "390 1970-01-01 00:00:45.963001251              448.0              382.0   \n",
       "391 1970-01-01 00:00:46.076000213              448.0              382.0   \n",
       "\n",
       "      in_t   in_d  in_h   in_v  session_zone_(t)  trace_num  \\\n",
       "389  False  False  True  False             False          0   \n",
       "390  False  False  True  False             False          0   \n",
       "391  False  False  True  False             False          0   \n",
       "\n",
       "                                     session_id  \n",
       "389  C1000_C42A_ChR2_xPVT_F00_S01_P05_N_NON_NON  \n",
       "390  C1000_C42A_ChR2_xPVT_F00_S01_P05_N_NON_NON  \n",
       "391  C1000_C42A_ChR2_xPVT_F00_S01_P05_N_NON_NON  "
      ]
     },
     "execution_count": 23,
     "metadata": {},
     "output_type": "execute_result"
    }
   ],
   "source": [
    "next(iter(FR_trace_dict.values()))[0].head(3)"
   ]
  },
  {
   "cell_type": "markdown",
   "id": "41fc45d2-c7b6-41f4-a6fb-6166be687958",
   "metadata": {},
   "source": [
    "#### Save Files"
   ]
  },
  {
   "cell_type": "code",
   "execution_count": 24,
   "id": "1bb221c3-02f2-40a2-8b1d-8b97a496f26d",
   "metadata": {
    "tags": []
   },
   "outputs": [],
   "source": [
    "# mpfc_trace_dict:\n",
    "\n",
    "FILE = FR_trace_dict\n",
    "S3_DIR_PATH = \"s3://behavior-project/processed-data/processed-data/trace-df-dictionaries/fr-icss\"\n",
    "\n",
    "# Split the s3_path into bucket_name and prefix\n",
    "bucket_name, prefix = S3_DIR_PATH.replace(\"s3://\", \"\").split(\"/\", 1)\n",
    "\n",
    "# Iterate through the keys and lists of DataFrames in the dictionary\n",
    "for key, df_list in FILE.items():\n",
    "    # Iterate through the DataFrames in the list, keeping track of the index\n",
    "    for list_index, df in enumerate(df_list):\n",
    "        # Create a CSV buffer\n",
    "        csv_buffer = StringIO()\n",
    "\n",
    "        # Convert the dataframe to CSV and write it to the buffer\n",
    "        df.to_csv(csv_buffer, index=False)\n",
    "\n",
    "        # Create a file name based on the dictionary key and list index\n",
    "        file_name = f\"{prefix}/{key}_{list_index}.csv\"\n",
    "\n",
    "        # Upload the CSV file to S3\n",
    "        s3.put_object(Bucket=bucket_name, Key=file_name, Body=csv_buffer.getvalue())"
   ]
  },
  {
   "cell_type": "code",
   "execution_count": 25,
   "id": "7a51e0ea-8afe-455d-b7bf-6992cb1e3000",
   "metadata": {
    "tags": []
   },
   "outputs": [
    {
     "data": {
      "text/plain": [
       "{'ResponseMetadata': {'RequestId': 'JZ4JRQ05KNEJ9TT6',\n",
       "  'HostId': '8jmP4rTsebAo/tHVvlFCQethr4O9XvVsfH/n4LKOb3dGnSzIxtxwr4w2JdQX0RyYcw5ZJ+ykbCI=',\n",
       "  'HTTPStatusCode': 200,\n",
       "  'HTTPHeaders': {'x-amz-id-2': '8jmP4rTsebAo/tHVvlFCQethr4O9XvVsfH/n4LKOb3dGnSzIxtxwr4w2JdQX0RyYcw5ZJ+ykbCI=',\n",
       "   'x-amz-request-id': 'JZ4JRQ05KNEJ9TT6',\n",
       "   'date': 'Wed, 02 Aug 2023 22:00:36 GMT',\n",
       "   'x-amz-server-side-encryption': 'AES256',\n",
       "   'etag': '\"53080dcd0114f1516c93914146a47e82\"',\n",
       "   'server': 'AmazonS3',\n",
       "   'content-length': '0'},\n",
       "  'RetryAttempts': 0},\n",
       " 'ETag': '\"53080dcd0114f1516c93914146a47e82\"',\n",
       " 'ServerSideEncryption': 'AES256'}"
      ]
     },
     "execution_count": 25,
     "metadata": {},
     "output_type": "execute_result"
    }
   ],
   "source": [
    "# mpfc_trace_info\n",
    "\n",
    "FILE = FR_trace_info\n",
    "S3_DIR_PATH = \"s3://behavior-project/processed-data/processed-data/trace-info-dfs\"\n",
    "FILE_NAME = 'fr-trace-info-df.csv'\n",
    "\n",
    "# Split the s3_path into bucket_name and prefix\n",
    "bucket_name, prefix = S3_DIR_PATH.replace(\"s3://\", \"\").split(\"/\", 1)\n",
    "file_path = f\"{prefix}/{FILE_NAME}\"\n",
    "\n",
    "# Create a CSV buffer\n",
    "csv_buffer = StringIO()\n",
    "\n",
    "# Convert the dataframe to CSV and write it to the buffer\n",
    "FILE.to_csv(csv_buffer, index=False)\n",
    "\n",
    "# Upload the CSV file to S3\n",
    "s3.put_object(Bucket=bucket_name, Key=file_path, Body=csv_buffer.getvalue())"
   ]
  },
  {
   "cell_type": "code",
   "execution_count": null,
   "id": "1a32015c-e9b5-4eb2-b08b-4267f1aac3e6",
   "metadata": {},
   "outputs": [],
   "source": []
  }
 ],
 "metadata": {
  "instance_type": "ml.t3.medium",
  "kernelspec": {
   "display_name": "Python 3 (Data Science)",
   "language": "python",
   "name": "python3__SAGEMAKER_INTERNAL__arn:aws:sagemaker:us-east-1:081325390199:image/datascience-1.0"
  },
  "language_info": {
   "codemirror_mode": {
    "name": "ipython",
    "version": 3
   },
   "file_extension": ".py",
   "mimetype": "text/x-python",
   "name": "python",
   "nbconvert_exporter": "python",
   "pygments_lexer": "ipython3",
   "version": "3.7.10"
  }
 },
 "nbformat": 4,
 "nbformat_minor": 5
}
