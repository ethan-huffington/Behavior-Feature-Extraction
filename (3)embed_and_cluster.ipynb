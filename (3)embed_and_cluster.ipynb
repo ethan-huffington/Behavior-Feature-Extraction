{
 "cells": [
  {
   "cell_type": "markdown",
   "id": "b5fa452e-c9eb-4df8-8a1d-98002658b529",
   "metadata": {},
   "source": [
    "<div style=\"background-color:green; color:white; padding:10px; font-size:20px\">\n",
    "1 - Setup"
   ]
  },
  {
   "cell_type": "code",
   "execution_count": 1,
   "id": "e10d53c7-4030-41af-90c8-f0ea29739e6a",
   "metadata": {
    "tags": []
   },
   "outputs": [
    {
     "name": "stdout",
     "output_type": "stream",
     "text": [
      "Collecting package metadata (current_repodata.json): done\n",
      "Solving environment: done\n",
      "\n",
      "\n",
      "==> WARNING: A newer version of conda exists. <==\n",
      "  current version: 22.9.0\n",
      "  latest version: 23.7.2\n",
      "\n",
      "Please update conda by running\n",
      "\n",
      "    $ conda update -n base -c defaults conda\n",
      "\n",
      "\n",
      "\n",
      "# All requested packages already installed.\n",
      "\n",
      "Retrieving notices: ...working... done\n"
     ]
    }
   ],
   "source": [
    "!conda install tensorflow -y"
   ]
  },
  {
   "cell_type": "code",
   "execution_count": 2,
   "id": "4eaae5d9-c6c7-42b8-a3de-b410ebae3865",
   "metadata": {
    "tags": []
   },
   "outputs": [
    {
     "name": "stdout",
     "output_type": "stream",
     "text": [
      "Requirement already satisfied: boto3 in /opt/conda/lib/python3.7/site-packages (1.28.14)\n",
      "Requirement already satisfied: botocore<1.32.0,>=1.31.14 in /opt/conda/lib/python3.7/site-packages (from boto3) (1.31.14)\n",
      "Requirement already satisfied: jmespath<2.0.0,>=0.7.1 in /opt/conda/lib/python3.7/site-packages (from boto3) (1.0.1)\n",
      "Requirement already satisfied: s3transfer<0.7.0,>=0.6.0 in /opt/conda/lib/python3.7/site-packages (from boto3) (0.6.1)\n",
      "Requirement already satisfied: python-dateutil<3.0.0,>=2.1 in /opt/conda/lib/python3.7/site-packages (from botocore<1.32.0,>=1.31.14->boto3) (2.8.2)\n",
      "Requirement already satisfied: urllib3<1.27,>=1.25.4 in /opt/conda/lib/python3.7/site-packages (from botocore<1.32.0,>=1.31.14->boto3) (1.26.16)\n",
      "Requirement already satisfied: six>=1.5 in /opt/conda/lib/python3.7/site-packages (from python-dateutil<3.0.0,>=2.1->botocore<1.32.0,>=1.31.14->boto3) (1.14.0)\n",
      "\u001b[33mDEPRECATION: pyodbc 4.0.0-unsupported has a non-standard version number. pip 23.3 will enforce this behaviour change. A possible replacement is to upgrade to a newer version of pyodbc or contact the author to suggest that they release a version with a conforming version number. Discussion can be found at https://github.com/pypa/pip/issues/12063\u001b[0m\u001b[33m\n",
      "\u001b[0m\u001b[33mWARNING: Running pip as the 'root' user can result in broken permissions and conflicting behaviour with the system package manager. It is recommended to use a virtual environment instead: https://pip.pypa.io/warnings/venv\u001b[0m\u001b[33m\n",
      "\u001b[0m"
     ]
    }
   ],
   "source": [
    "!pip install boto3"
   ]
  },
  {
   "cell_type": "code",
   "execution_count": 3,
   "id": "9bcab715-50c7-4044-b034-8c423d76e5dd",
   "metadata": {
    "tags": []
   },
   "outputs": [],
   "source": [
    "# (VGG 16) model\n",
    "from tensorflow.keras.applications.vgg16 import VGG16\n",
    "from tensorflow.keras.models import Model\n",
    "from tensorflow.keras.preprocessing.image import load_img\n",
    "from tensorflow.keras.preprocessing.image import img_to_array\n",
    "from tensorflow.keras.applications.vgg16 import preprocess_input\n",
    "\n",
    "# clustering and dimension reduction\n",
    "from sklearn.cluster import KMeans\n",
    "from sklearn.decomposition import PCA\n",
    "\n",
    "# Plotting/Visualization\n",
    "from matplotlib import pyplot as plt\n",
    "from matplotlib import cm\n",
    "\n",
    "# for everything else\n",
    "import numpy as np\n",
    "from random import randint\n",
    "import time\n",
    "import io # File handling\n",
    "from io import BytesIO\n",
    "from tqdm import tqdm # Progress bar\n",
    "from PIL import Image"
   ]
  },
  {
   "cell_type": "code",
   "execution_count": 4,
   "id": "951592a7-5d2e-4411-9204-67f9f1e21a94",
   "metadata": {
    "tags": []
   },
   "outputs": [],
   "source": [
    "import boto3\n",
    "import pandas as pd\n",
    "\n",
    "\n",
    "# Project Scripts\n",
    "import data_handling"
   ]
  },
  {
   "cell_type": "code",
   "execution_count": 5,
   "id": "3b8025e3-e554-4741-af4b-7a51392eda4d",
   "metadata": {
    "tags": []
   },
   "outputs": [
    {
     "data": {
      "text/plain": [
       "<module 'data_handling' from '/root/projects/behavior_project/data_handling.py'>"
      ]
     },
     "execution_count": 5,
     "metadata": {},
     "output_type": "execute_result"
    }
   ],
   "source": [
    "# Re-freshing the module import for development purposes\n",
    "from importlib import reload\n",
    "reload(data_handling)"
   ]
  },
  {
   "cell_type": "markdown",
   "id": "c9cbc913-bbe4-4589-b016-9a75b641c591",
   "metadata": {
    "tags": []
   },
   "source": [
    "#### Sagemaker User & IAM Credentials"
   ]
  },
  {
   "cell_type": "code",
   "execution_count": 6,
   "id": "eadd15ec-5a66-492e-87a7-8babbe34c330",
   "metadata": {
    "tags": []
   },
   "outputs": [
    {
     "name": "stdout",
     "output_type": "stream",
     "text": [
      "Your AWS Account:  717145514721\n",
      "Logged-in Account: 717145514721\n",
      "User ARN: arn:aws:sts::717145514721:assumed-role/AWS-SageMakerFullAccess-Role/SageMaker\n"
     ]
    }
   ],
   "source": [
    "# Create credentials session (log-in to AWS account)\n",
    "sess = boto3.Session()\n",
    "# Get information about current User\n",
    "sts = sess.client('sts')\n",
    "response = sts.get_caller_identity()\n",
    "\n",
    "print(\"Your AWS Account:  717145514721\")\n",
    "print(\"Logged-in Account:\", response['Account'])\n",
    "print(\"User ARN:\", response['Arn'])"
   ]
  },
  {
   "cell_type": "markdown",
   "id": "2521cae5-0f4e-45fc-9a2f-e51e5fce7ff7",
   "metadata": {},
   "source": [
    "### S3 Connection"
   ]
  },
  {
   "cell_type": "code",
   "execution_count": 7,
   "id": "4f2c822b-6f50-4499-a666-3e5b472776fb",
   "metadata": {
    "tags": []
   },
   "outputs": [
    {
     "name": "stdout",
     "output_type": "stream",
     "text": [
      "Bucket List: ['behavior-project', 'sagemaker-us-east-1-717145514721']\n"
     ]
    },
    {
     "name": "stderr",
     "output_type": "stream",
     "text": [
      "/opt/conda/lib/python3.7/site-packages/boto3/compat.py:82: PythonDeprecationWarning: Boto3 will no longer support Python 3.7 starting December 13, 2023. To continue receiving service updates, bug fixes, and security updates please upgrade to Python 3.8 or later. More information can be found here: https://aws.amazon.com/blogs/developer/python-support-policy-updates-for-aws-sdks-and-tools/\n",
      "  warnings.warn(warning, PythonDeprecationWarning)\n"
     ]
    }
   ],
   "source": [
    "import boto3\n",
    "\n",
    "# Create a session using your AWS credentials\n",
    "s3 = boto3.client('s3')\n",
    "\n",
    "# List all bucket names\n",
    "response = s3.list_buckets()\n",
    "\n",
    "# Get a list of all bucket names from the response\n",
    "buckets = [bucket['Name'] for bucket in response['Buckets']]\n",
    "\n",
    "# Print out the bucket list\n",
    "print(\"Bucket List: %s\" % buckets)"
   ]
  },
  {
   "cell_type": "markdown",
   "id": "a1c6c610-70a1-4611-9749-b12ea62e5a67",
   "metadata": {},
   "source": [
    "<div style=\"background-color:green; color:white; padding:10px; font-size:20px\">\n",
    "2 - Data Import"
   ]
  },
  {
   "cell_type": "code",
   "execution_count": 8,
   "id": "89d080e8-571c-4b01-8296-d489987dc786",
   "metadata": {
    "tags": []
   },
   "outputs": [],
   "source": [
    "from io import StringIO"
   ]
  },
  {
   "cell_type": "markdown",
   "id": "193c058b-75ec-4e39-96c5-400aff8469a4",
   "metadata": {},
   "source": [
    "#### mPFC Trace Info"
   ]
  },
  {
   "cell_type": "raw",
   "id": "88cfcbde-8b5e-4fff-80dc-4ff87d25d582",
   "metadata": {},
   "source": [
    "bucket_name = \"behavior-project\"\n",
    "file_key = \"processed-data/processed-data/trace-info-dfs/mpfc-trace-info-df.csv\"\n",
    "\n",
    "# Get the CSV file from S3\n",
    "csv_obj = s3.get_object(Bucket=bucket_name, Key=file_key)\n",
    "body = csv_obj[\"Body\"].read().decode(\"utf-8\")\n",
    "\n",
    "# Convert the CSV data to a pandas DataFrame\n",
    "mPFC_trace_info_df = pd.read_csv(StringIO(body))\n",
    "mPFC_trace_info_df.head(3)"
   ]
  },
  {
   "cell_type": "markdown",
   "id": "663e24e9-ebc4-4633-a0d8-e06f8de56f11",
   "metadata": {},
   "source": [
    "#### mPFC s3 Image Paths"
   ]
  },
  {
   "cell_type": "raw",
   "id": "a77c24f2-d7d4-435a-8569-15f7eeced10b",
   "metadata": {
    "tags": []
   },
   "source": [
    "bucket_name = 'behavior-project'\n",
    "prefix = 'processed-data/trace-images/mpfc-icss/'\n",
    "\n",
    "s3_client = boto3.client('s3')\n",
    "paginator = s3_client.get_paginator('list_objects_v2')\n",
    "\n",
    "# Too many paths to retrieve all at once so pagination & concatenation is required\n",
    "mPFC_png_paths = []\n",
    "for page in paginator.paginate(Bucket=bucket_name, Prefix=prefix):\n",
    "    if 'Contents' in page:\n",
    "        mPFC_png_paths.extend([item['Key'] for item in page['Contents'] if item['Key'].endswith('.png')])\n",
    "\n",
    "print(len(mPFC_png_paths))"
   ]
  },
  {
   "cell_type": "markdown",
   "id": "5430a396-479e-4d5d-9a29-7ce7eeebee62",
   "metadata": {},
   "source": [
    "#### FR Trace Info"
   ]
  },
  {
   "cell_type": "code",
   "execution_count": 15,
   "id": "c6c294df-8dda-4a44-bb53-e90475d923b9",
   "metadata": {
    "tags": []
   },
   "outputs": [
    {
     "data": {
      "text/html": [
       "<div>\n",
       "<style scoped>\n",
       "    .dataframe tbody tr th:only-of-type {\n",
       "        vertical-align: middle;\n",
       "    }\n",
       "\n",
       "    .dataframe tbody tr th {\n",
       "        vertical-align: top;\n",
       "    }\n",
       "\n",
       "    .dataframe thead th {\n",
       "        text-align: right;\n",
       "    }\n",
       "</style>\n",
       "<table border=\"1\" class=\"dataframe\">\n",
       "  <thead>\n",
       "    <tr style=\"text-align: right;\">\n",
       "      <th></th>\n",
       "      <th>session_id</th>\n",
       "      <th>trace_num</th>\n",
       "      <th>start_time</th>\n",
       "      <th>end_time</th>\n",
       "      <th>s3_url</th>\n",
       "    </tr>\n",
       "  </thead>\n",
       "  <tbody>\n",
       "    <tr>\n",
       "      <th>0</th>\n",
       "      <td>C1000_C42A_ChR2_xPVT_F00_S01_P05_N_NON_NON</td>\n",
       "      <td>0</td>\n",
       "      <td>1970-01-01 00:00:45.854000091</td>\n",
       "      <td>1970-01-01 00:00:50.800998687</td>\n",
       "      <td>behavior-project/processed-data/trace-images/f...</td>\n",
       "    </tr>\n",
       "    <tr>\n",
       "      <th>1</th>\n",
       "      <td>C1000_C42A_ChR2_xPVT_F00_S01_P05_N_NON_NON</td>\n",
       "      <td>1</td>\n",
       "      <td>1970-01-01 00:01:03.058998107</td>\n",
       "      <td>1970-01-01 00:01:08.055000305</td>\n",
       "      <td>behavior-project/processed-data/trace-images/f...</td>\n",
       "    </tr>\n",
       "    <tr>\n",
       "      <th>2</th>\n",
       "      <td>C1000_C42A_ChR2_xPVT_F00_S01_P05_N_NON_NON</td>\n",
       "      <td>2</td>\n",
       "      <td>1970-01-01 00:01:33.384002685</td>\n",
       "      <td>1970-01-01 00:01:38.366996765</td>\n",
       "      <td>behavior-project/processed-data/trace-images/f...</td>\n",
       "    </tr>\n",
       "  </tbody>\n",
       "</table>\n",
       "</div>"
      ],
      "text/plain": [
       "                                   session_id  trace_num  \\\n",
       "0  C1000_C42A_ChR2_xPVT_F00_S01_P05_N_NON_NON          0   \n",
       "1  C1000_C42A_ChR2_xPVT_F00_S01_P05_N_NON_NON          1   \n",
       "2  C1000_C42A_ChR2_xPVT_F00_S01_P05_N_NON_NON          2   \n",
       "\n",
       "                      start_time                       end_time  \\\n",
       "0  1970-01-01 00:00:45.854000091  1970-01-01 00:00:50.800998687   \n",
       "1  1970-01-01 00:01:03.058998107  1970-01-01 00:01:08.055000305   \n",
       "2  1970-01-01 00:01:33.384002685  1970-01-01 00:01:38.366996765   \n",
       "\n",
       "                                              s3_url  \n",
       "0  behavior-project/processed-data/trace-images/f...  \n",
       "1  behavior-project/processed-data/trace-images/f...  \n",
       "2  behavior-project/processed-data/trace-images/f...  "
      ]
     },
     "execution_count": 15,
     "metadata": {},
     "output_type": "execute_result"
    }
   ],
   "source": [
    "bucket_name = \"behavior-project\"\n",
    "file_key = \"processed-data/processed-data/trace-info-dfs/fr-trace-info-df.csv\"\n",
    "\n",
    "# Get the CSV file from S3\n",
    "csv_obj = s3.get_object(Bucket=bucket_name, Key=file_key)\n",
    "body = csv_obj[\"Body\"].read().decode(\"utf-8\")\n",
    "\n",
    "# Convert the CSV data to a pandas DataFrame\n",
    "FR_trace_info_df = pd.read_csv(StringIO(body))\n",
    "FR_trace_info_df.head(3)"
   ]
  },
  {
   "cell_type": "markdown",
   "id": "54b15150-d52a-4585-919a-8bd9d1316464",
   "metadata": {},
   "source": [
    "#### FR s3 Image Paths"
   ]
  },
  {
   "cell_type": "code",
   "execution_count": 10,
   "id": "9aace0bd-7360-4d91-b3ae-0aea0971118c",
   "metadata": {
    "tags": []
   },
   "outputs": [
    {
     "name": "stderr",
     "output_type": "stream",
     "text": [
      "/opt/conda/lib/python3.7/site-packages/boto3/compat.py:82: PythonDeprecationWarning: Boto3 will no longer support Python 3.7 starting December 13, 2023. To continue receiving service updates, bug fixes, and security updates please upgrade to Python 3.8 or later. More information can be found here: https://aws.amazon.com/blogs/developer/python-support-policy-updates-for-aws-sdks-and-tools/\n",
      "  warnings.warn(warning, PythonDeprecationWarning)\n"
     ]
    },
    {
     "name": "stdout",
     "output_type": "stream",
     "text": [
      "13469\n"
     ]
    }
   ],
   "source": [
    "bucket_name = 'behavior-project'\n",
    "prefix = 'processed-data/trace-images/fr-icss/'\n",
    "\n",
    "s3_client = boto3.client('s3')\n",
    "paginator = s3_client.get_paginator('list_objects_v2')\n",
    "\n",
    "# Too many paths to retrieve all at once so pagination & concatenation is required\n",
    "FR_png_paths = []\n",
    "for page in paginator.paginate(Bucket=bucket_name, Prefix=prefix):\n",
    "    if 'Contents' in page:\n",
    "        FR_png_paths.extend([item['Key'] for item in page['Contents'] if item['Key'].endswith('.png')])\n",
    "\n",
    "print(len(FR_png_paths))"
   ]
  },
  {
   "cell_type": "markdown",
   "id": "5d119307-f040-4bea-8eb8-052a2bd1a2c4",
   "metadata": {
    "jupyter": {
     "outputs_hidden": true
    },
    "tags": []
   },
   "source": [
    "<div style=\"background-color:green; color:white; padding:10px; font-size:20px\">\n",
    "3 - Model Import & Embedding Creation"
   ]
  },
  {
   "cell_type": "markdown",
   "id": "bf3c7557-b7fd-4347-a28a-bc6449e6cd73",
   "metadata": {},
   "source": [
    "#### Creating DF's to hold data"
   ]
  },
  {
   "cell_type": "code",
   "execution_count": 16,
   "id": "81eb98ed-a6fd-4d3c-8585-9a2a47d389b9",
   "metadata": {
    "tags": []
   },
   "outputs": [],
   "source": [
    "# Function to split the session_id and return the first two elements concatenated with '_'\n",
    "def extract_animal_id(session_id):\n",
    "    parts = session_id.split('_')\n",
    "    return f\"{parts[0]}_{parts[1]}\""
   ]
  },
  {
   "cell_type": "raw",
   "id": "26fa38b8-efcc-411d-a708-04bd998e7ef0",
   "metadata": {},
   "source": [
    "# Create new df to hold embed & cluster data\n",
    "mPFC_emb_cluster_df = pd.DataFrame(mPFC_trace_info_df[['session_id', 'trace_num', 's3_url']])\n",
    "mPFC_emb_cluster_df['animal_id'] = mPFC_emb_cluster_df['session_id'].apply(extract_animal_id)"
   ]
  },
  {
   "cell_type": "code",
   "execution_count": 26,
   "id": "b1869f24-6ed5-42eb-9144-6736bf0af430",
   "metadata": {
    "tags": []
   },
   "outputs": [],
   "source": [
    "# Create new df to hold embed & cluster data\n",
    "FR_emb_cluster_df = pd.DataFrame(FR_trace_info_df[['session_id', 'trace_num', 's3_url']])\n",
    "FR_emb_cluster_df['animal_id'] = FR_emb_cluster_df['session_id'].apply(extract_animal_id)"
   ]
  },
  {
   "cell_type": "markdown",
   "id": "5a2776d5-2540-4d45-9ad1-e3fa317260ad",
   "metadata": {},
   "source": [
    "#### Embedding"
   ]
  },
  {
   "cell_type": "code",
   "execution_count": 13,
   "id": "e63f3d9a-fe4c-4520-8245-305df08f58fa",
   "metadata": {
    "tags": []
   },
   "outputs": [],
   "source": [
    "# load model\n",
    "model = VGG16()\n",
    "# remove the output layer\n",
    "model = Model(inputs=model.inputs, outputs=model.layers[-2].output)"
   ]
  },
  {
   "cell_type": "code",
   "execution_count": 9,
   "id": "25f7ea14-d8fc-483b-bfca-d5a2c7776d41",
   "metadata": {
    "tags": []
   },
   "outputs": [],
   "source": [
    "from data_handling import extract_features_batch, create_dataframe\n",
    "from data_handling import optimize_dataframe_dtypes"
   ]
  },
  {
   "cell_type": "raw",
   "id": "72c03146-bc10-4dfc-a174-de8c6c152ff8",
   "metadata": {
    "tags": []
   },
   "source": [
    "BUCKET_NAME = 'behavior-project'\n",
    "PATHS = FR_png_paths\n",
    "\n",
    "FR_feats_df_list = extract_features_batch(s3_paths=PATHS,\n",
    "                                          model=model,\n",
    "                                          s3_client=s3,\n",
    "                                          bucket_name=BUCKET_NAME,\n",
    "                                          batch_size=32)\n",
    "\n",
    "# Concatenate all DataFrames\n",
    "FR_feats_df = pd.concat(FR_feats_df_list, ignore_index=True)"
   ]
  },
  {
   "cell_type": "raw",
   "id": "c3b25975-6967-4cdb-8831-9d6960467f05",
   "metadata": {
    "tags": []
   },
   "source": [
    "# Save Features as .csv\n",
    "\n",
    "FILE = FR_feats_df\n",
    "S3_DIR_PATH = \"s3://behavior-project/processed-data/processed-data/feats-dfs\"\n",
    "FILE_NAME = 'fr-feats-df.csv'\n",
    "\n",
    "# Split the s3_path into bucket_name and prefix\n",
    "bucket_name, prefix = S3_DIR_PATH.replace(\"s3://\", \"\").split(\"/\", 1)\n",
    "file_path = f\"{prefix}/{FILE_NAME}\"\n",
    "\n",
    "# Create a CSV buffer\n",
    "csv_buffer = StringIO()\n",
    "\n",
    "# Convert the dataframe to CSV and write it to the buffer\n",
    "FILE.to_csv(csv_buffer, index=False)\n",
    "\n",
    "# Upload the CSV file to S3\n",
    "s3.put_object(Bucket=bucket_name, Key=file_path, Body=csv_buffer.getvalue())"
   ]
  },
  {
   "cell_type": "markdown",
   "id": "c5bda053-00eb-4be7-8156-3c365edf2d95",
   "metadata": {},
   "source": [
    "#### Reloading From Saved"
   ]
  },
  {
   "cell_type": "code",
   "execution_count": 11,
   "id": "7a4f7374-a1e5-4df4-b532-e32cd97a6bbe",
   "metadata": {
    "tags": []
   },
   "outputs": [],
   "source": [
    "def process_chunk(chunk):\n",
    "    # Convert embedding columns to a single column containing lists\n",
    "    chunk['embedding'] = chunk.iloc[:, :4095].values.tolist()\n",
    "    return chunk[['s3_path', 'embedding']]"
   ]
  },
  {
   "cell_type": "code",
   "execution_count": 12,
   "id": "4c7ec4fe-7e9c-424a-8372-9a71d4c01322",
   "metadata": {
    "tags": []
   },
   "outputs": [
    {
     "data": {
      "text/html": [
       "<div>\n",
       "<style scoped>\n",
       "    .dataframe tbody tr th:only-of-type {\n",
       "        vertical-align: middle;\n",
       "    }\n",
       "\n",
       "    .dataframe tbody tr th {\n",
       "        vertical-align: top;\n",
       "    }\n",
       "\n",
       "    .dataframe thead th {\n",
       "        text-align: right;\n",
       "    }\n",
       "</style>\n",
       "<table border=\"1\" class=\"dataframe\">\n",
       "  <thead>\n",
       "    <tr style=\"text-align: right;\">\n",
       "      <th></th>\n",
       "      <th>s3_path</th>\n",
       "      <th>embedding</th>\n",
       "    </tr>\n",
       "  </thead>\n",
       "  <tbody>\n",
       "    <tr>\n",
       "      <th>0</th>\n",
       "      <td>processed-data/trace-images/fr-icss/C1000_C42A...</td>\n",
       "      <td>[0.0, 0.0, 0.89690435, 0.0, 0.076437354, 0.0, ...</td>\n",
       "    </tr>\n",
       "    <tr>\n",
       "      <th>1</th>\n",
       "      <td>processed-data/trace-images/fr-icss/C1000_C42A...</td>\n",
       "      <td>[0.0, 0.0, 1.7854563, 0.0, 0.0, 0.0, 1.2393667...</td>\n",
       "    </tr>\n",
       "    <tr>\n",
       "      <th>2</th>\n",
       "      <td>processed-data/trace-images/fr-icss/C1000_C42A...</td>\n",
       "      <td>[0.0, 0.0, 0.6444253, 0.0, 0.0, 0.0, 2.2935755...</td>\n",
       "    </tr>\n",
       "  </tbody>\n",
       "</table>\n",
       "</div>"
      ],
      "text/plain": [
       "                                             s3_path  \\\n",
       "0  processed-data/trace-images/fr-icss/C1000_C42A...   \n",
       "1  processed-data/trace-images/fr-icss/C1000_C42A...   \n",
       "2  processed-data/trace-images/fr-icss/C1000_C42A...   \n",
       "\n",
       "                                           embedding  \n",
       "0  [0.0, 0.0, 0.89690435, 0.0, 0.076437354, 0.0, ...  \n",
       "1  [0.0, 0.0, 1.7854563, 0.0, 0.0, 0.0, 1.2393667...  \n",
       "2  [0.0, 0.0, 0.6444253, 0.0, 0.0, 0.0, 2.2935755...  "
      ]
     },
     "execution_count": 12,
     "metadata": {},
     "output_type": "execute_result"
    }
   ],
   "source": [
    "bucket_name = \"behavior-project\"\n",
    "file_key = \"processed-data/processed-data/feats-dfs/fr-feats-df.csv\"\n",
    "\n",
    "# Get the CSV file from S3\n",
    "csv_obj = s3.get_object(Bucket=bucket_name, Key=file_key)\n",
    "body = csv_obj[\"Body\"].read().decode(\"utf-8\")\n",
    "\n",
    "# Define chunk size\n",
    "chunksize = 1000  # Adjust based on memory availability after upgrade\n",
    "\n",
    "chunks_processed = []\n",
    "for chunk in pd.read_csv(StringIO(body), chunksize=chunksize):\n",
    "    processed_chunk = process_chunk(chunk)\n",
    "    chunks_processed.append(processed_chunk)\n",
    "    \n",
    "    # Explicitly delete to free memory\n",
    "    del chunk\n",
    "\n",
    "# Concatenate all chunks into a single DataFrame\n",
    "FR_feats_df = pd.concat(chunks_processed, ignore_index=True)\n",
    "# optimize_dataframe_dtypes(FR_feats_df, inplace=True)\n",
    "\n",
    "FR_feats_df.head(3)"
   ]
  },
  {
   "cell_type": "code",
   "execution_count": 25,
   "id": "46da41bd-006b-4cc7-804b-a10ae4b4d81d",
   "metadata": {
    "tags": []
   },
   "outputs": [
    {
     "name": "stdout",
     "output_type": "stream",
     "text": [
      "num_rows = 13469\n"
     ]
    },
    {
     "data": {
      "text/plain": [
       "'processed-data/trace-images/fr-icss/C1000_C42A_ChR2_xPVT_F00_S01_P05_N_NON_NON_0.png'"
      ]
     },
     "execution_count": 25,
     "metadata": {},
     "output_type": "execute_result"
    }
   ],
   "source": [
    "print(f\"num_rows = {len(FR_feats_df)}\")\n",
    "FR_feats_df.head(3)"
   ]
  },
  {
   "cell_type": "code",
   "execution_count": 34,
   "id": "8b1b5cb0-0a9f-492d-be43-293fa570bff2",
   "metadata": {},
   "outputs": [
    {
     "name": "stderr",
     "output_type": "stream",
     "text": [
      "/opt/conda/lib/python3.7/site-packages/ipykernel_launcher.py:5: FutureWarning: The default value of regex will change from True to False in a future version.\n",
      "  \"\"\"\n"
     ]
    }
   ],
   "source": [
    "# Merge Embeddings into emb_cluster_df\n",
    "\n",
    "# Assuming the format is like \"session_id_trace_num.png\"\n",
    "FR_feats_df['extracted_session_id'] = FR_feats_df['s3_path'].str.rsplit('_', 1).str[0]  # everything before the last underscore\n",
    "FR_feats_df['trace_num'] = FR_feats_df['s3_path'].str.rsplit('_', 1).str[1].str.replace('.png', '').astype(int)  # everything after the last underscore, remove .png and convert to int\n",
    "\n",
    "# 3. Merge on both criteria\n",
    "FR_emb_cluster_df = FR_emb_cluster_df.merge(\n",
    "    FR_feats_df[['extracted_session_id', 'trace_num', 'embedding']],\n",
    "    left_on=['session_id', 'trace_num'],\n",
    "    right_on=['extracted_session_id', 'trace_num'],\n",
    "    how='left'\n",
    ").drop(columns=['extracted_session_id'])"
   ]
  },
  {
   "cell_type": "code",
   "execution_count": 35,
   "id": "3f814ed4-f5c7-445a-bfaf-dfc9eb7a2dbc",
   "metadata": {
    "tags": []
   },
   "outputs": [
    {
     "data": {
      "text/html": [
       "<div>\n",
       "<style scoped>\n",
       "    .dataframe tbody tr th:only-of-type {\n",
       "        vertical-align: middle;\n",
       "    }\n",
       "\n",
       "    .dataframe tbody tr th {\n",
       "        vertical-align: top;\n",
       "    }\n",
       "\n",
       "    .dataframe thead th {\n",
       "        text-align: right;\n",
       "    }\n",
       "</style>\n",
       "<table border=\"1\" class=\"dataframe\">\n",
       "  <thead>\n",
       "    <tr style=\"text-align: right;\">\n",
       "      <th></th>\n",
       "      <th>session_id</th>\n",
       "      <th>trace_num</th>\n",
       "      <th>s3_url</th>\n",
       "      <th>animal_id</th>\n",
       "      <th>embedding</th>\n",
       "    </tr>\n",
       "  </thead>\n",
       "  <tbody>\n",
       "    <tr>\n",
       "      <th>0</th>\n",
       "      <td>C1000_C42A_ChR2_xPVT_F00_S01_P05_N_NON_NON</td>\n",
       "      <td>0</td>\n",
       "      <td>behavior-project/processed-data/trace-images/f...</td>\n",
       "      <td>C1000_C42A</td>\n",
       "      <td>[0.0, 0.0, 0.89690435, 0.0, 0.076437354, 0.0, ...</td>\n",
       "    </tr>\n",
       "    <tr>\n",
       "      <th>1</th>\n",
       "      <td>C1000_C42A_ChR2_xPVT_F00_S01_P05_N_NON_NON</td>\n",
       "      <td>1</td>\n",
       "      <td>behavior-project/processed-data/trace-images/f...</td>\n",
       "      <td>C1000_C42A</td>\n",
       "      <td>[0.0, 0.0, 1.7854563, 0.0, 0.0, 0.0, 1.2393667...</td>\n",
       "    </tr>\n",
       "    <tr>\n",
       "      <th>2</th>\n",
       "      <td>C1000_C42A_ChR2_xPVT_F00_S01_P05_N_NON_NON</td>\n",
       "      <td>2</td>\n",
       "      <td>behavior-project/processed-data/trace-images/f...</td>\n",
       "      <td>C1000_C42A</td>\n",
       "      <td>[0.0, 0.0, 1.8289622, 0.0, 0.0, 0.0, 1.802902,...</td>\n",
       "    </tr>\n",
       "  </tbody>\n",
       "</table>\n",
       "</div>"
      ],
      "text/plain": [
       "                                   session_id  trace_num  \\\n",
       "0  C1000_C42A_ChR2_xPVT_F00_S01_P05_N_NON_NON          0   \n",
       "1  C1000_C42A_ChR2_xPVT_F00_S01_P05_N_NON_NON          1   \n",
       "2  C1000_C42A_ChR2_xPVT_F00_S01_P05_N_NON_NON          2   \n",
       "\n",
       "                                              s3_url   animal_id  \\\n",
       "0  behavior-project/processed-data/trace-images/f...  C1000_C42A   \n",
       "1  behavior-project/processed-data/trace-images/f...  C1000_C42A   \n",
       "2  behavior-project/processed-data/trace-images/f...  C1000_C42A   \n",
       "\n",
       "                                           embedding  \n",
       "0  [0.0, 0.0, 0.89690435, 0.0, 0.076437354, 0.0, ...  \n",
       "1  [0.0, 0.0, 1.7854563, 0.0, 0.0, 0.0, 1.2393667...  \n",
       "2  [0.0, 0.0, 1.8289622, 0.0, 0.0, 0.0, 1.802902,...  "
      ]
     },
     "execution_count": 35,
     "metadata": {},
     "output_type": "execute_result"
    }
   ],
   "source": [
    "FR_emb_cluster_df.head(3)"
   ]
  },
  {
   "cell_type": "markdown",
   "id": "8c928fb0-ba40-4d24-ac99-379d7cd3ab60",
   "metadata": {},
   "source": [
    "<div style=\"background-color:green; color:white; padding:10px; font-size:20px\">\n",
    "4 - PCA & Clustering"
   ]
  },
  {
   "cell_type": "code",
   "execution_count": 36,
   "id": "0fae1a8a-10e9-4003-970e-ede5a22642d7",
   "metadata": {
    "tags": []
   },
   "outputs": [
    {
     "data": {
      "text/plain": [
       "Index(['session_id', 'trace_num', 's3_url', 'animal_id', 'embedding'], dtype='object')"
      ]
     },
     "execution_count": 36,
     "metadata": {},
     "output_type": "execute_result"
    }
   ],
   "source": [
    "FR_emb_cluster_df.columns"
   ]
  },
  {
   "cell_type": "code",
   "execution_count": 37,
   "id": "dfb028d3-c8f6-42ea-9d64-e4e597bea663",
   "metadata": {},
   "outputs": [],
   "source": [
    "pca = PCA(n_components=4, random_state=22)\n",
    "kmeans = KMeans(n_clusters=6)"
   ]
  },
  {
   "cell_type": "raw",
   "id": "01b3e8ee-60e4-42a0-9b5c-e84747279ada",
   "metadata": {
    "jupyter": {
     "outputs_hidden": true
    },
    "tags": []
   },
   "source": [
    "from sklearn.decomposition import PCA\n",
    "from sklearn.cluster import KMeans\n",
    "\n",
    "# Group by 'animal_id'\n",
    "groups = mPFC_emb_cluster_df.groupby('animal_id')\n",
    "\n",
    "# Iterate through the groups\n",
    "for animal_id, group_data in groups:\n",
    "    # Select the features for PCA (you may need to adjust this based on your DataFrame)\n",
    "    features = group_data.drop(columns=['session_id', 'trace_num', 's3_url', 'animal_id'])\n",
    "\n",
    "    # Perform PCA\n",
    "    pca_features = pca.fit_transform(features)\n",
    "\n",
    "    # Perform Clustering (e.g., using KMeans)\n",
    "    clusters = kmeans.fit_predict(pca_features)\n",
    "    \n",
    "    # Append the cluster labels to the list\n",
    "    all_clusters.extend(clusters)\n",
    "\n",
    "# Add the cluster labels as a new column to the original DataFrame\n",
    "mPFC_emb_cluster_df['cluster_label'] = all_clusters"
   ]
  },
  {
   "cell_type": "code",
   "execution_count": 39,
   "id": "7ce60ae5-4853-4a59-b927-3c3674cbb82f",
   "metadata": {
    "tags": []
   },
   "outputs": [],
   "source": [
    "from sklearn.decomposition import PCA\n",
    "from sklearn.cluster import KMeans\n",
    "\n",
    "# Group by 'animal_id'\n",
    "groups = FR_emb_cluster_df.groupby('animal_id')\n",
    "all_clusters = []\n",
    "\n",
    "# Iterate through the groups\n",
    "for animal_id, group_data in groups:\n",
    "    # Extract and expand the 'embedding' column\n",
    "    embeddings = pd.DataFrame(group_data['embedding'].tolist())\n",
    "    \n",
    "    # Perform PCA on the embeddings\n",
    "    pca_features = pca.fit_transform(embeddings)\n",
    "\n",
    "    # Perform Clustering (e.g., using KMeans)\n",
    "    clusters = kmeans.fit_predict(pca_features)\n",
    "    \n",
    "    # Append the cluster labels to the list\n",
    "    all_clusters.extend(clusters)\n",
    "\n",
    "# Add the cluster labels as a new column to the original DataFrame\n",
    "FR_emb_cluster_df['cluster_label'] = all_clusters"
   ]
  },
  {
   "cell_type": "code",
   "execution_count": 41,
   "id": "2e7bb2a0-3163-4ad2-96e3-9482a0d20041",
   "metadata": {
    "tags": []
   },
   "outputs": [
    {
     "name": "stdout",
     "output_type": "stream",
     "text": [
      "[0 1 5 3 2 4]\n"
     ]
    },
    {
     "data": {
      "text/html": [
       "<div>\n",
       "<style scoped>\n",
       "    .dataframe tbody tr th:only-of-type {\n",
       "        vertical-align: middle;\n",
       "    }\n",
       "\n",
       "    .dataframe tbody tr th {\n",
       "        vertical-align: top;\n",
       "    }\n",
       "\n",
       "    .dataframe thead th {\n",
       "        text-align: right;\n",
       "    }\n",
       "</style>\n",
       "<table border=\"1\" class=\"dataframe\">\n",
       "  <thead>\n",
       "    <tr style=\"text-align: right;\">\n",
       "      <th></th>\n",
       "      <th>session_id</th>\n",
       "      <th>trace_num</th>\n",
       "      <th>s3_url</th>\n",
       "      <th>animal_id</th>\n",
       "      <th>embedding</th>\n",
       "      <th>cluster_label</th>\n",
       "    </tr>\n",
       "  </thead>\n",
       "  <tbody>\n",
       "    <tr>\n",
       "      <th>0</th>\n",
       "      <td>C1000_C42A_ChR2_xPVT_F00_S01_P05_N_NON_NON</td>\n",
       "      <td>0</td>\n",
       "      <td>behavior-project/processed-data/trace-images/f...</td>\n",
       "      <td>C1000_C42A</td>\n",
       "      <td>[0.0, 0.0, 0.89690435, 0.0, 0.076437354, 0.0, ...</td>\n",
       "      <td>0</td>\n",
       "    </tr>\n",
       "    <tr>\n",
       "      <th>1</th>\n",
       "      <td>C1000_C42A_ChR2_xPVT_F00_S01_P05_N_NON_NON</td>\n",
       "      <td>1</td>\n",
       "      <td>behavior-project/processed-data/trace-images/f...</td>\n",
       "      <td>C1000_C42A</td>\n",
       "      <td>[0.0, 0.0, 1.7854563, 0.0, 0.0, 0.0, 1.2393667...</td>\n",
       "      <td>1</td>\n",
       "    </tr>\n",
       "    <tr>\n",
       "      <th>2</th>\n",
       "      <td>C1000_C42A_ChR2_xPVT_F00_S01_P05_N_NON_NON</td>\n",
       "      <td>2</td>\n",
       "      <td>behavior-project/processed-data/trace-images/f...</td>\n",
       "      <td>C1000_C42A</td>\n",
       "      <td>[0.0, 0.0, 1.8289622, 0.0, 0.0, 0.0, 1.802902,...</td>\n",
       "      <td>5</td>\n",
       "    </tr>\n",
       "  </tbody>\n",
       "</table>\n",
       "</div>"
      ],
      "text/plain": [
       "                                   session_id  trace_num  \\\n",
       "0  C1000_C42A_ChR2_xPVT_F00_S01_P05_N_NON_NON          0   \n",
       "1  C1000_C42A_ChR2_xPVT_F00_S01_P05_N_NON_NON          1   \n",
       "2  C1000_C42A_ChR2_xPVT_F00_S01_P05_N_NON_NON          2   \n",
       "\n",
       "                                              s3_url   animal_id  \\\n",
       "0  behavior-project/processed-data/trace-images/f...  C1000_C42A   \n",
       "1  behavior-project/processed-data/trace-images/f...  C1000_C42A   \n",
       "2  behavior-project/processed-data/trace-images/f...  C1000_C42A   \n",
       "\n",
       "                                           embedding  cluster_label  \n",
       "0  [0.0, 0.0, 0.89690435, 0.0, 0.076437354, 0.0, ...              0  \n",
       "1  [0.0, 0.0, 1.7854563, 0.0, 0.0, 0.0, 1.2393667...              1  \n",
       "2  [0.0, 0.0, 1.8289622, 0.0, 0.0, 0.0, 1.802902,...              5  "
      ]
     },
     "execution_count": 41,
     "metadata": {},
     "output_type": "execute_result"
    }
   ],
   "source": [
    "print(FR_emb_cluster_df.cluster_label.unique())\n",
    "FR_emb_cluster_df.head(3)"
   ]
  },
  {
   "cell_type": "markdown",
   "id": "9856cf4d-f1f5-4e2d-b93b-5eb10eae7fa6",
   "metadata": {},
   "source": [
    "<div style=\"background-color:green; color:white; padding:10px; font-size:20px\">\n",
    "5 - Save"
   ]
  },
  {
   "cell_type": "raw",
   "id": "b415802e-a6b2-469e-843e-83c6b6fdc07c",
   "metadata": {},
   "source": [
    "# mpfc_emb_cluster_df\n",
    "\n",
    "FILE = mPFC_emb_cluster_df\n",
    "S3_DIR_PATH = \"s3://behavior-project/processed-data/processed-data/embed-cluster-dfs/mpfc-icss\"\n",
    "FILE_NAME = 'mpfc-embed-cluster-df.csv'\n",
    "\n",
    "# Split the s3_path into bucket_name and prefix\n",
    "bucket_name, prefix = S3_DIR_PATH.replace(\"s3://\", \"\").split(\"/\", 1)\n",
    "file_path = f\"{prefix}/{FILE_NAME}\"\n",
    "\n",
    "# Create a CSV buffer\n",
    "csv_buffer = StringIO()\n",
    "\n",
    "# Convert the dataframe to CSV and write it to the buffer\n",
    "FILE.to_csv(csv_buffer, index=False)\n",
    "\n",
    "# Upload the CSV file to S3\n",
    "s3.put_object(Bucket=bucket_name, Key=file_path, Body=csv_buffer.getvalue())"
   ]
  },
  {
   "cell_type": "code",
   "execution_count": 42,
   "id": "69156e73-bb75-4158-aaf4-3e0b657c6ca5",
   "metadata": {
    "tags": []
   },
   "outputs": [
    {
     "data": {
      "text/plain": [
       "{'ResponseMetadata': {'RequestId': 'ND5E4V8BRNNC5ZDA',\n",
       "  'HostId': 'r8oLKKU6rhxDGQuZTRt0zgT2TLFwWJ7rq9zSF5RIz8adgqyuycftW0Sy/0ZOPbxCO1R2YzfcXt4=',\n",
       "  'HTTPStatusCode': 200,\n",
       "  'HTTPHeaders': {'x-amz-id-2': 'r8oLKKU6rhxDGQuZTRt0zgT2TLFwWJ7rq9zSF5RIz8adgqyuycftW0Sy/0ZOPbxCO1R2YzfcXt4=',\n",
       "   'x-amz-request-id': 'ND5E4V8BRNNC5ZDA',\n",
       "   'date': 'Tue, 08 Aug 2023 22:36:13 GMT',\n",
       "   'x-amz-server-side-encryption': 'AES256',\n",
       "   'etag': '\"8f82bb65158fd5c48f0223f0c9f6dd48\"',\n",
       "   'server': 'AmazonS3',\n",
       "   'content-length': '0'},\n",
       "  'RetryAttempts': 0},\n",
       " 'ETag': '\"8f82bb65158fd5c48f0223f0c9f6dd48\"',\n",
       " 'ServerSideEncryption': 'AES256'}"
      ]
     },
     "execution_count": 42,
     "metadata": {},
     "output_type": "execute_result"
    }
   ],
   "source": [
    "# fr_emb_cluster_df\n",
    "\n",
    "FILE = FR_emb_cluster_df\n",
    "S3_DIR_PATH = \"s3://behavior-project/processed-data/processed-data/embed-cluster-dfs/fr-icss\"\n",
    "FILE_NAME = 'fr-embed-cluster-df.csv'\n",
    "\n",
    "# Split the s3_path into bucket_name and prefix\n",
    "bucket_name, prefix = S3_DIR_PATH.replace(\"s3://\", \"\").split(\"/\", 1)\n",
    "file_path = f\"{prefix}/{FILE_NAME}\"\n",
    "\n",
    "# Create a CSV buffer\n",
    "csv_buffer = StringIO()\n",
    "\n",
    "# Convert the dataframe to CSV and write it to the buffer\n",
    "FILE.to_csv(csv_buffer, index=False)\n",
    "\n",
    "# Upload the CSV file to S3\n",
    "s3.put_object(Bucket=bucket_name, Key=file_path, Body=csv_buffer.getvalue())"
   ]
  }
 ],
 "metadata": {
  "availableInstances": [
   {
    "_defaultOrder": 0,
    "_isFastLaunch": true,
    "category": "General purpose",
    "gpuNum": 0,
    "hideHardwareSpecs": false,
    "memoryGiB": 4,
    "name": "ml.t3.medium",
    "vcpuNum": 2
   },
   {
    "_defaultOrder": 1,
    "_isFastLaunch": false,
    "category": "General purpose",
    "gpuNum": 0,
    "hideHardwareSpecs": false,
    "memoryGiB": 8,
    "name": "ml.t3.large",
    "vcpuNum": 2
   },
   {
    "_defaultOrder": 2,
    "_isFastLaunch": false,
    "category": "General purpose",
    "gpuNum": 0,
    "hideHardwareSpecs": false,
    "memoryGiB": 16,
    "name": "ml.t3.xlarge",
    "vcpuNum": 4
   },
   {
    "_defaultOrder": 3,
    "_isFastLaunch": false,
    "category": "General purpose",
    "gpuNum": 0,
    "hideHardwareSpecs": false,
    "memoryGiB": 32,
    "name": "ml.t3.2xlarge",
    "vcpuNum": 8
   },
   {
    "_defaultOrder": 4,
    "_isFastLaunch": true,
    "category": "General purpose",
    "gpuNum": 0,
    "hideHardwareSpecs": false,
    "memoryGiB": 8,
    "name": "ml.m5.large",
    "vcpuNum": 2
   },
   {
    "_defaultOrder": 5,
    "_isFastLaunch": false,
    "category": "General purpose",
    "gpuNum": 0,
    "hideHardwareSpecs": false,
    "memoryGiB": 16,
    "name": "ml.m5.xlarge",
    "vcpuNum": 4
   },
   {
    "_defaultOrder": 6,
    "_isFastLaunch": false,
    "category": "General purpose",
    "gpuNum": 0,
    "hideHardwareSpecs": false,
    "memoryGiB": 32,
    "name": "ml.m5.2xlarge",
    "vcpuNum": 8
   },
   {
    "_defaultOrder": 7,
    "_isFastLaunch": false,
    "category": "General purpose",
    "gpuNum": 0,
    "hideHardwareSpecs": false,
    "memoryGiB": 64,
    "name": "ml.m5.4xlarge",
    "vcpuNum": 16
   },
   {
    "_defaultOrder": 8,
    "_isFastLaunch": false,
    "category": "General purpose",
    "gpuNum": 0,
    "hideHardwareSpecs": false,
    "memoryGiB": 128,
    "name": "ml.m5.8xlarge",
    "vcpuNum": 32
   },
   {
    "_defaultOrder": 9,
    "_isFastLaunch": false,
    "category": "General purpose",
    "gpuNum": 0,
    "hideHardwareSpecs": false,
    "memoryGiB": 192,
    "name": "ml.m5.12xlarge",
    "vcpuNum": 48
   },
   {
    "_defaultOrder": 10,
    "_isFastLaunch": false,
    "category": "General purpose",
    "gpuNum": 0,
    "hideHardwareSpecs": false,
    "memoryGiB": 256,
    "name": "ml.m5.16xlarge",
    "vcpuNum": 64
   },
   {
    "_defaultOrder": 11,
    "_isFastLaunch": false,
    "category": "General purpose",
    "gpuNum": 0,
    "hideHardwareSpecs": false,
    "memoryGiB": 384,
    "name": "ml.m5.24xlarge",
    "vcpuNum": 96
   },
   {
    "_defaultOrder": 12,
    "_isFastLaunch": false,
    "category": "General purpose",
    "gpuNum": 0,
    "hideHardwareSpecs": false,
    "memoryGiB": 8,
    "name": "ml.m5d.large",
    "vcpuNum": 2
   },
   {
    "_defaultOrder": 13,
    "_isFastLaunch": false,
    "category": "General purpose",
    "gpuNum": 0,
    "hideHardwareSpecs": false,
    "memoryGiB": 16,
    "name": "ml.m5d.xlarge",
    "vcpuNum": 4
   },
   {
    "_defaultOrder": 14,
    "_isFastLaunch": false,
    "category": "General purpose",
    "gpuNum": 0,
    "hideHardwareSpecs": false,
    "memoryGiB": 32,
    "name": "ml.m5d.2xlarge",
    "vcpuNum": 8
   },
   {
    "_defaultOrder": 15,
    "_isFastLaunch": false,
    "category": "General purpose",
    "gpuNum": 0,
    "hideHardwareSpecs": false,
    "memoryGiB": 64,
    "name": "ml.m5d.4xlarge",
    "vcpuNum": 16
   },
   {
    "_defaultOrder": 16,
    "_isFastLaunch": false,
    "category": "General purpose",
    "gpuNum": 0,
    "hideHardwareSpecs": false,
    "memoryGiB": 128,
    "name": "ml.m5d.8xlarge",
    "vcpuNum": 32
   },
   {
    "_defaultOrder": 17,
    "_isFastLaunch": false,
    "category": "General purpose",
    "gpuNum": 0,
    "hideHardwareSpecs": false,
    "memoryGiB": 192,
    "name": "ml.m5d.12xlarge",
    "vcpuNum": 48
   },
   {
    "_defaultOrder": 18,
    "_isFastLaunch": false,
    "category": "General purpose",
    "gpuNum": 0,
    "hideHardwareSpecs": false,
    "memoryGiB": 256,
    "name": "ml.m5d.16xlarge",
    "vcpuNum": 64
   },
   {
    "_defaultOrder": 19,
    "_isFastLaunch": false,
    "category": "General purpose",
    "gpuNum": 0,
    "hideHardwareSpecs": false,
    "memoryGiB": 384,
    "name": "ml.m5d.24xlarge",
    "vcpuNum": 96
   },
   {
    "_defaultOrder": 20,
    "_isFastLaunch": false,
    "category": "General purpose",
    "gpuNum": 0,
    "hideHardwareSpecs": true,
    "memoryGiB": 0,
    "name": "ml.geospatial.interactive",
    "supportedImageNames": [
     "sagemaker-geospatial-v1-0"
    ],
    "vcpuNum": 0
   },
   {
    "_defaultOrder": 21,
    "_isFastLaunch": true,
    "category": "Compute optimized",
    "gpuNum": 0,
    "hideHardwareSpecs": false,
    "memoryGiB": 4,
    "name": "ml.c5.large",
    "vcpuNum": 2
   },
   {
    "_defaultOrder": 22,
    "_isFastLaunch": false,
    "category": "Compute optimized",
    "gpuNum": 0,
    "hideHardwareSpecs": false,
    "memoryGiB": 8,
    "name": "ml.c5.xlarge",
    "vcpuNum": 4
   },
   {
    "_defaultOrder": 23,
    "_isFastLaunch": false,
    "category": "Compute optimized",
    "gpuNum": 0,
    "hideHardwareSpecs": false,
    "memoryGiB": 16,
    "name": "ml.c5.2xlarge",
    "vcpuNum": 8
   },
   {
    "_defaultOrder": 24,
    "_isFastLaunch": false,
    "category": "Compute optimized",
    "gpuNum": 0,
    "hideHardwareSpecs": false,
    "memoryGiB": 32,
    "name": "ml.c5.4xlarge",
    "vcpuNum": 16
   },
   {
    "_defaultOrder": 25,
    "_isFastLaunch": false,
    "category": "Compute optimized",
    "gpuNum": 0,
    "hideHardwareSpecs": false,
    "memoryGiB": 72,
    "name": "ml.c5.9xlarge",
    "vcpuNum": 36
   },
   {
    "_defaultOrder": 26,
    "_isFastLaunch": false,
    "category": "Compute optimized",
    "gpuNum": 0,
    "hideHardwareSpecs": false,
    "memoryGiB": 96,
    "name": "ml.c5.12xlarge",
    "vcpuNum": 48
   },
   {
    "_defaultOrder": 27,
    "_isFastLaunch": false,
    "category": "Compute optimized",
    "gpuNum": 0,
    "hideHardwareSpecs": false,
    "memoryGiB": 144,
    "name": "ml.c5.18xlarge",
    "vcpuNum": 72
   },
   {
    "_defaultOrder": 28,
    "_isFastLaunch": false,
    "category": "Compute optimized",
    "gpuNum": 0,
    "hideHardwareSpecs": false,
    "memoryGiB": 192,
    "name": "ml.c5.24xlarge",
    "vcpuNum": 96
   },
   {
    "_defaultOrder": 29,
    "_isFastLaunch": true,
    "category": "Accelerated computing",
    "gpuNum": 1,
    "hideHardwareSpecs": false,
    "memoryGiB": 16,
    "name": "ml.g4dn.xlarge",
    "vcpuNum": 4
   },
   {
    "_defaultOrder": 30,
    "_isFastLaunch": false,
    "category": "Accelerated computing",
    "gpuNum": 1,
    "hideHardwareSpecs": false,
    "memoryGiB": 32,
    "name": "ml.g4dn.2xlarge",
    "vcpuNum": 8
   },
   {
    "_defaultOrder": 31,
    "_isFastLaunch": false,
    "category": "Accelerated computing",
    "gpuNum": 1,
    "hideHardwareSpecs": false,
    "memoryGiB": 64,
    "name": "ml.g4dn.4xlarge",
    "vcpuNum": 16
   },
   {
    "_defaultOrder": 32,
    "_isFastLaunch": false,
    "category": "Accelerated computing",
    "gpuNum": 1,
    "hideHardwareSpecs": false,
    "memoryGiB": 128,
    "name": "ml.g4dn.8xlarge",
    "vcpuNum": 32
   },
   {
    "_defaultOrder": 33,
    "_isFastLaunch": false,
    "category": "Accelerated computing",
    "gpuNum": 4,
    "hideHardwareSpecs": false,
    "memoryGiB": 192,
    "name": "ml.g4dn.12xlarge",
    "vcpuNum": 48
   },
   {
    "_defaultOrder": 34,
    "_isFastLaunch": false,
    "category": "Accelerated computing",
    "gpuNum": 1,
    "hideHardwareSpecs": false,
    "memoryGiB": 256,
    "name": "ml.g4dn.16xlarge",
    "vcpuNum": 64
   },
   {
    "_defaultOrder": 35,
    "_isFastLaunch": false,
    "category": "Accelerated computing",
    "gpuNum": 1,
    "hideHardwareSpecs": false,
    "memoryGiB": 61,
    "name": "ml.p3.2xlarge",
    "vcpuNum": 8
   },
   {
    "_defaultOrder": 36,
    "_isFastLaunch": false,
    "category": "Accelerated computing",
    "gpuNum": 4,
    "hideHardwareSpecs": false,
    "memoryGiB": 244,
    "name": "ml.p3.8xlarge",
    "vcpuNum": 32
   },
   {
    "_defaultOrder": 37,
    "_isFastLaunch": false,
    "category": "Accelerated computing",
    "gpuNum": 8,
    "hideHardwareSpecs": false,
    "memoryGiB": 488,
    "name": "ml.p3.16xlarge",
    "vcpuNum": 64
   },
   {
    "_defaultOrder": 38,
    "_isFastLaunch": false,
    "category": "Accelerated computing",
    "gpuNum": 8,
    "hideHardwareSpecs": false,
    "memoryGiB": 768,
    "name": "ml.p3dn.24xlarge",
    "vcpuNum": 96
   },
   {
    "_defaultOrder": 39,
    "_isFastLaunch": false,
    "category": "Memory Optimized",
    "gpuNum": 0,
    "hideHardwareSpecs": false,
    "memoryGiB": 16,
    "name": "ml.r5.large",
    "vcpuNum": 2
   },
   {
    "_defaultOrder": 40,
    "_isFastLaunch": false,
    "category": "Memory Optimized",
    "gpuNum": 0,
    "hideHardwareSpecs": false,
    "memoryGiB": 32,
    "name": "ml.r5.xlarge",
    "vcpuNum": 4
   },
   {
    "_defaultOrder": 41,
    "_isFastLaunch": false,
    "category": "Memory Optimized",
    "gpuNum": 0,
    "hideHardwareSpecs": false,
    "memoryGiB": 64,
    "name": "ml.r5.2xlarge",
    "vcpuNum": 8
   },
   {
    "_defaultOrder": 42,
    "_isFastLaunch": false,
    "category": "Memory Optimized",
    "gpuNum": 0,
    "hideHardwareSpecs": false,
    "memoryGiB": 128,
    "name": "ml.r5.4xlarge",
    "vcpuNum": 16
   },
   {
    "_defaultOrder": 43,
    "_isFastLaunch": false,
    "category": "Memory Optimized",
    "gpuNum": 0,
    "hideHardwareSpecs": false,
    "memoryGiB": 256,
    "name": "ml.r5.8xlarge",
    "vcpuNum": 32
   },
   {
    "_defaultOrder": 44,
    "_isFastLaunch": false,
    "category": "Memory Optimized",
    "gpuNum": 0,
    "hideHardwareSpecs": false,
    "memoryGiB": 384,
    "name": "ml.r5.12xlarge",
    "vcpuNum": 48
   },
   {
    "_defaultOrder": 45,
    "_isFastLaunch": false,
    "category": "Memory Optimized",
    "gpuNum": 0,
    "hideHardwareSpecs": false,
    "memoryGiB": 512,
    "name": "ml.r5.16xlarge",
    "vcpuNum": 64
   },
   {
    "_defaultOrder": 46,
    "_isFastLaunch": false,
    "category": "Memory Optimized",
    "gpuNum": 0,
    "hideHardwareSpecs": false,
    "memoryGiB": 768,
    "name": "ml.r5.24xlarge",
    "vcpuNum": 96
   },
   {
    "_defaultOrder": 47,
    "_isFastLaunch": false,
    "category": "Accelerated computing",
    "gpuNum": 1,
    "hideHardwareSpecs": false,
    "memoryGiB": 16,
    "name": "ml.g5.xlarge",
    "vcpuNum": 4
   },
   {
    "_defaultOrder": 48,
    "_isFastLaunch": false,
    "category": "Accelerated computing",
    "gpuNum": 1,
    "hideHardwareSpecs": false,
    "memoryGiB": 32,
    "name": "ml.g5.2xlarge",
    "vcpuNum": 8
   },
   {
    "_defaultOrder": 49,
    "_isFastLaunch": false,
    "category": "Accelerated computing",
    "gpuNum": 1,
    "hideHardwareSpecs": false,
    "memoryGiB": 64,
    "name": "ml.g5.4xlarge",
    "vcpuNum": 16
   },
   {
    "_defaultOrder": 50,
    "_isFastLaunch": false,
    "category": "Accelerated computing",
    "gpuNum": 1,
    "hideHardwareSpecs": false,
    "memoryGiB": 128,
    "name": "ml.g5.8xlarge",
    "vcpuNum": 32
   },
   {
    "_defaultOrder": 51,
    "_isFastLaunch": false,
    "category": "Accelerated computing",
    "gpuNum": 1,
    "hideHardwareSpecs": false,
    "memoryGiB": 256,
    "name": "ml.g5.16xlarge",
    "vcpuNum": 64
   },
   {
    "_defaultOrder": 52,
    "_isFastLaunch": false,
    "category": "Accelerated computing",
    "gpuNum": 4,
    "hideHardwareSpecs": false,
    "memoryGiB": 192,
    "name": "ml.g5.12xlarge",
    "vcpuNum": 48
   },
   {
    "_defaultOrder": 53,
    "_isFastLaunch": false,
    "category": "Accelerated computing",
    "gpuNum": 4,
    "hideHardwareSpecs": false,
    "memoryGiB": 384,
    "name": "ml.g5.24xlarge",
    "vcpuNum": 96
   },
   {
    "_defaultOrder": 54,
    "_isFastLaunch": false,
    "category": "Accelerated computing",
    "gpuNum": 8,
    "hideHardwareSpecs": false,
    "memoryGiB": 768,
    "name": "ml.g5.48xlarge",
    "vcpuNum": 192
   },
   {
    "_defaultOrder": 55,
    "_isFastLaunch": false,
    "category": "Accelerated computing",
    "gpuNum": 8,
    "hideHardwareSpecs": false,
    "memoryGiB": 1152,
    "name": "ml.p4d.24xlarge",
    "vcpuNum": 96
   },
   {
    "_defaultOrder": 56,
    "_isFastLaunch": false,
    "category": "Accelerated computing",
    "gpuNum": 8,
    "hideHardwareSpecs": false,
    "memoryGiB": 1152,
    "name": "ml.p4de.24xlarge",
    "vcpuNum": 96
   }
  ],
  "instance_type": "ml.t3.medium",
  "kernelspec": {
   "display_name": "Python 3 (Data Science)",
   "language": "python",
   "name": "python3__SAGEMAKER_INTERNAL__arn:aws:sagemaker:us-east-1:081325390199:image/datascience-1.0"
  },
  "language_info": {
   "codemirror_mode": {
    "name": "ipython",
    "version": 3
   },
   "file_extension": ".py",
   "mimetype": "text/x-python",
   "name": "python",
   "nbconvert_exporter": "python",
   "pygments_lexer": "ipython3",
   "version": "3.7.10"
  }
 },
 "nbformat": 4,
 "nbformat_minor": 5
}
