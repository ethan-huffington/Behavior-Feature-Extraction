{
 "cells": [
  {
   "cell_type": "markdown",
   "id": "75c4f479-a3ed-4cd7-9cff-813dfd517546",
   "metadata": {
    "tags": []
   },
   "source": [
    "<div style=\"background-color:green; color:white; padding:10px; font-size:20px\">\n",
    "1 - Setup"
   ]
  },
  {
   "cell_type": "code",
   "execution_count": 1,
   "id": "2579206c-8a1d-4837-9361-12076dd7e163",
   "metadata": {
    "tags": []
   },
   "outputs": [
    {
     "name": "stdout",
     "output_type": "stream",
     "text": [
      "Requirement already satisfied: boto3 in /opt/conda/lib/python3.7/site-packages (1.28.14)\n",
      "Requirement already satisfied: botocore<1.32.0,>=1.31.14 in /opt/conda/lib/python3.7/site-packages (from boto3) (1.31.14)\n",
      "Requirement already satisfied: jmespath<2.0.0,>=0.7.1 in /opt/conda/lib/python3.7/site-packages (from boto3) (1.0.1)\n",
      "Requirement already satisfied: s3transfer<0.7.0,>=0.6.0 in /opt/conda/lib/python3.7/site-packages (from boto3) (0.6.1)\n",
      "Requirement already satisfied: python-dateutil<3.0.0,>=2.1 in /opt/conda/lib/python3.7/site-packages (from botocore<1.32.0,>=1.31.14->boto3) (2.8.2)\n",
      "Collecting urllib3<1.27,>=1.25.4 (from botocore<1.32.0,>=1.31.14->boto3)\n",
      "  Obtaining dependency information for urllib3<1.27,>=1.25.4 from https://files.pythonhosted.org/packages/c5/05/c214b32d21c0b465506f95c4f28ccbcba15022e000b043b72b3df7728471/urllib3-1.26.16-py2.py3-none-any.whl.metadata\n",
      "  Using cached urllib3-1.26.16-py2.py3-none-any.whl.metadata (48 kB)\n",
      "Requirement already satisfied: six>=1.5 in /opt/conda/lib/python3.7/site-packages (from python-dateutil<3.0.0,>=2.1->botocore<1.32.0,>=1.31.14->boto3) (1.14.0)\n",
      "Using cached urllib3-1.26.16-py2.py3-none-any.whl (143 kB)\n",
      "\u001b[33mDEPRECATION: pyodbc 4.0.0-unsupported has a non-standard version number. pip 23.3 will enforce this behaviour change. A possible replacement is to upgrade to a newer version of pyodbc or contact the author to suggest that they release a version with a conforming version number. Discussion can be found at https://github.com/pypa/pip/issues/12063\u001b[0m\u001b[33m\n",
      "\u001b[0mInstalling collected packages: urllib3\n",
      "  Attempting uninstall: urllib3\n",
      "    Found existing installation: urllib3 2.0.4\n",
      "    Uninstalling urllib3-2.0.4:\n",
      "      Successfully uninstalled urllib3-2.0.4\n",
      "\u001b[31mERROR: pip's dependency resolver does not currently take into account all the packages that are installed. This behaviour is the source of the following dependency conflicts.\n",
      "sparkmagic 0.20.4 requires nest-asyncio==1.5.5, but you have nest-asyncio 1.5.7 which is incompatible.\u001b[0m\u001b[31m\n",
      "\u001b[0mSuccessfully installed urllib3-1.26.16\n",
      "\u001b[33mWARNING: Running pip as the 'root' user can result in broken permissions and conflicting behaviour with the system package manager. It is recommended to use a virtual environment instead: https://pip.pypa.io/warnings/venv\u001b[0m\u001b[33m\n",
      "\u001b[0m"
     ]
    }
   ],
   "source": [
    "!pip install boto3"
   ]
  },
  {
   "cell_type": "code",
   "execution_count": 2,
   "id": "8639a196-fc16-4a1a-9dff-68b6beb02afe",
   "metadata": {
    "tags": []
   },
   "outputs": [],
   "source": [
    "import random\n",
    "\n",
    "import boto3\n",
    "import data_handling\n",
    "import pandas as pd\n",
    "import time\n",
    "\n",
    "# Project Scripts\n",
    "from data_handling import view_rand_df"
   ]
  },
  {
   "cell_type": "markdown",
   "id": "750699dd-7d17-44e1-a979-33c42165e16d",
   "metadata": {
    "tags": []
   },
   "source": [
    "<div style=\"background-color:teal; color:white; padding:0px; font-size:20px\">\n",
    "♺ Refresh"
   ]
  },
  {
   "cell_type": "code",
   "execution_count": 3,
   "id": "d496808b-d4d8-49a6-8ae8-14588f9c7c4e",
   "metadata": {
    "tags": []
   },
   "outputs": [
    {
     "data": {
      "text/plain": [
       "<module 'data_handling' from '/root/projects/behavior_project/data_handling.py'>"
      ]
     },
     "execution_count": 3,
     "metadata": {},
     "output_type": "execute_result"
    }
   ],
   "source": [
    "# Re-freshing the module import for development purposes\n",
    "from importlib import reload\n",
    "reload(data_handling)"
   ]
  },
  {
   "cell_type": "markdown",
   "id": "f22113ec-6a2a-4f03-afb5-4f9d8ed7f6e9",
   "metadata": {
    "tags": []
   },
   "source": [
    "#### Sagemaker User & IAM Credentials"
   ]
  },
  {
   "cell_type": "code",
   "execution_count": 4,
   "id": "292d24a5-0466-428c-b962-5d72c6ac7f34",
   "metadata": {
    "tags": []
   },
   "outputs": [
    {
     "name": "stdout",
     "output_type": "stream",
     "text": [
      "Your AWS Account:  717145514721\n",
      "Logged-in Account: 717145514721\n",
      "User ARN: arn:aws:sts::717145514721:assumed-role/AWS-SageMakerFullAccess-Role/SageMaker\n"
     ]
    }
   ],
   "source": [
    "# Create credentials session (log-in to AWS account)\n",
    "sess = boto3.Session()\n",
    "# Get information about current User\n",
    "sts = sess.client(\"sts\")\n",
    "response = sts.get_caller_identity()\n",
    "\n",
    "print(\"Your AWS Account:  717145514721\")\n",
    "print(\"Logged-in Account:\", response[\"Account\"])\n",
    "print(\"User ARN:\", response[\"Arn\"])"
   ]
  },
  {
   "cell_type": "markdown",
   "id": "b0be39ea-9e72-4082-9013-813ad03e001e",
   "metadata": {},
   "source": [
    "### S3 Connection"
   ]
  },
  {
   "cell_type": "code",
   "execution_count": 5,
   "id": "e5847440-e260-4758-b9db-d1c600e5eefb",
   "metadata": {
    "tags": []
   },
   "outputs": [
    {
     "name": "stdout",
     "output_type": "stream",
     "text": [
      "Bucket List: ['behavior-project', 'pytorch-aws-train-deploy-project', 'sagemaker-us-east-1-717145514721']\n"
     ]
    },
    {
     "name": "stderr",
     "output_type": "stream",
     "text": [
      "/opt/conda/lib/python3.7/site-packages/boto3/compat.py:82: PythonDeprecationWarning: Boto3 will no longer support Python 3.7 starting December 13, 2023. To continue receiving service updates, bug fixes, and security updates please upgrade to Python 3.8 or later. More information can be found here: https://aws.amazon.com/blogs/developer/python-support-policy-updates-for-aws-sdks-and-tools/\n",
      "  warnings.warn(warning, PythonDeprecationWarning)\n"
     ]
    }
   ],
   "source": [
    "import boto3\n",
    "\n",
    "# Create a session using your AWS credentials\n",
    "s3 = boto3.client(\"s3\")\n",
    "\n",
    "# List all bucket names\n",
    "response = s3.list_buckets()\n",
    "\n",
    "# Get a list of all bucket names from the response\n",
    "buckets = [bucket[\"Name\"] for bucket in response[\"Buckets\"]]\n",
    "\n",
    "# Print out the bucket list\n",
    "print(\"Bucket List: %s\" % buckets)"
   ]
  },
  {
   "cell_type": "markdown",
   "id": "6c1f1e5f-306c-4f75-b808-2a72f4e43296",
   "metadata": {},
   "source": [
    "<div style=\"background-color:green; color:white; padding:10px; font-size:20px\">\n",
    "2 - Data Import"
   ]
  },
  {
   "cell_type": "code",
   "execution_count": 6,
   "id": "99c2541f-9ee6-48de-a8ce-8d0a79b9aa40",
   "metadata": {
    "tags": []
   },
   "outputs": [],
   "source": [
    "from data_handling import load_to_dict\n",
    "from data_handling import optimize_dataframe_dtypes\n",
    "from data_handling import concatenate_csvs_from_s3\n",
    "from io import StringIO"
   ]
  },
  {
   "cell_type": "markdown",
   "id": "44bb39a1-0f42-47af-b427-f13a07522ea7",
   "metadata": {},
   "source": [
    "<div style=\"background-color:darkseagreen; color:black; padding:0px; font-size:20px\">\n",
    "trace_df_dict    --->    trace_df"
   ]
  },
  {
   "cell_type": "markdown",
   "id": "76019a4a-678f-4f72-b3ee-0811435fabeb",
   "metadata": {},
   "source": [
    "#### mPFC"
   ]
  },
  {
   "cell_type": "code",
   "execution_count": 7,
   "id": "dadde24a-0a11-45f5-8afe-253c325fe062",
   "metadata": {
    "tags": []
   },
   "outputs": [],
   "source": [
    "bucket_name = 'behavior-project'\n",
    "prefix = 'processed-data/processed-data/trace-df-dictionaries/mpfc-icss/'\n",
    "\n",
    "mPFC_trace_df = concatenate_csvs_from_s3(\n",
    "    bucket_name=bucket_name,\n",
    "    prefix=prefix)"
   ]
  },
  {
   "cell_type": "code",
   "execution_count": 8,
   "id": "6d27d961-5f83-4dc4-8b40-ccf7b631ae88",
   "metadata": {
    "tags": []
   },
   "outputs": [
    {
     "data": {
      "text/html": [
       "<div>\n",
       "<style scoped>\n",
       "    .dataframe tbody tr th:only-of-type {\n",
       "        vertical-align: middle;\n",
       "    }\n",
       "\n",
       "    .dataframe tbody tr th {\n",
       "        vertical-align: top;\n",
       "    }\n",
       "\n",
       "    .dataframe thead th {\n",
       "        text-align: right;\n",
       "    }\n",
       "</style>\n",
       "<table border=\"1\" class=\"dataframe\">\n",
       "  <thead>\n",
       "    <tr style=\"text-align: right;\">\n",
       "      <th></th>\n",
       "      <th>time</th>\n",
       "      <th>centre_position_x</th>\n",
       "      <th>centre_position_y</th>\n",
       "      <th>in_t</th>\n",
       "      <th>in_d</th>\n",
       "      <th>in_h</th>\n",
       "      <th>in_v</th>\n",
       "      <th>trace_num</th>\n",
       "      <th>session_id</th>\n",
       "    </tr>\n",
       "  </thead>\n",
       "  <tbody>\n",
       "    <tr>\n",
       "      <th>0</th>\n",
       "      <td>1970-01-01 00:00:10.340999603</td>\n",
       "      <td>143.0</td>\n",
       "      <td>163.0</td>\n",
       "      <td>True</td>\n",
       "      <td>False</td>\n",
       "      <td>False</td>\n",
       "      <td>False</td>\n",
       "      <td>0</td>\n",
       "      <td>C58_R10_ChR2_mPFC_30Hz_S01_P02_N_NON_NON</td>\n",
       "    </tr>\n",
       "    <tr>\n",
       "      <th>1</th>\n",
       "      <td>1970-01-01 00:00:10.373999595</td>\n",
       "      <td>143.0</td>\n",
       "      <td>163.0</td>\n",
       "      <td>True</td>\n",
       "      <td>False</td>\n",
       "      <td>False</td>\n",
       "      <td>False</td>\n",
       "      <td>0</td>\n",
       "      <td>C58_R10_ChR2_mPFC_30Hz_S01_P02_N_NON_NON</td>\n",
       "    </tr>\n",
       "    <tr>\n",
       "      <th>2</th>\n",
       "      <td>1970-01-01 00:00:10.440999984</td>\n",
       "      <td>143.0</td>\n",
       "      <td>163.0</td>\n",
       "      <td>True</td>\n",
       "      <td>False</td>\n",
       "      <td>False</td>\n",
       "      <td>False</td>\n",
       "      <td>0</td>\n",
       "      <td>C58_R10_ChR2_mPFC_30Hz_S01_P02_N_NON_NON</td>\n",
       "    </tr>\n",
       "  </tbody>\n",
       "</table>\n",
       "</div>"
      ],
      "text/plain": [
       "                            time  centre_position_x  centre_position_y  in_t  \\\n",
       "0  1970-01-01 00:00:10.340999603              143.0              163.0  True   \n",
       "1  1970-01-01 00:00:10.373999595              143.0              163.0  True   \n",
       "2  1970-01-01 00:00:10.440999984              143.0              163.0  True   \n",
       "\n",
       "    in_d   in_h   in_v  trace_num                                session_id  \n",
       "0  False  False  False          0  C58_R10_ChR2_mPFC_30Hz_S01_P02_N_NON_NON  \n",
       "1  False  False  False          0  C58_R10_ChR2_mPFC_30Hz_S01_P02_N_NON_NON  \n",
       "2  False  False  False          0  C58_R10_ChR2_mPFC_30Hz_S01_P02_N_NON_NON  "
      ]
     },
     "execution_count": 8,
     "metadata": {},
     "output_type": "execute_result"
    }
   ],
   "source": [
    "mPFC_trace_df.drop(columns=['session_zone_(h)','session_zone_(d)', 'session_zone_(v)', 'session_zone_(t)'], inplace=True)\n",
    "mPFC_trace_df['session_id'] = mPFC_trace_df['session_id'].astype(str)\n",
    "mPFC_trace_df.head(3)"
   ]
  },
  {
   "cell_type": "markdown",
   "id": "d1e2093c-a69e-48a6-b5a1-4ba48110e2e4",
   "metadata": {},
   "source": [
    "#### FR"
   ]
  },
  {
   "cell_type": "code",
   "execution_count": 9,
   "id": "ea76cf0e-4702-48bc-8a64-b51a84b5a8b8",
   "metadata": {},
   "outputs": [
    {
     "name": "stderr",
     "output_type": "stream",
     "text": [
      "/opt/conda/lib/python3.7/site-packages/boto3/compat.py:82: PythonDeprecationWarning: Boto3 will no longer support Python 3.7 starting December 13, 2023. To continue receiving service updates, bug fixes, and security updates please upgrade to Python 3.8 or later. More information can be found here: https://aws.amazon.com/blogs/developer/python-support-policy-updates-for-aws-sdks-and-tools/\n",
      "  warnings.warn(warning, PythonDeprecationWarning)\n"
     ]
    }
   ],
   "source": [
    "bucket_name = 'behavior-project'\n",
    "prefix = 'processed-data/processed-data/trace-df-dictionaries/fr-icss/'\n",
    "\n",
    "FR_trace_df = concatenate_csvs_from_s3(\n",
    "    bucket_name=bucket_name,\n",
    "    prefix=prefix)"
   ]
  },
  {
   "cell_type": "code",
   "execution_count": 10,
   "id": "e3fd1215-7424-413d-93b4-7167001a08da",
   "metadata": {
    "tags": []
   },
   "outputs": [
    {
     "data": {
      "text/html": [
       "<div>\n",
       "<style scoped>\n",
       "    .dataframe tbody tr th:only-of-type {\n",
       "        vertical-align: middle;\n",
       "    }\n",
       "\n",
       "    .dataframe tbody tr th {\n",
       "        vertical-align: top;\n",
       "    }\n",
       "\n",
       "    .dataframe thead th {\n",
       "        text-align: right;\n",
       "    }\n",
       "</style>\n",
       "<table border=\"1\" class=\"dataframe\">\n",
       "  <thead>\n",
       "    <tr style=\"text-align: right;\">\n",
       "      <th></th>\n",
       "      <th>time</th>\n",
       "      <th>centre_position_x</th>\n",
       "      <th>centre_position_y</th>\n",
       "      <th>in_t</th>\n",
       "      <th>in_d</th>\n",
       "      <th>in_h</th>\n",
       "      <th>in_v</th>\n",
       "      <th>trace_num</th>\n",
       "      <th>session_id</th>\n",
       "    </tr>\n",
       "  </thead>\n",
       "  <tbody>\n",
       "    <tr>\n",
       "      <th>0</th>\n",
       "      <td>1970-01-01 00:00:45.854000091</td>\n",
       "      <td>448.0</td>\n",
       "      <td>383.0</td>\n",
       "      <td>False</td>\n",
       "      <td>False</td>\n",
       "      <td>True</td>\n",
       "      <td>False</td>\n",
       "      <td>0</td>\n",
       "      <td>C1000_C42A_ChR2_xPVT_F00_S01_P05_N_NON_NON</td>\n",
       "    </tr>\n",
       "    <tr>\n",
       "      <th>1</th>\n",
       "      <td>1970-01-01 00:00:45.963001251</td>\n",
       "      <td>448.0</td>\n",
       "      <td>382.0</td>\n",
       "      <td>False</td>\n",
       "      <td>False</td>\n",
       "      <td>True</td>\n",
       "      <td>False</td>\n",
       "      <td>0</td>\n",
       "      <td>C1000_C42A_ChR2_xPVT_F00_S01_P05_N_NON_NON</td>\n",
       "    </tr>\n",
       "    <tr>\n",
       "      <th>2</th>\n",
       "      <td>1970-01-01 00:00:46.076000213</td>\n",
       "      <td>448.0</td>\n",
       "      <td>382.0</td>\n",
       "      <td>False</td>\n",
       "      <td>False</td>\n",
       "      <td>True</td>\n",
       "      <td>False</td>\n",
       "      <td>0</td>\n",
       "      <td>C1000_C42A_ChR2_xPVT_F00_S01_P05_N_NON_NON</td>\n",
       "    </tr>\n",
       "  </tbody>\n",
       "</table>\n",
       "</div>"
      ],
      "text/plain": [
       "                            time  centre_position_x  centre_position_y   in_t  \\\n",
       "0  1970-01-01 00:00:45.854000091              448.0              383.0  False   \n",
       "1  1970-01-01 00:00:45.963001251              448.0              382.0  False   \n",
       "2  1970-01-01 00:00:46.076000213              448.0              382.0  False   \n",
       "\n",
       "    in_d  in_h   in_v  trace_num                                  session_id  \n",
       "0  False  True  False          0  C1000_C42A_ChR2_xPVT_F00_S01_P05_N_NON_NON  \n",
       "1  False  True  False          0  C1000_C42A_ChR2_xPVT_F00_S01_P05_N_NON_NON  \n",
       "2  False  True  False          0  C1000_C42A_ChR2_xPVT_F00_S01_P05_N_NON_NON  "
      ]
     },
     "execution_count": 10,
     "metadata": {},
     "output_type": "execute_result"
    }
   ],
   "source": [
    "FR_trace_df.drop(columns=['session_zone_(h)','session_zone_(d)', 'session_zone_(v)', 'session_zone_(t)'], inplace=True)\n",
    "FR_trace_df['session_id'] = FR_trace_df['session_id'].astype(str)\n",
    "FR_trace_df.head(3)"
   ]
  },
  {
   "cell_type": "markdown",
   "id": "9a06d329-6f6d-40ea-883a-8aea7b3cc62a",
   "metadata": {},
   "source": [
    "<div style=\"background-color:green; color:white; padding:10px; font-size:20px\">\n",
    "3 - Zone Entry"
   ]
  },
  {
   "cell_type": "code",
   "execution_count": 11,
   "id": "7a3e2d39-dc95-4baf-b2ee-39ff03b2d561",
   "metadata": {
    "tags": []
   },
   "outputs": [],
   "source": [
    "from data_handling import tally_transitions"
   ]
  },
  {
   "cell_type": "markdown",
   "id": "cf4a62e9-6104-4225-849d-ba1745abfdcd",
   "metadata": {},
   "source": [
    "#### mPFC"
   ]
  },
  {
   "cell_type": "code",
   "execution_count": 12,
   "id": "3adc11bd-f493-4fc4-837a-cc13a1b58810",
   "metadata": {
    "tags": []
   },
   "outputs": [
    {
     "data": {
      "text/html": [
       "<div>\n",
       "<style scoped>\n",
       "    .dataframe tbody tr th:only-of-type {\n",
       "        vertical-align: middle;\n",
       "    }\n",
       "\n",
       "    .dataframe tbody tr th {\n",
       "        vertical-align: top;\n",
       "    }\n",
       "\n",
       "    .dataframe thead th {\n",
       "        text-align: right;\n",
       "    }\n",
       "</style>\n",
       "<table border=\"1\" class=\"dataframe\">\n",
       "  <thead>\n",
       "    <tr style=\"text-align: right;\">\n",
       "      <th></th>\n",
       "      <th>time</th>\n",
       "      <th>centre_position_x</th>\n",
       "      <th>centre_position_y</th>\n",
       "      <th>in_t</th>\n",
       "      <th>in_d</th>\n",
       "      <th>in_h</th>\n",
       "      <th>in_v</th>\n",
       "      <th>trace_num</th>\n",
       "      <th>session_id</th>\n",
       "      <th>t_total</th>\n",
       "      <th>d_total</th>\n",
       "      <th>h_total</th>\n",
       "      <th>v_total</th>\n",
       "    </tr>\n",
       "  </thead>\n",
       "  <tbody>\n",
       "    <tr>\n",
       "      <th>0</th>\n",
       "      <td>1970-01-01 00:00:10.340999603</td>\n",
       "      <td>143.0</td>\n",
       "      <td>163.0</td>\n",
       "      <td>True</td>\n",
       "      <td>False</td>\n",
       "      <td>False</td>\n",
       "      <td>False</td>\n",
       "      <td>0</td>\n",
       "      <td>C58_R10_ChR2_mPFC_30Hz_S01_P02_N_NON_NON</td>\n",
       "      <td>0</td>\n",
       "      <td>0</td>\n",
       "      <td>0</td>\n",
       "      <td>0</td>\n",
       "    </tr>\n",
       "    <tr>\n",
       "      <th>1</th>\n",
       "      <td>1970-01-01 00:00:10.373999595</td>\n",
       "      <td>143.0</td>\n",
       "      <td>163.0</td>\n",
       "      <td>True</td>\n",
       "      <td>False</td>\n",
       "      <td>False</td>\n",
       "      <td>False</td>\n",
       "      <td>0</td>\n",
       "      <td>C58_R10_ChR2_mPFC_30Hz_S01_P02_N_NON_NON</td>\n",
       "      <td>0</td>\n",
       "      <td>0</td>\n",
       "      <td>0</td>\n",
       "      <td>0</td>\n",
       "    </tr>\n",
       "    <tr>\n",
       "      <th>2</th>\n",
       "      <td>1970-01-01 00:00:10.440999984</td>\n",
       "      <td>143.0</td>\n",
       "      <td>163.0</td>\n",
       "      <td>True</td>\n",
       "      <td>False</td>\n",
       "      <td>False</td>\n",
       "      <td>False</td>\n",
       "      <td>0</td>\n",
       "      <td>C58_R10_ChR2_mPFC_30Hz_S01_P02_N_NON_NON</td>\n",
       "      <td>0</td>\n",
       "      <td>0</td>\n",
       "      <td>0</td>\n",
       "      <td>0</td>\n",
       "    </tr>\n",
       "  </tbody>\n",
       "</table>\n",
       "</div>"
      ],
      "text/plain": [
       "                            time  centre_position_x  centre_position_y  in_t  \\\n",
       "0  1970-01-01 00:00:10.340999603              143.0              163.0  True   \n",
       "1  1970-01-01 00:00:10.373999595              143.0              163.0  True   \n",
       "2  1970-01-01 00:00:10.440999984              143.0              163.0  True   \n",
       "\n",
       "    in_d   in_h   in_v  trace_num                                session_id  \\\n",
       "0  False  False  False          0  C58_R10_ChR2_mPFC_30Hz_S01_P02_N_NON_NON   \n",
       "1  False  False  False          0  C58_R10_ChR2_mPFC_30Hz_S01_P02_N_NON_NON   \n",
       "2  False  False  False          0  C58_R10_ChR2_mPFC_30Hz_S01_P02_N_NON_NON   \n",
       "\n",
       "   t_total  d_total  h_total  v_total  \n",
       "0        0        0        0        0  \n",
       "1        0        0        0        0  \n",
       "2        0        0        0        0  "
      ]
     },
     "execution_count": 12,
     "metadata": {},
     "output_type": "execute_result"
    }
   ],
   "source": [
    "DF = mPFC_trace_df\n",
    "T_COL_IDX = 3\n",
    "D_COL_IDX = 4\n",
    "H_COL_IDX = 5\n",
    "V_COL_IDX = 6\n",
    "\n",
    "mPFC_zone_entries = tally_transitions(df = DF,\n",
    "                                       T_COL_IDX = T_COL_IDX,\n",
    "                                       D_COL_IDX = D_COL_IDX,\n",
    "                                       H_COL_IDX = H_COL_IDX,\n",
    "                                       V_COL_IDX = V_COL_IDX)\n",
    "mPFC_zone_entries.head(3)"
   ]
  },
  {
   "cell_type": "markdown",
   "id": "c20e5cdf-dd5d-4735-8ffd-090c966434f2",
   "metadata": {},
   "source": [
    "#### FR"
   ]
  },
  {
   "cell_type": "code",
   "execution_count": 13,
   "id": "aa98feb7-626b-419b-a07f-42daea2e405c",
   "metadata": {
    "tags": []
   },
   "outputs": [
    {
     "data": {
      "text/html": [
       "<div>\n",
       "<style scoped>\n",
       "    .dataframe tbody tr th:only-of-type {\n",
       "        vertical-align: middle;\n",
       "    }\n",
       "\n",
       "    .dataframe tbody tr th {\n",
       "        vertical-align: top;\n",
       "    }\n",
       "\n",
       "    .dataframe thead th {\n",
       "        text-align: right;\n",
       "    }\n",
       "</style>\n",
       "<table border=\"1\" class=\"dataframe\">\n",
       "  <thead>\n",
       "    <tr style=\"text-align: right;\">\n",
       "      <th></th>\n",
       "      <th>time</th>\n",
       "      <th>centre_position_x</th>\n",
       "      <th>centre_position_y</th>\n",
       "      <th>in_t</th>\n",
       "      <th>in_d</th>\n",
       "      <th>in_h</th>\n",
       "      <th>in_v</th>\n",
       "      <th>trace_num</th>\n",
       "      <th>session_id</th>\n",
       "      <th>t_total</th>\n",
       "      <th>d_total</th>\n",
       "      <th>h_total</th>\n",
       "      <th>v_total</th>\n",
       "    </tr>\n",
       "  </thead>\n",
       "  <tbody>\n",
       "    <tr>\n",
       "      <th>0</th>\n",
       "      <td>1970-01-01 00:00:45.854000091</td>\n",
       "      <td>448.0</td>\n",
       "      <td>383.0</td>\n",
       "      <td>False</td>\n",
       "      <td>False</td>\n",
       "      <td>True</td>\n",
       "      <td>False</td>\n",
       "      <td>0</td>\n",
       "      <td>C1000_C42A_ChR2_xPVT_F00_S01_P05_N_NON_NON</td>\n",
       "      <td>0</td>\n",
       "      <td>0</td>\n",
       "      <td>0</td>\n",
       "      <td>0</td>\n",
       "    </tr>\n",
       "    <tr>\n",
       "      <th>1</th>\n",
       "      <td>1970-01-01 00:00:45.963001251</td>\n",
       "      <td>448.0</td>\n",
       "      <td>382.0</td>\n",
       "      <td>False</td>\n",
       "      <td>False</td>\n",
       "      <td>True</td>\n",
       "      <td>False</td>\n",
       "      <td>0</td>\n",
       "      <td>C1000_C42A_ChR2_xPVT_F00_S01_P05_N_NON_NON</td>\n",
       "      <td>0</td>\n",
       "      <td>0</td>\n",
       "      <td>0</td>\n",
       "      <td>0</td>\n",
       "    </tr>\n",
       "    <tr>\n",
       "      <th>2</th>\n",
       "      <td>1970-01-01 00:00:46.076000213</td>\n",
       "      <td>448.0</td>\n",
       "      <td>382.0</td>\n",
       "      <td>False</td>\n",
       "      <td>False</td>\n",
       "      <td>True</td>\n",
       "      <td>False</td>\n",
       "      <td>0</td>\n",
       "      <td>C1000_C42A_ChR2_xPVT_F00_S01_P05_N_NON_NON</td>\n",
       "      <td>0</td>\n",
       "      <td>0</td>\n",
       "      <td>0</td>\n",
       "      <td>0</td>\n",
       "    </tr>\n",
       "  </tbody>\n",
       "</table>\n",
       "</div>"
      ],
      "text/plain": [
       "                            time  centre_position_x  centre_position_y   in_t  \\\n",
       "0  1970-01-01 00:00:45.854000091              448.0              383.0  False   \n",
       "1  1970-01-01 00:00:45.963001251              448.0              382.0  False   \n",
       "2  1970-01-01 00:00:46.076000213              448.0              382.0  False   \n",
       "\n",
       "    in_d  in_h   in_v  trace_num                                  session_id  \\\n",
       "0  False  True  False          0  C1000_C42A_ChR2_xPVT_F00_S01_P05_N_NON_NON   \n",
       "1  False  True  False          0  C1000_C42A_ChR2_xPVT_F00_S01_P05_N_NON_NON   \n",
       "2  False  True  False          0  C1000_C42A_ChR2_xPVT_F00_S01_P05_N_NON_NON   \n",
       "\n",
       "   t_total  d_total  h_total  v_total  \n",
       "0        0        0        0        0  \n",
       "1        0        0        0        0  \n",
       "2        0        0        0        0  "
      ]
     },
     "execution_count": 13,
     "metadata": {},
     "output_type": "execute_result"
    }
   ],
   "source": [
    "DF = FR_trace_df\n",
    "T_COL_IDX = 3\n",
    "D_COL_IDX = 4\n",
    "H_COL_IDX = 5\n",
    "V_COL_IDX = 6\n",
    "\n",
    "FR_zone_entries = tally_transitions(df = DF,\n",
    "                                       T_COL_IDX = T_COL_IDX,\n",
    "                                       D_COL_IDX = D_COL_IDX,\n",
    "                                       H_COL_IDX = H_COL_IDX,\n",
    "                                       V_COL_IDX = V_COL_IDX)\n",
    "FR_zone_entries.head(3)"
   ]
  },
  {
   "cell_type": "markdown",
   "id": "6cc75360-06c4-4bb7-9525-896486323d79",
   "metadata": {},
   "source": [
    "<div style=\"background-color:green; color:white; padding:10px; font-size:20px\">\n",
    "4 - Trace Distance & Area"
   ]
  },
  {
   "cell_type": "code",
   "execution_count": 49,
   "id": "9c9d7af3-e848-4e92-a76a-5b53db6c9012",
   "metadata": {
    "tags": []
   },
   "outputs": [],
   "source": [
    "from data_handling import calculate_trace_length, calculate_area_span"
   ]
  },
  {
   "cell_type": "markdown",
   "id": "30c64fc5-87ce-41f1-8dec-6cfafa0afd87",
   "metadata": {},
   "source": [
    "#### mPFC"
   ]
  },
  {
   "cell_type": "code",
   "execution_count": 40,
   "id": "700d9a50-55f2-4ee1-9ea9-a84829a33014",
   "metadata": {
    "tags": []
   },
   "outputs": [
    {
     "data": {
      "text/html": [
       "<div>\n",
       "<style scoped>\n",
       "    .dataframe tbody tr th:only-of-type {\n",
       "        vertical-align: middle;\n",
       "    }\n",
       "\n",
       "    .dataframe tbody tr th {\n",
       "        vertical-align: top;\n",
       "    }\n",
       "\n",
       "    .dataframe thead th {\n",
       "        text-align: right;\n",
       "    }\n",
       "</style>\n",
       "<table border=\"1\" class=\"dataframe\">\n",
       "  <thead>\n",
       "    <tr style=\"text-align: right;\">\n",
       "      <th></th>\n",
       "      <th>session_id</th>\n",
       "      <th>trace_num</th>\n",
       "      <th>trace_length</th>\n",
       "      <th>xy_area_span</th>\n",
       "    </tr>\n",
       "  </thead>\n",
       "  <tbody>\n",
       "    <tr>\n",
       "      <th>0</th>\n",
       "      <td>C58_R10_ChR2_mPFC_30Hz_S01_P02_N_NON_NON</td>\n",
       "      <td>0</td>\n",
       "      <td>190.933121</td>\n",
       "      <td>60.27</td>\n",
       "    </tr>\n",
       "    <tr>\n",
       "      <th>1</th>\n",
       "      <td>C58_R10_ChR2_mPFC_30Hz_S01_P02_N_NON_NON</td>\n",
       "      <td>1</td>\n",
       "      <td>211.826843</td>\n",
       "      <td>73.10</td>\n",
       "    </tr>\n",
       "    <tr>\n",
       "      <th>2</th>\n",
       "      <td>C58_R10_ChR2_mPFC_30Hz_S01_P02_N_NON_NON</td>\n",
       "      <td>2</td>\n",
       "      <td>380.396942</td>\n",
       "      <td>363.12</td>\n",
       "    </tr>\n",
       "  </tbody>\n",
       "</table>\n",
       "</div>"
      ],
      "text/plain": [
       "                                 session_id  trace_num  trace_length  \\\n",
       "0  C58_R10_ChR2_mPFC_30Hz_S01_P02_N_NON_NON          0    190.933121   \n",
       "1  C58_R10_ChR2_mPFC_30Hz_S01_P02_N_NON_NON          1    211.826843   \n",
       "2  C58_R10_ChR2_mPFC_30Hz_S01_P02_N_NON_NON          2    380.396942   \n",
       "\n",
       "   xy_area_span  \n",
       "0         60.27  \n",
       "1         73.10  \n",
       "2        363.12  "
      ]
     },
     "execution_count": 40,
     "metadata": {},
     "output_type": "execute_result"
    }
   ],
   "source": [
    "DF = mPFC_trace_df\n",
    "TIME_COL_IDX = 0\n",
    "X_COL_IDX = 1\n",
    "Y_COL_IDX = 2\n",
    "TRACE_NUM_IDX = 7\n",
    "SESSION_ID_IDX = 8\n",
    "\n",
    "mPFC_trace_len = calculate_trace_length(df = DF,\n",
    "                                         time_col_idx = TIME_COL_IDX,\n",
    "                                         x_col_idx = X_COL_IDX,\n",
    "                                         y_col_idx = Y_COL_IDX,\n",
    "                                         trace_num_idx = TRACE_NUM_IDX,\n",
    "                                         session_id_idx = SESSION_ID_IDX)\n",
    "\n",
    "mPFC_trace_span = calculate_area_span(df = DF,\n",
    "                                         x_col_idx = X_COL_IDX,\n",
    "                                         y_col_idx = Y_COL_IDX,\n",
    "                                         trace_num_idx = TRACE_NUM_IDX,\n",
    "                                         session_id_idx = SESSION_ID_IDX)\n",
    "\n",
    "mPFC_len_span_df = pd.merge(mPFC_trace_len, mPFC_trace_span, on=['session_id', 'trace_num'])\n",
    "mPFC_len_span_df.head(3)"
   ]
  },
  {
   "cell_type": "markdown",
   "id": "234f09a1-175c-44fe-9e6d-a9f5ada3d237",
   "metadata": {},
   "source": [
    "#### FR"
   ]
  },
  {
   "cell_type": "code",
   "execution_count": 50,
   "id": "7536758d-f76f-49c8-9fab-ce0e797da03c",
   "metadata": {
    "tags": []
   },
   "outputs": [
    {
     "data": {
      "text/html": [
       "<div>\n",
       "<style scoped>\n",
       "    .dataframe tbody tr th:only-of-type {\n",
       "        vertical-align: middle;\n",
       "    }\n",
       "\n",
       "    .dataframe tbody tr th {\n",
       "        vertical-align: top;\n",
       "    }\n",
       "\n",
       "    .dataframe thead th {\n",
       "        text-align: right;\n",
       "    }\n",
       "</style>\n",
       "<table border=\"1\" class=\"dataframe\">\n",
       "  <thead>\n",
       "    <tr style=\"text-align: right;\">\n",
       "      <th></th>\n",
       "      <th>session_id</th>\n",
       "      <th>trace_num</th>\n",
       "      <th>trace_length</th>\n",
       "      <th>xy_area_span</th>\n",
       "    </tr>\n",
       "  </thead>\n",
       "  <tbody>\n",
       "    <tr>\n",
       "      <th>0</th>\n",
       "      <td>C1000_C42A_ChR2_xPVT_F00_S01_P05_N_NON_NON</td>\n",
       "      <td>0</td>\n",
       "      <td>374.319794</td>\n",
       "      <td>503.70</td>\n",
       "    </tr>\n",
       "    <tr>\n",
       "      <th>1</th>\n",
       "      <td>C1000_C42A_ChR2_xPVT_F00_S01_P05_N_NON_NON</td>\n",
       "      <td>1</td>\n",
       "      <td>347.604828</td>\n",
       "      <td>140.42</td>\n",
       "    </tr>\n",
       "    <tr>\n",
       "      <th>2</th>\n",
       "      <td>C1000_C42A_ChR2_xPVT_F00_S01_P05_N_NON_NON</td>\n",
       "      <td>2</td>\n",
       "      <td>342.018097</td>\n",
       "      <td>178.88</td>\n",
       "    </tr>\n",
       "  </tbody>\n",
       "</table>\n",
       "</div>"
      ],
      "text/plain": [
       "                                   session_id  trace_num  trace_length  \\\n",
       "0  C1000_C42A_ChR2_xPVT_F00_S01_P05_N_NON_NON          0    374.319794   \n",
       "1  C1000_C42A_ChR2_xPVT_F00_S01_P05_N_NON_NON          1    347.604828   \n",
       "2  C1000_C42A_ChR2_xPVT_F00_S01_P05_N_NON_NON          2    342.018097   \n",
       "\n",
       "   xy_area_span  \n",
       "0        503.70  \n",
       "1        140.42  \n",
       "2        178.88  "
      ]
     },
     "execution_count": 50,
     "metadata": {},
     "output_type": "execute_result"
    }
   ],
   "source": [
    "DF = FR_trace_df\n",
    "TIME_COL_IDX = 0\n",
    "X_COL_IDX = 1\n",
    "Y_COL_IDX = 2\n",
    "TRACE_NUM_IDX = 7\n",
    "SESSION_ID_IDX = 8\n",
    "\n",
    "FR_trace_len = calculate_trace_length(df = DF,\n",
    "                                         time_col_idx = TIME_COL_IDX,\n",
    "                                         x_col_idx = X_COL_IDX,\n",
    "                                         y_col_idx = Y_COL_IDX,\n",
    "                                         trace_num_idx = TRACE_NUM_IDX,\n",
    "                                         session_id_idx = SESSION_ID_IDX)\n",
    "\n",
    "FR_trace_span = calculate_area_span(df = DF,\n",
    "                                         x_col_idx = X_COL_IDX,\n",
    "                                         y_col_idx = Y_COL_IDX,\n",
    "                                         trace_num_idx = TRACE_NUM_IDX,\n",
    "                                         session_id_idx = SESSION_ID_IDX)\n",
    "\n",
    "FR_len_span_df = pd.merge(FR_trace_len, FR_trace_span, on=['session_id', 'trace_num'])\n",
    "FR_len_span_df.head(3)"
   ]
  },
  {
   "cell_type": "markdown",
   "id": "8a939839-aa4e-485d-b3b4-8e5fd38a02aa",
   "metadata": {},
   "source": [
    "<div style=\"background-color:green; color:white; padding:10px; font-size:20px\">\n",
    "5 - Save"
   ]
  },
  {
   "cell_type": "markdown",
   "id": "26b01ae0-bdc9-4184-a2b2-9382737e6791",
   "metadata": {},
   "source": [
    "#### mPFC"
   ]
  },
  {
   "cell_type": "code",
   "execution_count": 14,
   "id": "e7e92013-bbdb-4c5d-9215-60e7665b638e",
   "metadata": {
    "tags": []
   },
   "outputs": [
    {
     "data": {
      "text/plain": [
       "{'ResponseMetadata': {'RequestId': 'TP1790GPYGH821GV',\n",
       "  'HostId': 'GAzL/tlMk5q1NCtwpgl5MOrXMow6UQnX2aTQM6dXSDWHqd1XlJrTSzBuw5Z+ofP6AcL0Qr1ZMJE=',\n",
       "  'HTTPStatusCode': 200,\n",
       "  'HTTPHeaders': {'x-amz-id-2': 'GAzL/tlMk5q1NCtwpgl5MOrXMow6UQnX2aTQM6dXSDWHqd1XlJrTSzBuw5Z+ofP6AcL0Qr1ZMJE=',\n",
       "   'x-amz-request-id': 'TP1790GPYGH821GV',\n",
       "   'date': 'Wed, 23 Aug 2023 16:22:38 GMT',\n",
       "   'x-amz-server-side-encryption': 'AES256',\n",
       "   'etag': '\"77e4ae88dfc9681aa905156faeb6cf63\"',\n",
       "   'server': 'AmazonS3',\n",
       "   'content-length': '0'},\n",
       "  'RetryAttempts': 0},\n",
       " 'ETag': '\"77e4ae88dfc9681aa905156faeb6cf63\"',\n",
       " 'ServerSideEncryption': 'AES256'}"
      ]
     },
     "execution_count": 14,
     "metadata": {},
     "output_type": "execute_result"
    }
   ],
   "source": [
    "FILE = mPFC_zone_entries\n",
    "S3_DIR_PATH = \"s3://behavior-project/processed-data/processed-data/zone-entry-dfs/\"\n",
    "FILE_NAME = 'mpfc-zone-entries-df.csv'\n",
    "\n",
    "# Split the s3_path into bucket_name and prefix\n",
    "bucket_name, prefix = S3_DIR_PATH.replace(\"s3://\", \"\").split(\"/\", 1)\n",
    "file_path = f\"{prefix}/{FILE_NAME}\"\n",
    "\n",
    "# Create a CSV buffer\n",
    "csv_buffer = StringIO()\n",
    "\n",
    "# Convert the dataframe to CSV and write it to the buffer\n",
    "FILE.to_csv(csv_buffer, index=False)\n",
    "\n",
    "# Upload the CSV file to S3\n",
    "s3.put_object(Bucket=bucket_name, Key=file_path, Body=csv_buffer.getvalue())"
   ]
  },
  {
   "cell_type": "code",
   "execution_count": 53,
   "id": "95d339e1-1d9e-46ce-bcb3-3808b7b3b826",
   "metadata": {
    "tags": []
   },
   "outputs": [
    {
     "data": {
      "text/plain": [
       "{'ResponseMetadata': {'RequestId': '3CNNQR1DFNXZDR1T',\n",
       "  'HostId': 'JP/Wk4sHesF2vkCVclXrcaFSLbUFWar9a15oMq19gcGtMVObYxyaYo4f6+p3Tv+DReZ3WVtpmrw=',\n",
       "  'HTTPStatusCode': 200,\n",
       "  'HTTPHeaders': {'x-amz-id-2': 'JP/Wk4sHesF2vkCVclXrcaFSLbUFWar9a15oMq19gcGtMVObYxyaYo4f6+p3Tv+DReZ3WVtpmrw=',\n",
       "   'x-amz-request-id': '3CNNQR1DFNXZDR1T',\n",
       "   'date': 'Wed, 09 Aug 2023 19:03:18 GMT',\n",
       "   'x-amz-server-side-encryption': 'AES256',\n",
       "   'etag': '\"6664cf6c6cf1acfde9e9a4ee6174ab01\"',\n",
       "   'server': 'AmazonS3',\n",
       "   'content-length': '0'},\n",
       "  'RetryAttempts': 0},\n",
       " 'ETag': '\"6664cf6c6cf1acfde9e9a4ee6174ab01\"',\n",
       " 'ServerSideEncryption': 'AES256'}"
      ]
     },
     "execution_count": 53,
     "metadata": {},
     "output_type": "execute_result"
    }
   ],
   "source": [
    "FILE = mPFC_len_span_df\n",
    "S3_DIR_PATH = \"s3://behavior-project/processed-data/processed-data/trace-metric-dfs/\"\n",
    "FILE_NAME = 'mpfc-len-span-df.csv'\n",
    "\n",
    "# Split the s3_path into bucket_name and prefix\n",
    "bucket_name, prefix = S3_DIR_PATH.replace(\"s3://\", \"\").split(\"/\", 1)\n",
    "file_path = f\"{prefix}/{FILE_NAME}\"\n",
    "\n",
    "# Create a CSV buffer\n",
    "csv_buffer = StringIO()\n",
    "\n",
    "# Convert the dataframe to CSV and write it to the buffer\n",
    "FILE.to_csv(csv_buffer, index=False)\n",
    "\n",
    "# Upload the CSV file to S3\n",
    "s3.put_object(Bucket=bucket_name, Key=file_path, Body=csv_buffer.getvalue())"
   ]
  },
  {
   "cell_type": "markdown",
   "id": "a08d2608-6750-4f13-9f3a-c4ce6a214b9e",
   "metadata": {},
   "source": [
    "#### FR"
   ]
  },
  {
   "cell_type": "code",
   "execution_count": 15,
   "id": "dc61d74a-0c90-426b-ab81-1e50dfa2d33a",
   "metadata": {
    "tags": []
   },
   "outputs": [
    {
     "data": {
      "text/plain": [
       "{'ResponseMetadata': {'RequestId': '9EWDVH5WVZ5295XG',\n",
       "  'HostId': 'd+Xukyhq/kfW4tUrsUxm3gVPDroWdOwbwYzgL2754Lvk695qCuyFxmAujtPgcjL9vVDiQ30ueFE=',\n",
       "  'HTTPStatusCode': 200,\n",
       "  'HTTPHeaders': {'x-amz-id-2': 'd+Xukyhq/kfW4tUrsUxm3gVPDroWdOwbwYzgL2754Lvk695qCuyFxmAujtPgcjL9vVDiQ30ueFE=',\n",
       "   'x-amz-request-id': '9EWDVH5WVZ5295XG',\n",
       "   'date': 'Wed, 23 Aug 2023 16:22:48 GMT',\n",
       "   'x-amz-server-side-encryption': 'AES256',\n",
       "   'etag': '\"f3259faf3583115f1551c137a64f0f6d\"',\n",
       "   'server': 'AmazonS3',\n",
       "   'content-length': '0'},\n",
       "  'RetryAttempts': 0},\n",
       " 'ETag': '\"f3259faf3583115f1551c137a64f0f6d\"',\n",
       " 'ServerSideEncryption': 'AES256'}"
      ]
     },
     "execution_count": 15,
     "metadata": {},
     "output_type": "execute_result"
    }
   ],
   "source": [
    "FILE = FR_zone_entries\n",
    "S3_DIR_PATH = \"s3://behavior-project/processed-data/processed-data/zone-entry-dfs/\"\n",
    "FILE_NAME = 'fr-zone-entries-df.csv'\n",
    "\n",
    "# Split the s3_path into bucket_name and prefix\n",
    "bucket_name, prefix = S3_DIR_PATH.replace(\"s3://\", \"\").split(\"/\", 1)\n",
    "file_path = f\"{prefix}/{FILE_NAME}\"\n",
    "\n",
    "# Create a CSV buffer\n",
    "csv_buffer = StringIO()\n",
    "\n",
    "# Convert the dataframe to CSV and write it to the buffer\n",
    "FILE.to_csv(csv_buffer, index=False)\n",
    "\n",
    "# Upload the CSV file to S3\n",
    "s3.put_object(Bucket=bucket_name, Key=file_path, Body=csv_buffer.getvalue())"
   ]
  },
  {
   "cell_type": "code",
   "execution_count": 55,
   "id": "091b7e78-a2a8-4abd-9a7c-13b43a67ed6c",
   "metadata": {
    "tags": []
   },
   "outputs": [
    {
     "data": {
      "text/plain": [
       "{'ResponseMetadata': {'RequestId': 'H7PV1C14X1Y42TEJ',\n",
       "  'HostId': '3aKBcpM6db4mgnCsM7mmGqO3dM2c1Yt83TofSUF48ag7bTJFLoLFNcrwZLVbM8AH7UE7rE0krIM=',\n",
       "  'HTTPStatusCode': 200,\n",
       "  'HTTPHeaders': {'x-amz-id-2': '3aKBcpM6db4mgnCsM7mmGqO3dM2c1Yt83TofSUF48ag7bTJFLoLFNcrwZLVbM8AH7UE7rE0krIM=',\n",
       "   'x-amz-request-id': 'H7PV1C14X1Y42TEJ',\n",
       "   'date': 'Wed, 09 Aug 2023 19:03:23 GMT',\n",
       "   'x-amz-server-side-encryption': 'AES256',\n",
       "   'etag': '\"ed153abe3ace024f4de0ef10e9bb4d31\"',\n",
       "   'server': 'AmazonS3',\n",
       "   'content-length': '0'},\n",
       "  'RetryAttempts': 0},\n",
       " 'ETag': '\"ed153abe3ace024f4de0ef10e9bb4d31\"',\n",
       " 'ServerSideEncryption': 'AES256'}"
      ]
     },
     "execution_count": 55,
     "metadata": {},
     "output_type": "execute_result"
    }
   ],
   "source": [
    "FILE = FR_len_span_df\n",
    "S3_DIR_PATH = \"s3://behavior-project/processed-data/processed-data/trace-metric-dfs/\"\n",
    "FILE_NAME = 'fr-len-span-df.csv'\n",
    "\n",
    "# Split the s3_path into bucket_name and prefix\n",
    "bucket_name, prefix = S3_DIR_PATH.replace(\"s3://\", \"\").split(\"/\", 1)\n",
    "file_path = f\"{prefix}/{FILE_NAME}\"\n",
    "\n",
    "# Create a CSV buffer\n",
    "csv_buffer = StringIO()\n",
    "\n",
    "# Convert the dataframe to CSV and write it to the buffer\n",
    "FILE.to_csv(csv_buffer, index=False)\n",
    "\n",
    "# Upload the CSV file to S3\n",
    "s3.put_object(Bucket=bucket_name, Key=file_path, Body=csv_buffer.getvalue())"
   ]
  },
  {
   "cell_type": "code",
   "execution_count": null,
   "id": "6f45a52b-4591-46a9-9c22-8ca01e16e58e",
   "metadata": {},
   "outputs": [],
   "source": []
  }
 ],
 "metadata": {
  "instance_type": "ml.t3.medium",
  "kernelspec": {
   "display_name": "Python 3 (Data Science)",
   "language": "python",
   "name": "python3__SAGEMAKER_INTERNAL__arn:aws:sagemaker:us-east-1:081325390199:image/datascience-1.0"
  },
  "language_info": {
   "codemirror_mode": {
    "name": "ipython",
    "version": 3
   },
   "file_extension": ".py",
   "mimetype": "text/x-python",
   "name": "python",
   "nbconvert_exporter": "python",
   "pygments_lexer": "ipython3",
   "version": "3.7.10"
  }
 },
 "nbformat": 4,
 "nbformat_minor": 5
}
